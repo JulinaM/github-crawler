{
 "cells": [
  {
   "cell_type": "code",
   "execution_count": 1,
   "metadata": {
    "pycharm": {
     "name": "#%%\n"
    }
   },
   "outputs": [
    {
     "name": "stdout",
     "output_type": "stream",
     "text": [
      "Tue Dec 13 14:17:42 2022       \n",
      "+-----------------------------------------------------------------------------+\n",
      "| NVIDIA-SMI 460.32.03    Driver Version: 460.32.03    CUDA Version: 11.2     |\n",
      "|-------------------------------+----------------------+----------------------+\n",
      "| GPU  Name        Persistence-M| Bus-Id        Disp.A | Volatile Uncorr. ECC |\n",
      "| Fan  Temp  Perf  Pwr:Usage/Cap|         Memory-Usage | GPU-Util  Compute M. |\n",
      "|                               |                      |               MIG M. |\n",
      "|===============================+======================+======================|\n",
      "|   0  TITAN X (Pascal)    Off  | 00000000:03:00.0 Off |                  N/A |\n",
      "| 23%   38C    P8    10W / 250W |    105MiB / 12188MiB |      0%      Default |\n",
      "|                               |                      |                  N/A |\n",
      "+-------------------------------+----------------------+----------------------+\n",
      "|   1  Quadro P6000        Off  | 00000000:81:00.0 Off |                  Off |\n",
      "| 26%   34C    P8     8W / 250W |   1615MiB / 24449MiB |      0%      Default |\n",
      "|                               |                      |                  N/A |\n",
      "+-------------------------------+----------------------+----------------------+\n",
      "                                                                               \n",
      "+-----------------------------------------------------------------------------+\n",
      "| Processes:                                                                  |\n",
      "|  GPU   GI   CI        PID   Type   Process name                  GPU Memory |\n",
      "|        ID   ID                                                   Usage      |\n",
      "|=============================================================================|\n",
      "|    0   N/A  N/A      2182      G   /usr/lib/xorg/Xorg                 39MiB |\n",
      "|    0   N/A  N/A      2942      G   /usr/bin/gnome-shell               60MiB |\n",
      "|    1   N/A  N/A     10195      C   .../envs/crawler/bin/python3     1611MiB |\n",
      "+-----------------------------------------------------------------------------+\n"
     ]
    }
   ],
   "source": [
    " !nvidia-smi"
   ]
  },
  {
   "cell_type": "code",
   "execution_count": 2,
   "metadata": {},
   "outputs": [],
   "source": [
    "import sys\n",
    "sys.path.append('../')"
   ]
  },
  {
   "cell_type": "code",
   "execution_count": 3,
   "metadata": {
    "pycharm": {
     "name": "#%%\n"
    }
   },
   "outputs": [
    {
     "name": "stderr",
     "output_type": "stream",
     "text": [
      "/users/kent/jmaharja/anaconda3/envs/crawler/lib/python3.9/site-packages/tqdm/auto.py:22: TqdmWarning: IProgress not found. Please update jupyter and ipywidgets. See https://ipywidgets.readthedocs.io/en/stable/user_install.html\n",
      "  from .autonotebook import tqdm as notebook_tqdm\n"
     ]
    }
   ],
   "source": [
    "# from utils.cloudant_utils import cloudant_db as db\n",
    "import numpy as np\n",
    "import pandas as pd\n",
    "from datetime import datetime\n",
    "from sklearn.model_selection import train_test_split\n",
    "import torch\n",
    "from torch.utils.data import Dataset, DataLoader\n",
    "from transformers import BertTokenizer, BertModel\n",
    "from transformers import BertForSequenceClassification, AdamW, BertConfig\n",
    "from transformers import get_linear_schedule_with_warmup\n",
    "from torch import nn\n",
    "from collections import defaultdict\n",
    "import torch.nn.functional as F\n",
    "from sklearn.metrics import roc_auc_score\n",
    "from sklearn.metrics import roc_curve\n",
    "import matplotlib.pyplot as plt\n",
    "from prepare_sequence import prepareSequenceForBERT\n",
    "import random\n",
    "from tqdm.auto import tqdm"
   ]
  },
  {
   "cell_type": "code",
   "execution_count": 4,
   "metadata": {},
   "outputs": [],
   "source": [
    "torch.cuda.empty_cache()\n",
    "# torch.cuda.memory_summary(device=None, abbreviated=False)"
   ]
  },
  {
   "cell_type": "code",
   "execution_count": 5,
   "metadata": {
    "pycharm": {
     "name": "#%%\n"
    }
   },
   "outputs": [],
   "source": [
    "BATCH_SIZE = 16\n",
    "MAX_LEN = 512\n",
    "EPOCHS = 16\n",
    "RANDOM_SEED = 42\n",
    "model_name = 'bert-base-uncased'"
   ]
  },
  {
   "cell_type": "markdown",
   "metadata": {
    "pycharm": {
     "name": "#%% md\n"
    }
   },
   "source": []
  },
  {
   "cell_type": "code",
   "execution_count": 6,
   "metadata": {},
   "outputs": [],
   "source": [
    "# repos = [r for r in db.get_query_result({\"type\": \"release\"}, [\"_id\", \"releases\"], limit=10000, raw_result=True)[\"docs\"]]\n",
    "# values = [r for release in repos for r in release[\"releases\"]]\n",
    "# df = pd.DataFrame(values)\n",
    "# df['contributors'] = df['contributors'].apply(lambda x:\n",
    "#                                               [i for i in x if i is not None] if isinstance(x, list)\n",
    "#                                               else [])\n",
    "# df = df[~df['readme'].isnull()]\n",
    "# new_df = df.groupby(\"repo\").agg({\"readme\": list,\n",
    "#                                  \"total_stars\": list,\n",
    "# #                                  \"forks\": sum,\n",
    "# #                                  \"downloads\": sum,\n",
    "# #                                  \"contributors\": sum\n",
    "# #                                  \"releases\": count\n",
    "#                                 })\n",
    "# new_df = new_df[new_df['readme'].map(len) > 1]\n",
    "# # new_df = new_df[:10]\n",
    "# new_df['k'] = new_df['total_stars'].map(lambda x: random.randint(2, len(x)))\n",
    "# new_df['readme1'] = new_df.apply(lambda x: x.readme[:x.k], axis=1)\n",
    "# new_df['target_val'] = new_df.apply(lambda x: x.total_stars[x.k-1], axis=1)\n",
    "# new_df['sequence']= new_df['readme1'].apply(prepareSequenceForBERT)\n",
    "# new_df['target'] = new_df.apply(lambda x: 1 if x.target_val> 600 else 0, axis=1)"
   ]
  },
  {
   "cell_type": "code",
   "execution_count": 7,
   "metadata": {},
   "outputs": [],
   "source": [
    "new_df = pd.read_csv('csv/inputForBERT_2022_09_21-09_14PM.csv') "
   ]
  },
  {
   "cell_type": "code",
   "execution_count": 8,
   "metadata": {},
   "outputs": [
    {
     "data": {
      "text/plain": [
       "0    2687\n",
       "1     509\n",
       "Name: target, dtype: int64"
      ]
     },
     "execution_count": 8,
     "metadata": {},
     "output_type": "execute_result"
    }
   ],
   "source": [
    "new_df['target'].value_counts()"
   ]
  },
  {
   "cell_type": "code",
   "execution_count": 9,
   "metadata": {
    "pycharm": {
     "name": "#%%\n"
    }
   },
   "outputs": [],
   "source": [
    "class ReadmeDataSet(Dataset):\n",
    "   def __init__(self, _df, tokenizer, max_len):\n",
    "      self._df = _df\n",
    "      self.tokenizer = tokenizer\n",
    "      self.max_len = max_len\n",
    "\n",
    "   def __len__(self):\n",
    "      return len(self._df)\n",
    "\n",
    "   def __getitem__(self, item):\n",
    "      _sequence = self._df.iloc[item]['sequence']\n",
    "      target = self._df.iloc[item]['target']\n",
    "      encoding = self.tokenizer.encode_plus(_sequence,\n",
    "                                     None,\n",
    "                                     max_length = self.max_len,\n",
    "                                     truncation=True,\n",
    "                                     add_special_tokens=True,\n",
    "                                     padding='max_length',\n",
    "                                     return_token_type_ids=True)\n",
    "\n",
    "      return {\n",
    "      'sequence': _sequence,\n",
    "      'input_ids': torch.tensor(encoding.input_ids, dtype=torch.long),\n",
    "      'attention_mask':  torch.tensor(encoding.attention_mask, dtype=torch.long),\n",
    "      'token_type_ids': torch.tensor(encoding.token_type_ids, dtype=torch.long),\n",
    "      'targets': torch.tensor(target, dtype=torch.long)\n",
    "      }"
   ]
  },
  {
   "cell_type": "code",
   "execution_count": 10,
   "metadata": {
    "pycharm": {
     "name": "#%%\n"
    }
   },
   "outputs": [],
   "source": [
    "def create_data_loader(_df, tokenizer, max_len, batch_size):\n",
    "   ds = ReadmeDataSet(_df = _df, tokenizer=tokenizer, max_len=max_len)\n",
    "   return DataLoader(ds, batch_size=batch_size, num_workers=0)"
   ]
  },
  {
   "cell_type": "code",
   "execution_count": 11,
   "metadata": {},
   "outputs": [],
   "source": [
    "class BertForRepoClassification(nn.Module):\n",
    "    def __init__(self, n_classes):\n",
    "        super(BertForRepoClassification, self).__init__()\n",
    "        self.model = BertModel.from_pretrained('bert-base-uncased')\n",
    "        self.drop_out = nn.Dropout(0.5)\n",
    "#         self.pre_classifier = torch.nn.Linear(768, 768)\n",
    "        self.classifier = nn.Linear(768, n_classes)\n",
    "        \n",
    "    def forward(self, input_ids, attention_mask,token_type_ids):\n",
    "        outputs = self.model(input_ids=input_ids, attention_mask=attention_mask,token_type_ids=token_type_ids)\n",
    "#         last_hidden_state = last_hidden_state[:, 0]\n",
    "#         print(outputs)\n",
    "#         print(pooled_output.shape)\n",
    "        pooled_output = self.drop_out(outputs.pooler_output)\n",
    "        output = self.classifier(pooled_output)\n",
    "        return output"
   ]
  },
  {
   "cell_type": "markdown",
   "metadata": {
    "pycharm": {
     "name": "#%% md\n"
    }
   },
   "source": [
    "Import BERT Tokenizer and BERT Model"
   ]
  },
  {
   "cell_type": "code",
   "execution_count": 12,
   "metadata": {
    "pycharm": {
     "name": "#%%\n"
    }
   },
   "outputs": [
    {
     "name": "stderr",
     "output_type": "stream",
     "text": [
      "Some weights of the model checkpoint at bert-base-uncased were not used when initializing BertModel: ['cls.predictions.transform.LayerNorm.weight', 'cls.seq_relationship.bias', 'cls.predictions.bias', 'cls.seq_relationship.weight', 'cls.predictions.transform.LayerNorm.bias', 'cls.predictions.transform.dense.bias', 'cls.predictions.transform.dense.weight', 'cls.predictions.decoder.weight']\n",
      "- This IS expected if you are initializing BertModel from the checkpoint of a model trained on another task or with another architecture (e.g. initializing a BertForSequenceClassification model from a BertForPreTraining model).\n",
      "- This IS NOT expected if you are initializing BertModel from the checkpoint of a model that you expect to be exactly identical (initializing a BertForSequenceClassification model from a BertForSequenceClassification model).\n"
     ]
    }
   ],
   "source": [
    "bert_tokenizer = BertTokenizer.from_pretrained('bert-base-uncased', do_lower_case=True)\n",
    "# bert_model = BertForSequenceClassification.from_pretrained('bert-base-uncased',\n",
    "#                                                       num_labels=2,\n",
    "#                                                       output_attentions= False,\n",
    "#                                                       output_hidden_states= False)\n",
    "bert_model = BertForRepoClassification(2)"
   ]
  },
  {
   "cell_type": "code",
   "execution_count": 13,
   "metadata": {
    "pycharm": {
     "name": "#%%\n"
    }
   },
   "outputs": [
    {
     "data": {
      "text/plain": [
       "((1917, 8), (639, 8), (640, 8))"
      ]
     },
     "execution_count": 13,
     "metadata": {},
     "output_type": "execute_result"
    }
   ],
   "source": [
    "np.random.seed(RANDOM_SEED)\n",
    "torch.manual_seed(RANDOM_SEED)\n",
    "device = torch.device(\"cuda:0\" if torch.cuda.is_available() else \"cpu\")\n",
    "\n",
    "df_train, df_test = train_test_split(new_df, test_size=0.4, random_state=RANDOM_SEED)\n",
    "df_val, df_test = train_test_split(df_test, test_size=0.5, random_state=RANDOM_SEED)\n",
    "df_train.shape, df_val.shape, df_test.shape"
   ]
  },
  {
   "cell_type": "code",
   "execution_count": 14,
   "metadata": {
    "pycharm": {
     "name": "#%%\n"
    }
   },
   "outputs": [
    {
     "data": {
      "text/plain": [
       "((3196, 8), (1917, 8), (639, 8), (640, 8))"
      ]
     },
     "execution_count": 14,
     "metadata": {},
     "output_type": "execute_result"
    }
   ],
   "source": [
    "train_data_loader = create_data_loader(df_train, bert_tokenizer, MAX_LEN, BATCH_SIZE)\n",
    "val_data_loader = create_data_loader(df_val, bert_tokenizer, MAX_LEN, BATCH_SIZE)\n",
    "test_data_loader = create_data_loader(df_test, bert_tokenizer, MAX_LEN, BATCH_SIZE)\n",
    "new_df.shape, df_train.shape, df_val.shape, df_test.shape"
   ]
  },
  {
   "cell_type": "code",
   "execution_count": 15,
   "metadata": {
    "pycharm": {
     "name": "#%%\n"
    }
   },
   "outputs": [],
   "source": [
    "# TEST the tokenizer and data loader\n",
    "# sequence = prepareSequenceForBERT(new_df.iloc[1]['readme'][:7])\n",
    "# label = new_df.iloc[1]['total_stars'][6]\n",
    "# tokens = bert_tokenizer.encode_plus(\n",
    "#             sequence,\n",
    "#             None,\n",
    "#             max_length= 512,\n",
    "#             truncation=True,\n",
    "#             add_special_tokens=True,\n",
    "# #             pad_to_max_length=True,\n",
    "#             padding = True,\n",
    "#             return_token_type_ids=True\n",
    "#         )\n",
    "# # print(f' Sentence: {sequence}')\n",
    "# # print(f' Tokens: {tokens}')\n",
    "# # print(f' Tokens.token_type_ids: {tokens.token_type_ids}')\n",
    "# # print(f' Tokens.input_ids: {len(tokens.input_ids)}')\n",
    "# output = {\n",
    "#       'input_ids': torch.tensor(tokens.input_ids, dtype=torch.long),\n",
    "#       'attention_mask':  torch.tensor(tokens.attention_mask, dtype=torch.long),\n",
    "#       'token_type_ids': torch.tensor(tokens.token_type_ids, dtype=torch.long),\n",
    "#       'targets': torch.tensor(label, dtype=torch.long)\n",
    "#     }\n",
    "# print(output['input_ids'].shape)\n",
    "# model = BertModel.from_pretrained('bert-base-uncased')\n",
    "# outputs = model(input_ids=output['input_ids'],attention_mask=output['attention_mask'])\n",
    "# print(outputs)"
   ]
  },
  {
   "cell_type": "code",
   "execution_count": 16,
   "metadata": {
    "pycharm": {
     "name": "#%%\n"
    }
   },
   "outputs": [],
   "source": [
    "# model = BertModel.from_pretrained('bert-base-uncased')\n",
    "# model = model.to(device)\n",
    "# for d in train_data_loader:\n",
    "#     input_ids = d[\"input_ids\"].to(device)\n",
    "#     attention_mask = d[\"attention_mask\"].to(device)\n",
    "#     token_type_ids = d[\"token_type_ids\"].to(device)\n",
    "#     targets = d[\"targets\"].to(device)\n",
    "#     outputs = model(input_ids=input_ids, attention_mask=attention_mask, token_type_ids=token_type_ids)\n",
    "#     print(outputs.last_hidden_state.shape)\n",
    "#     print(input_ids.shape)\n",
    "#     print(outputs.keys())\n",
    "#     print(d['sequence'])\n",
    "#     break"
   ]
  },
  {
   "cell_type": "code",
   "execution_count": 17,
   "metadata": {
    "pycharm": {
     "name": "#%%\n"
    }
   },
   "outputs": [],
   "source": [
    "optimizer = AdamW(bert_model.parameters(), lr=2e-5, correct_bias=False, no_deprecation_warning=True)\n",
    "bert_model = bert_model.to(device)\n",
    "total_steps = len(train_data_loader) * EPOCHS\n",
    "scheduler = get_linear_schedule_with_warmup(optimizer, num_warmup_steps=0, num_training_steps=total_steps)"
   ]
  },
  {
   "cell_type": "code",
   "execution_count": 18,
   "metadata": {
    "pycharm": {
     "name": "#%%\n"
    }
   },
   "outputs": [],
   "source": [
    "def train_epoch( model, data_loader, loss_fn, optimizer, device, scheduler, n_examples):\n",
    "  model = model.train()\n",
    "\n",
    "  losses = []\n",
    "  correct_predictions = 0\n",
    "\n",
    "  for d in data_loader:\n",
    "    input_ids = d[\"input_ids\"].to(device)\n",
    "    attention_mask = d[\"attention_mask\"].to(device)\n",
    "    token_type_ids = d[\"token_type_ids\"].to(device)\n",
    "    targets = d[\"targets\"].to(device)\n",
    "\n",
    "    outputs = model(input_ids=input_ids, attention_mask=attention_mask, token_type_ids=token_type_ids)\n",
    "#     _, preds = torch.max(outputs.logits, dim=1)\n",
    "#     loss = loss_fn(outputs.logits, targets)\n",
    "    \n",
    "    _, preds = torch.max(outputs, dim=1)\n",
    "    loss = loss_fn(outputs, targets)   \n",
    "\n",
    "    all_linear1_params = torch.cat([x.view(-1) for x in model.parameters()])\n",
    "    all_linear2_params = torch.cat([x.view(-1) for x in model.parameters()])\n",
    "    l1_regularization = 0.3 * torch.norm(all_linear1_params, 1)\n",
    "    l2_regularization = 0.01 * torch.norm(all_linear2_params, 2)\n",
    "\n",
    "    loss = loss + l1_regularization + l2_regularization\n",
    "    correct_predictions += torch.sum(preds == targets)\n",
    "    losses.append(loss.item())\n",
    "\n",
    "    loss.backward()\n",
    "    nn.utils.clip_grad_norm_(model.parameters(), max_norm=1.0)\n",
    "    optimizer.step()\n",
    "    scheduler.step()\n",
    "    optimizer.zero_grad()\n",
    "\n",
    "  return correct_predictions.double() / n_examples, np.mean(losses)"
   ]
  },
  {
   "cell_type": "code",
   "execution_count": 19,
   "metadata": {
    "pycharm": {
     "name": "#%%\n"
    }
   },
   "outputs": [],
   "source": [
    "def eval_model(model, data_loader, loss_fn, device, n_examples):\n",
    "  model = model.eval()\n",
    "\n",
    "  losses = []\n",
    "  correct_predictions = 0\n",
    "\n",
    "  with torch.no_grad():\n",
    "    for d in data_loader:\n",
    "      input_ids = d[\"input_ids\"].to(device)\n",
    "      attention_mask = d[\"attention_mask\"].to(device)\n",
    "      token_type_ids = d[\"token_type_ids\"].to(device)\n",
    "      targets = d[\"targets\"].to(device)\n",
    "\n",
    "      outputs = model(input_ids=input_ids, attention_mask=attention_mask, token_type_ids=token_type_ids)\n",
    "#       _, preds = torch.max(outputs.logits, dim=1)\n",
    "      _, preds = torch.max(outputs, dim=1)\n",
    "\n",
    "#       loss = loss_fn(outputs.logits, targets)\n",
    "      loss = loss_fn(outputs, targets)\n",
    "\n",
    "      correct_predictions += torch.sum(preds == targets)\n",
    "      losses.append(loss.item())\n",
    "\n",
    "  return correct_predictions.double() / n_examples, np.mean(losses)"
   ]
  },
  {
   "cell_type": "code",
   "execution_count": 20,
   "metadata": {
    "pycharm": {
     "name": "#%%\n"
    }
   },
   "outputs": [],
   "source": [
    "def get_predictions(model, data_loader):\n",
    "  model = model.eval()\n",
    "\n",
    "  sequences = []\n",
    "  predictions = []\n",
    "  prediction_probs = []\n",
    "  real_values = []\n",
    "\n",
    "  with torch.no_grad():\n",
    "    for d in data_loader:\n",
    "\n",
    "      texts = d[\"sequence\"]\n",
    "      input_ids = d[\"input_ids\"].to(device)\n",
    "      attention_mask = d[\"attention_mask\"].to(device)\n",
    "      token_type_ids = d[\"token_type_ids\"].to(device)\n",
    "      targets = d[\"targets\"].to(device)\n",
    "\n",
    "      outputs = model(input_ids=input_ids, attention_mask=attention_mask, token_type_ids=token_type_ids)\n",
    "\n",
    "#       _, preds = torch.max(outputs.logits, dim=1)\n",
    "#       probs = F.softmax(outputs.logits, dim=1)\n",
    "      _, preds = torch.max(outputs, dim=1)\n",
    "      probs = F.softmax(outputs, dim=1)\n",
    "\n",
    "      sequences.extend(texts)\n",
    "      predictions.extend(preds)\n",
    "      prediction_probs.extend(probs)\n",
    "      real_values.extend(targets)\n",
    "\n",
    "  predictions = torch.stack(predictions).cpu()\n",
    "  prediction_probs = torch.stack(prediction_probs).cpu()\n",
    "  real_values = torch.stack(real_values).cpu()\n",
    "  return outputs, sequences, predictions, prediction_probs, real_values"
   ]
  },
  {
   "cell_type": "code",
   "execution_count": 21,
   "metadata": {
    "pycharm": {
     "name": "#%%\n"
    }
   },
   "outputs": [
    {
     "name": "stdout",
     "output_type": "stream",
     "text": [
      "**************************************** Training\n",
      "2022_12_13-02_17PM\n",
      "Epoch 1/16\n",
      "----------\n",
      "Train loss 904799.8364583333 accuracy 0.6750130412102243\n",
      "Val   loss 0.5367445036768913 accuracy 0.8419405320813772\n",
      "\n",
      "Epoch 2/16\n",
      "----------\n",
      "Train loss 714146.2171875 accuracy 0.8346374543557642\n",
      "Val   loss 0.5566756017506123 accuracy 0.8419405320813772\n",
      "\n",
      "Epoch 3/16\n",
      "----------\n",
      "Train loss 608929.4395833333 accuracy 0.8382889932185706\n",
      "Val   loss 0.5628243990242481 accuracy 0.8419405320813772\n",
      "\n",
      "Epoch 4/16\n",
      "----------\n",
      "Train loss 536012.8981770833 accuracy 0.8377673448095982\n",
      "Val   loss 0.5740209013223648 accuracy 0.8419405320813772\n",
      "\n",
      "Epoch 5/16\n",
      "----------\n",
      "Train loss 481479.11770833336 accuracy 0.837245696400626\n",
      "Val   loss 0.5809704542160035 accuracy 0.8419405320813772\n",
      "\n",
      "Epoch 6/16\n",
      "----------\n",
      "Train loss 439083.9596354167 accuracy 0.8440271257172666\n",
      "Val   loss 0.5873074695467949 accuracy 0.8419405320813772\n",
      "\n",
      "Epoch 7/16\n",
      "----------\n",
      "Train loss 405392.85833333334 accuracy 0.8362023995826813\n",
      "Val   loss 0.5935792744159698 accuracy 0.8419405320813772\n",
      "\n",
      "Epoch 8/16\n",
      "----------\n",
      "Train loss 378285.8796875 accuracy 0.8330725091288471\n",
      "Val   loss 0.6015250384807587 accuracy 0.8419405320813772\n",
      "\n",
      "Epoch 9/16\n",
      "----------\n",
      "Train loss 356363.5994791667 accuracy 0.8377673448095982\n",
      "Val   loss 0.607529653608799 accuracy 0.8419405320813772\n",
      "\n",
      "Epoch 10/16\n",
      "----------\n",
      "Train loss 338654.4908854167 accuracy 0.8393322900365153\n",
      "Val   loss 0.6122361853718757 accuracy 0.8419405320813772\n",
      "\n",
      "Epoch 11/16\n",
      "----------\n",
      "Train loss 324463.85182291665 accuracy 0.8382889932185706\n",
      "Val   loss 0.6162807986140251 accuracy 0.8419405320813772\n",
      "\n",
      "Epoch 12/16\n",
      "----------\n",
      "Train loss 313285.0403645833 accuracy 0.84037558685446\n",
      "Val   loss 0.6194992572069168 accuracy 0.8419405320813772\n",
      "\n",
      "Epoch 13/16\n",
      "----------\n",
      "Train loss 304745.35052083334 accuracy 0.8393322900365153\n",
      "Val   loss 0.6220623090863228 accuracy 0.8419405320813772\n",
      "\n",
      "Epoch 14/16\n",
      "----------\n",
      "Train loss 298571.3611979167 accuracy 0.8408972352634324\n",
      "Val   loss 0.6238823786377907 accuracy 0.8419405320813772\n",
      "\n",
      "Epoch 15/16\n",
      "----------\n",
      "Train loss 294566.31927083334 accuracy 0.8414188836724048\n",
      "Val   loss 0.6249179691076279 accuracy 0.8419405320813772\n",
      "\n",
      "Epoch 16/16\n",
      "----------\n",
      "Train loss 292594.85833333334 accuracy 0.8429838288993218\n",
      "Val   loss 0.6252798303961754 accuracy 0.8419405320813772\n",
      "\n"
     ]
    }
   ],
   "source": [
    "print(40*\"*\", 'Training')\n",
    "current_time = datetime.now().strftime(\"%Y_%m_%d-%I_%M%p\")\n",
    "print(current_time)\n",
    "history = defaultdict(list)\n",
    "loss_fn = nn.CrossEntropyLoss().to(device)\n",
    "best_accuracy = 0\n",
    "# progress_bar = tqdm(range(total_steps))\n",
    "\n",
    "for epoch in range(EPOCHS):\n",
    "    print(f'Epoch {epoch + 1}/{EPOCHS}')\n",
    "    print('-' * 10)\n",
    "\n",
    "    train_acc, train_loss = train_epoch(bert_model, train_data_loader, loss_fn, optimizer, device, scheduler, len(df_train))\n",
    "    print(f'Train loss {train_loss} accuracy {train_acc}')\n",
    "\n",
    "    val_acc, val_loss = eval_model(bert_model, val_data_loader, loss_fn, device, len(df_val) )\n",
    "\n",
    "    print(f'Val   loss {val_loss} accuracy {val_acc}')\n",
    "    print()\n",
    "\n",
    "    history['train_acc'].append(train_acc)\n",
    "    history['train_loss'].append(train_loss)\n",
    "    history['val_acc'].append(val_acc)\n",
    "    history['val_loss'].append(val_loss)\n",
    "\n",
    "    if val_acc > best_accuracy:\n",
    "      curr_time = datetime.now().strftime(\"%Y_%m_%d-%I_%M%p\")\n",
    "      torch.save(bert_model.state_dict(), 'checkpoint/best_model_state' + current_time+'.bin')\n",
    "      best_accuracy = val_acc\n",
    "#     progress_bar.update(1)"
   ]
  },
  {
   "cell_type": "code",
   "execution_count": 22,
   "metadata": {},
   "outputs": [],
   "source": [
    "# plt.plot(history['train_acc'], label='train accuracy')\n",
    "# plt.plot(history['val_acc'], label='validation accuracy')\n",
    "\n",
    "# plt.title('Training history')\n",
    "# plt.ylabel('Accuracy')\n",
    "# plt.xlabel('Epoch')\n",
    "# plt.legend()\n",
    "# plt.ylim([0, 1]);\n",
    "# plt.savefig('images/training_history '+current_time+'.png')"
   ]
  },
  {
   "cell_type": "markdown",
   "metadata": {},
   "source": [
    "# Model Evaluation"
   ]
  },
  {
   "cell_type": "code",
   "execution_count": 53,
   "metadata": {},
   "outputs": [],
   "source": [
    "def display_prediction_df(y_sequences, y_test, y_pred, y_pred_probs, curr_time,save=False ):\n",
    "    y_pred_probs_pd = [y.numpy() for y in y_pred_probs]\n",
    "    someListOfLists = list(zip(y_sequences, y_test.numpy(), y_pred.numpy(), y_pred_probs[:, 1:].numpy().squeeze(), y_pred_probs_pd ))\n",
    "    npa = np.asarray(someListOfLists)\n",
    "    dff = pd.DataFrame(someListOfLists, columns = ['readme', 'Real', 'Predicted', 'Pred-prob', 'All Pred-probs' ])\n",
    "    print(dff)\n",
    "    if save:\n",
    "        dff.to_csv('csv/prediction_result'+ curr_time+'.csv')"
   ]
  },
  {
   "cell_type": "code",
   "execution_count": 54,
   "metadata": {},
   "outputs": [],
   "source": [
    "from sklearn import metrics\n",
    "\n",
    "def generate_auc(label, pred, curr_time, save=False):\n",
    "    plt.figure(figsize=(8,6))\n",
    "    plt.plot([0, 1], [0, 1],'r--')\n",
    "\n",
    "#     pred = y_pred_probs[:, 1].numpy()\n",
    "#     label = y_test.numpy()\n",
    "    fpr, tpr, thresh = metrics.roc_curve(label, pred)\n",
    "    auc = metrics.roc_auc_score(label, pred)\n",
    "    plt.plot(fpr, tpr, label=f'BERT, auc = {str(round(auc,3))}')\n",
    "\n",
    "    # pred = probs_svc\n",
    "    # fpr, tpr, thresh = metrics.roc_curve(label, pred)\n",
    "    # auc = metrics.roc_auc_score(label, pred)\n",
    "    # plt.plot(fpr, tpr, label=f'SVC, auc = {str(round(auc,3))}')\n",
    "\n",
    "    plt.ylabel(\"True Positive Rate\")\n",
    "    plt.xlabel(\"False Positive Rate\")\n",
    "    plt.title(\"AUC-ROC for two models\")\n",
    "    plt.legend()\n",
    "    plt.show()\n",
    "    if save:\n",
    "        plt.savefig('images/Log_ROC_'+ curr_time +'.png')\n"
   ]
  },
  {
   "cell_type": "code",
   "execution_count": null,
   "metadata": {},
   "outputs": [],
   "source": [
    "from sklearn.base import BaseEstimator, ClassifierMixin\n",
    "from sklearn.linear_model import LogisticRegression\n",
    "from sklearn.pipeline import Pipeline\n",
    "import numpy as np\n",
    " \n",
    "class IdentityEstimator(BaseEstimator, ClassifierMixin):\n",
    "    '''\n",
    "    An identity estimator used for calibrating probability data\n",
    "    '''\n",
    " \n",
    "    def __init__(self):\n",
    "        self.classes_= [0, 1]\n",
    "        # pass\n",
    "       \n",
    " \n",
    "    def __getstate__(self):\n",
    "        # Copy the object's state from self.__dict__ which contains\n",
    "        # all our instance attributes. Always use the dict.copy()\n",
    "        # method to avoid modifying the original state.\n",
    "        state = self.__dict__.copy()\n",
    " \n",
    "        return state\n",
    " \n",
    "    def __setstate__(self, state):\n",
    "        # Restore instance attributes\n",
    "        self.__dict__.update(state)\n",
    "        \n",
    " \n",
    "    def fit(self, X, y, sample_weight=None):\n",
    "        return self\n",
    " \n",
    "    def predict_proba(self, X):\n",
    "        \n",
    "        assert X.shape[1] == 1\n",
    "        probs = np.concatenate((1 - X, X), axis=1)\n",
    "        return probs"
   ]
  },
  {
   "cell_type": "code",
   "execution_count": null,
   "metadata": {},
   "outputs": [],
   "source": [
    "from sklearn.calibration import calibration_curve\n",
    "def plot_calibration_curve(name, fig_index, probs, y_test):\n",
    "    \"\"\"Plot calibration curve for est w/o and with calibration. \"\"\"\n",
    "\n",
    "    fig = plt.figure(fig_index, figsize=(10, 10))\n",
    "    ax1 = plt.subplot2grid((3, 1), (0, 0), rowspan=2)\n",
    "    ax2 = plt.subplot2grid((3, 1), (2, 0))\n",
    "    \n",
    "    ax1.plot([0, 1], [0, 1], \"k:\", label=\"Perfectly calibrated\")\n",
    "    \n",
    "    frac_of_pos, mean_pred_value = calibration_curve(y_test, probs, n_bins=10 , normalize=True)\n",
    "\n",
    "    ax1.plot(mean_pred_value, frac_of_pos, \"s-\", label=f'{name}')\n",
    "    ax1.set_ylabel(\"Fraction of positives\")\n",
    "    ax1.set_ylim([-0.05, 1.05])\n",
    "    ax1.legend(loc=\"lower right\")\n",
    "    ax1.set_title(f'Calibration plot ({name})')\n",
    "    \n",
    "    ax2.hist(probs, range=(0, 1), bins=10, label=name, histtype=\"step\", lw=2)\n",
    "    ax2.set_xlabel(\"Mean predicted value\")\n",
    "    ax2.set_ylabel(\"Count\")"
   ]
  },
  {
   "cell_type": "code",
   "execution_count": 42,
   "metadata": {
    "pycharm": {
     "name": "#%%\n"
    }
   },
   "outputs": [],
   "source": [
    "outputss, y_sequences, y_pred, y_pred_probs, y_test = get_predictions(bert_model, train_data_loader)"
   ]
  },
  {
   "cell_type": "code",
   "execution_count": 55,
   "metadata": {
    "pycharm": {
     "name": "#%%\n"
    }
   },
   "outputs": [
    {
     "name": "stdout",
     "output_type": "stream",
     "text": [
      "                                                 readme  Real  Predicted  \\\n",
      "0                                            [CLS][SEP]     0          0   \n",
      "1     [CLS] of,\\nimport pandas as pd,The dataset use...     0          0   \n",
      "2     [CLS]License and Citation\\n,X ]\\nE,$ ,Then, us...     1          0   \n",
      "3     [CLS] (wip)[SEP]).cuda(,.cuda()[SEP][SEP][SEP]...     0          0   \n",
      "4     [CLS][SEP]Documentation: skbel.readthedocs.io\\...     0          0   \n",
      "...                                                 ...   ...        ...   \n",
      "1912  [CLS][SEP]\\nninja (optional) for fast inferenc...     1          0   \n",
      "1913  [CLS][SEP]omprehendWorkflow: ,f set to true, d...     0          0   \n",
      "1914                 [CLS]from PyPI , bash,,zennit[SEP]     0          0   \n",
      "1915  [CLS]Please follow the installation instructio...     1          0   \n",
      "1916  [CLS]Ablation study models are available in li...     1          0   \n",
      "\n",
      "      Pred-prob            All Pred-probs  \n",
      "0      0.445693   [0.55430645, 0.4456935]  \n",
      "1      0.446920  [0.55307955, 0.44692048]  \n",
      "2      0.447064   [0.5529361, 0.44706392]  \n",
      "3      0.446666  [0.55333424, 0.44666576]  \n",
      "4      0.447085    [0.5529146, 0.4470854]  \n",
      "...         ...                       ...  \n",
      "1912   0.446766   [0.5532343, 0.44676572]  \n",
      "1913   0.446810   [0.5531904, 0.44680956]  \n",
      "1914   0.446715  [0.55328524, 0.44671473]  \n",
      "1915   0.446973   [0.5530267, 0.44697332]  \n",
      "1916   0.447031    [0.55296904, 0.447031]  \n",
      "\n",
      "[1917 rows x 5 columns]\n"
     ]
    },
    {
     "name": "stderr",
     "output_type": "stream",
     "text": [
      "/tmp/ipykernel_24472/874211390.py:4: VisibleDeprecationWarning: Creating an ndarray from ragged nested sequences (which is a list-or-tuple of lists-or-tuples-or ndarrays with different lengths or shapes) is deprecated. If you meant to do this, you must specify 'dtype=object' when creating the ndarray.\n",
      "  npa = np.asarray(someListOfLists)\n"
     ]
    }
   ],
   "source": [
    "display_prediction_df(y_sequences, y_test, y_pred, y_pred_probs, current_time)"
   ]
  },
  {
   "cell_type": "code",
   "execution_count": 56,
   "metadata": {},
   "outputs": [
    {
     "data": {
      "image/png": "[encoded data removed]",
      "text/plain": [
       "<Figure size 576x432 with 1 Axes>"
      ]
     },
     "metadata": {
      "needs_background": "light"
     },
     "output_type": "display_data"
    }
   ],
   "source": [
    "generate_auc(y_test.numpy(), y_pred_probs[:, 1].numpy(), current_time)"
   ]
  },
  {
   "cell_type": "code",
   "execution_count": 28,
   "metadata": {},
   "outputs": [],
   "source": [
    "# test_acc, _ = eval_model(bert_model, test_data_loader, loss_fn, device, len(df_test))\n",
    "# test_acc.item()"
   ]
  },
  {
   "cell_type": "code",
   "execution_count": 29,
   "metadata": {},
   "outputs": [],
   "source": [
    "\n",
    "# bert_model = BertForRepoClassification(2)\n",
    "# bert_model.load_state_dict(torch.load('checkpoint/best_model_state2022_11_30-11_28AM.bin'))"
   ]
  },
  {
   "cell_type": "code",
   "execution_count": 60,
   "metadata": {},
   "outputs": [],
   "source": [
    "id_est = IdentityEstimator()\n",
    "# probs = id_est.predict_proba(y_pred_probs[:, 1:])\n",
    "# print(probs)"
   ]
  },
  {
   "cell_type": "code",
   "execution_count": 66,
   "metadata": {},
   "outputs": [
    {
     "data": {
      "text/html": [
       "<style>#sk-container-id-4 {color: black;background-color: white;}#sk-container-id-4 pre{padding: 0;}#sk-container-id-4 div.sk-toggleable {background-color: white;}#sk-container-id-4 label.sk-toggleable__label {cursor: pointer;display: block;width: 100%;margin-bottom: 0;padding: 0.3em;box-sizing: border-box;text-align: center;}#sk-container-id-4 label.sk-toggleable__label-arrow:before {content: \"▸\";float: left;margin-right: 0.25em;color: #696969;}#sk-container-id-4 label.sk-toggleable__label-arrow:hover:before {color: black;}#sk-container-id-4 div.sk-estimator:hover label.sk-toggleable__label-arrow:before {color: black;}#sk-container-id-4 div.sk-toggleable__content {max-height: 0;max-width: 0;overflow: hidden;text-align: left;background-color: #f0f8ff;}#sk-container-id-4 div.sk-toggleable__content pre {margin: 0.2em;color: black;border-radius: 0.25em;background-color: #f0f8ff;}#sk-container-id-4 input.sk-toggleable__control:checked~div.sk-toggleable__content {max-height: 200px;max-width: 100%;overflow: auto;}#sk-container-id-4 input.sk-toggleable__control:checked~label.sk-toggleable__label-arrow:before {content: \"▾\";}#sk-container-id-4 div.sk-estimator input.sk-toggleable__control:checked~label.sk-toggleable__label {background-color: #d4ebff;}#sk-container-id-4 div.sk-label input.sk-toggleable__control:checked~label.sk-toggleable__label {background-color: #d4ebff;}#sk-container-id-4 input.sk-hidden--visually {border: 0;clip: rect(1px 1px 1px 1px);clip: rect(1px, 1px, 1px, 1px);height: 1px;margin: -1px;overflow: hidden;padding: 0;position: absolute;width: 1px;}#sk-container-id-4 div.sk-estimator {font-family: monospace;background-color: #f0f8ff;border: 1px dotted black;border-radius: 0.25em;box-sizing: border-box;margin-bottom: 0.5em;}#sk-container-id-4 div.sk-estimator:hover {background-color: #d4ebff;}#sk-container-id-4 div.sk-parallel-item::after {content: \"\";width: 100%;border-bottom: 1px solid gray;flex-grow: 1;}#sk-container-id-4 div.sk-label:hover label.sk-toggleable__label {background-color: #d4ebff;}#sk-container-id-4 div.sk-serial::before {content: \"\";position: absolute;border-left: 1px solid gray;box-sizing: border-box;top: 0;bottom: 0;left: 50%;z-index: 0;}#sk-container-id-4 div.sk-serial {display: flex;flex-direction: column;align-items: center;background-color: white;padding-right: 0.2em;padding-left: 0.2em;position: relative;}#sk-container-id-4 div.sk-item {position: relative;z-index: 1;}#sk-container-id-4 div.sk-parallel {display: flex;align-items: stretch;justify-content: center;background-color: white;position: relative;}#sk-container-id-4 div.sk-item::before, #sk-container-id-4 div.sk-parallel-item::before {content: \"\";position: absolute;border-left: 1px solid gray;box-sizing: border-box;top: 0;bottom: 0;left: 50%;z-index: -1;}#sk-container-id-4 div.sk-parallel-item {display: flex;flex-direction: column;z-index: 1;position: relative;background-color: white;}#sk-container-id-4 div.sk-parallel-item:first-child::after {align-self: flex-end;width: 50%;}#sk-container-id-4 div.sk-parallel-item:last-child::after {align-self: flex-start;width: 50%;}#sk-container-id-4 div.sk-parallel-item:only-child::after {width: 0;}#sk-container-id-4 div.sk-dashed-wrapped {border: 1px dashed gray;margin: 0 0.4em 0.5em 0.4em;box-sizing: border-box;padding-bottom: 0.4em;background-color: white;}#sk-container-id-4 div.sk-label label {font-family: monospace;font-weight: bold;display: inline-block;line-height: 1.2em;}#sk-container-id-4 div.sk-label-container {text-align: center;}#sk-container-id-4 div.sk-container {/* jupyter's `normalize.less` sets `[hidden] { display: none; }` but bootstrap.min.css set `[hidden] { display: none !important; }` so we also need the `!important` here to be able to override the default hidden behavior on the sphinx rendered scikit-learn.org. See: https://github.com/scikit-learn/scikit-learn/issues/21755 */display: inline-block !important;position: relative;}#sk-container-id-4 div.sk-text-repr-fallback {display: none;}</style><div id=\"sk-container-id-4\" class=\"sk-top-container\"><div class=\"sk-text-repr-fallback\"><pre>CalibratedClassifierCV(base_estimator=IdentityEstimator(), cv=&#x27;prefit&#x27;,\n",
       "                       method=&#x27;isotonic&#x27;)</pre><b>In a Jupyter environment, please rerun this cell to show the HTML representation or trust the notebook. <br />On GitHub, the HTML representation is unable to render, please try loading this page with nbviewer.org.</b></div><div class=\"sk-container\" hidden><div class=\"sk-item sk-dashed-wrapped\"><div class=\"sk-label-container\"><div class=\"sk-label sk-toggleable\"><input class=\"sk-toggleable__control sk-hidden--visually\" id=\"sk-estimator-id-10\" type=\"checkbox\" ><label for=\"sk-estimator-id-10\" class=\"sk-toggleable__label sk-toggleable__label-arrow\">CalibratedClassifierCV</label><div class=\"sk-toggleable__content\"><pre>CalibratedClassifierCV(base_estimator=IdentityEstimator(), cv=&#x27;prefit&#x27;,\n",
       "                       method=&#x27;isotonic&#x27;)</pre></div></div></div><div class=\"sk-parallel\"><div class=\"sk-parallel-item\"><div class=\"sk-item\"><div class=\"sk-label-container\"><div class=\"sk-label sk-toggleable\"><input class=\"sk-toggleable__control sk-hidden--visually\" id=\"sk-estimator-id-11\" type=\"checkbox\" ><label for=\"sk-estimator-id-11\" class=\"sk-toggleable__label sk-toggleable__label-arrow\">base_estimator: IdentityEstimator</label><div class=\"sk-toggleable__content\"><pre>IdentityEstimator()</pre></div></div></div><div class=\"sk-serial\"><div class=\"sk-item\"><div class=\"sk-estimator sk-toggleable\"><input class=\"sk-toggleable__control sk-hidden--visually\" id=\"sk-estimator-id-12\" type=\"checkbox\" ><label for=\"sk-estimator-id-12\" class=\"sk-toggleable__label sk-toggleable__label-arrow\">IdentityEstimator</label><div class=\"sk-toggleable__content\"><pre>IdentityEstimator()</pre></div></div></div></div></div></div></div></div></div></div>"
      ],
      "text/plain": [
       "CalibratedClassifierCV(base_estimator=IdentityEstimator(), cv='prefit',\n",
       "                       method='isotonic')"
      ]
     },
     "execution_count": 66,
     "metadata": {},
     "output_type": "execute_result"
    }
   ],
   "source": [
    "from sklearn.calibration import CalibratedClassifierCV\n",
    "calibrated_clf = CalibratedClassifierCV(base_estimator=id_est, cv=\"prefit\", method=\"isotonic\")\n",
    "calibrated_clf.fit(y_pred_probs[:, 1:], y_test)"
   ]
  },
  {
   "cell_type": "code",
   "execution_count": 35,
   "metadata": {},
   "outputs": [],
   "source": [
    "outputss_t, y_sequences_t, y_pred_t, y_pred_probs_t, y_test_t = get_predictions(bert_model, test_data_loader)"
   ]
  },
  {
   "cell_type": "code",
   "execution_count": 65,
   "metadata": {},
   "outputs": [
    {
     "name": "stderr",
     "output_type": "stream",
     "text": [
      "/users/kent/jmaharja/anaconda3/envs/crawler/lib/python3.9/site-packages/sklearn/calibration.py:964: FutureWarning: The normalize argument is deprecated in v1.1 and will be removed in v1.3. Explicitly normalizing y_prob will reproduce this behavior, but it is recommended that a proper probability is used (i.e. a classifier's `predict_proba` positive class or `decision_function` output calibrated with `CalibratedClassifierCV`).\n",
      "  warnings.warn(\n"
     ]
    },
    {
     "data": {
      "image/png": "[encoded data removed]",
      "text/plain": [
       "<Figure size 720x720 with 2 Axes>"
      ]
     },
     "metadata": {
      "needs_background": "light"
     },
     "output_type": "display_data"
    }
   ],
   "source": [
    "plot_calibration_curve(\"BERT\", 1, y_pred_probs_t[:, 1].numpy(), y_test_t.numpy())"
   ]
  },
  {
   "cell_type": "code",
   "execution_count": 67,
   "metadata": {},
   "outputs": [],
   "source": [
    "prob_c = calibrated_clf.predict_proba(y_pred_probs_t[:, 1:])"
   ]
  },
  {
   "cell_type": "code",
   "execution_count": 68,
   "metadata": {},
   "outputs": [
    {
     "name": "stderr",
     "output_type": "stream",
     "text": [
      "/users/kent/jmaharja/anaconda3/envs/crawler/lib/python3.9/site-packages/sklearn/calibration.py:964: FutureWarning: The normalize argument is deprecated in v1.1 and will be removed in v1.3. Explicitly normalizing y_prob will reproduce this behavior, but it is recommended that a proper probability is used (i.e. a classifier's `predict_proba` positive class or `decision_function` output calibrated with `CalibratedClassifierCV`).\n",
      "  warnings.warn(\n"
     ]
    },
    {
     "data": {
      "image/png": "[encoded data removed]",
      "text/plain": [
       "<Figure size 720x720 with 2 Axes>"
      ]
     },
     "metadata": {
      "needs_background": "light"
     },
     "output_type": "display_data"
    }
   ],
   "source": [
    "plot_calibration_curve(\"Caliberated BERT\", 1, prob_c[:, 1], y_test_t.numpy())"
   ]
  },
  {
   "cell_type": "code",
   "execution_count": 69,
   "metadata": {},
   "outputs": [
    {
     "data": {
      "image/png": "[encoded data removed]",
      "text/plain": [
       "<Figure size 576x432 with 1 Axes>"
      ]
     },
     "metadata": {
      "needs_background": "light"
     },
     "output_type": "display_data"
    }
   ],
   "source": [
    "generate_auc(y_test_t.numpy(), prob_c[:, 1], current_time)"
   ]
  },
  {
   "cell_type": "code",
   "execution_count": null,
   "metadata": {},
   "outputs": [],
   "source": []
  }
 ],
 "metadata": {
  "kernelspec": {
   "display_name": "crawler",
   "language": "python",
   "name": "crawler"
  },
  "language_info": {
   "codemirror_mode": {
    "name": "ipython",
    "version": 3
   },
   "file_extension": ".py",
   "mimetype": "text/x-python",
   "name": "python",
   "nbconvert_exporter": "python",
   "pygments_lexer": "ipython3",
   "version": "3.9.0"
  }
 },
 "nbformat": 4,
 "nbformat_minor": 2
}
