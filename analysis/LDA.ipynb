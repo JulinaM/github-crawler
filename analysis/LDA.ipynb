{
 "cells": [
  {
   "cell_type": "code",
   "execution_count": 1,
   "metadata": {
    "pycharm": {
     "name": "#%%\n"
    }
   },
   "outputs": [],
   "source": [
    " #!nvidia-smi"
   ]
  },
  {
   "cell_type": "code",
   "execution_count": 1,
   "metadata": {
    "pycharm": {
     "name": "#%%\n"
    }
   },
   "outputs": [],
   "source": [
    "BATCH_SIZE = 16\n",
    "MAX_LEN = 512\n",
    "EPOCHS = 10\n",
    "RANDOM_SEED = 42\n",
    "model_name = 'bert-base-uncased'"
   ]
  },
  {
   "cell_type": "code",
   "execution_count": 2,
   "metadata": {
    "pycharm": {
     "name": "#%%\n"
    }
   },
   "outputs": [
    {
     "name": "stdout",
     "output_type": "stream",
     "text": [
      "SUCCESS connecting to Cloudant db github-public-ai-2022\n"
     ]
    }
   ],
   "source": [
    "from utils.cloudant_utils import cloudant_db as db\n",
    "import numpy as np\n",
    "import pandas as pd\n",
    "from datetime import datetime\n",
    "import difflib\n",
    "from sklearn.model_selection import train_test_split\n",
    "import torch\n",
    "from torch.utils.data import Dataset, DataLoader\n",
    "from transformers import BertTokenizer\n",
    "from transformers import BertForSequenceClassification, AdamW, BertConfig\n",
    "from torch import nn\n",
    "from collections import defaultdict\n",
    "import torch.nn.functional as F\n",
    "from sklearn.metrics import roc_auc_score\n",
    "from sklearn.metrics import roc_curve\n",
    "import matplotlib.pyplot as plt\n",
    "from readme_cleanup import readme_cleanup"
   ]
  },
  {
   "cell_type": "code",
   "execution_count": 3,
   "metadata": {
    "pycharm": {
     "name": "#%%\n"
    }
   },
   "outputs": [],
   "source": [
    "repos = [r for r in db.get_query_result({\"type\": \"release\"}, [\"_id\", \"releases\"], limit=10000, raw_result=True)[\"docs\"]]\n",
    "values = [r for release in repos for r in release[\"releases\"]]\n",
    "df = pd.DataFrame(values)\n",
    "df['contributors'] = df['contributors'].apply(lambda x:\n",
    "                                              [i for i in x if i is not None] if isinstance(x, list)\n",
    "                                              else [])\n",
    "df = df[~df['readme'].isnull()]\n",
    "new_df = df.groupby(\"repo\").agg({\"readme\": list,\n",
    "                                 \"stars\": sum,\n",
    "                                 \"forks\": sum,\n",
    "                                 \"downloads\": sum,\n",
    "                                 \"contributors\": sum})\n",
    "new_df['600stars']= np.where(new_df['stars'] > 600, 1, 0)\n",
    "new_df = new_df[:100]"
   ]
  },
  {
   "cell_type": "code",
   "execution_count": 5,
   "metadata": {
    "pycharm": {
     "name": "#%%\n"
    }
   },
   "outputs": [],
   "source": [
    "def diff_calculator(str1, str2):\n",
    "   s = difflib.SequenceMatcher(lambda x : x == '')\n",
    "   s.set_seqs(str1, str2)\n",
    "   i = 1\n",
    "   # codes = []\n",
    "   # delete = []\n",
    "   # replace = {}\n",
    "   insert = []\n",
    "   for (opcode, before_start, before_end, after_start, after_end) in s.get_opcodes():\n",
    "       if opcode == 'equal':\n",
    "           continue\n",
    "       # codes.append(opcode)\n",
    "       # # print (i, \". %7s '%s :'  ----->  '%s'\" % (opcode, test[0][before_start:before_end], test[1][after_start:after_end]))\n",
    "       # if opcode == 'replace':\n",
    "       #     replace[str1[before_start:before_end]]  = str2[after_start:after_end]\n",
    "       # if opcode == 'delete':\n",
    "       #     delete.append(str1[before_start:before_end])\n",
    "       if opcode == 'insert':\n",
    "           if str2[after_start:after_end]:\n",
    "            insert.append(str2[after_start:after_end])\n",
    "       i = i + 1\n",
    "   # return replace, delete, insert\n",
    "   return insert\n",
    "\n",
    "def create_a_sequence(readmeList):\n",
    "    result = []\n",
    "    for i in range(0,len(readmeList)-1):\n",
    "        first = readme_cleanup(readmeList[i])\n",
    "        second = readme_cleanup(readmeList[i+1])\n",
    "        insert = diff_calculator(first, second)\n",
    "        result.append(','.join(insert))\n",
    "    return result\n",
    "\n",
    "def prepareSequenceForBERT(readmeList):\n",
    "    diffList = create_a_sequence(readmeList)\n",
    "    s = '[CLS]' + \"[SEP]\".join([str(i) for i in diffList])\n",
    "    return s +'[SEP]'"
   ]
  },
  {
   "cell_type": "code",
   "execution_count": 6,
   "metadata": {
    "pycharm": {
     "name": "#%%\n"
    }
   },
   "outputs": [],
   "source": [
    "\n",
    "# len(new_df.iloc[1]['readme']), prepareSequenceForBERT(new_df.iloc[1]['readme'])"
   ]
  },
  {
   "cell_type": "code",
   "execution_count": 7,
   "metadata": {
    "pycharm": {
     "name": "#%%\n"
    }
   },
   "outputs": [
    {
     "data": {
      "text/plain": "((60, 6), (20, 6), (20, 6))"
     },
     "execution_count": 7,
     "metadata": {},
     "output_type": "execute_result"
    }
   ],
   "source": [
    "np.random.seed(RANDOM_SEED)\n",
    "torch.manual_seed(RANDOM_SEED)\n",
    "device = torch.device(\"cuda:0\" if torch.cuda.is_available() else \"cpu\")\n",
    "\n",
    "df_train, df_test = train_test_split(new_df, test_size=0.4, random_state=RANDOM_SEED)\n",
    "df_val, df_test = train_test_split(df_test, test_size=0.5, random_state=RANDOM_SEED)\n",
    "df_train.shape, df_val.shape, df_test.shape"
   ]
  },
  {
   "cell_type": "code",
   "execution_count": 9,
   "metadata": {
    "pycharm": {
     "name": "#%%\n"
    }
   },
   "outputs": [],
   "source": [
    "class ReadmeDataSet(Dataset):\n",
    "   def __init__(self, _df, tokenizer, max_len):\n",
    "      self._df = _df\n",
    "      self.tokenizer = tokenizer\n",
    "      self.max_len = max_len\n",
    "\n",
    "   def __len__(self):\n",
    "      return len(self._df)\n",
    "\n",
    "   def __getitem__(self, item):\n",
    "      _sequence = prepareSequenceForBERT(self._df.iloc[item]['readme'])\n",
    "      target = self._df.iloc[item]['600stars']\n",
    "      encoding = self.tokenizer.encode_plus(_sequence,\n",
    "                                     None,\n",
    "                                     max_length = self.max_len,\n",
    "                                     truncation=True,\n",
    "                                     add_special_tokens=True,\n",
    "#                                      padding=MAX_LEN,\n",
    "#                                      padding='longest',\n",
    "                                     pad_to_max_length=True,\n",
    "                                     return_token_type_ids=True)\n",
    "\n",
    "      return {\n",
    "      'sequence': _sequence,\n",
    "      'input_ids': torch.tensor(encoding.input_ids, dtype=torch.long),\n",
    "      'attention_mask':  torch.tensor(encoding.attention_mask, dtype=torch.long),\n",
    "      'token_type_ids': torch.tensor(encoding.token_type_ids, dtype=torch.long),\n",
    "      'targets': torch.tensor(target, dtype=torch.long)\n",
    "      }"
   ]
  },
  {
   "cell_type": "code",
   "execution_count": 10,
   "metadata": {
    "pycharm": {
     "name": "#%%\n"
    }
   },
   "outputs": [],
   "source": [
    "def create_data_loader(_df, tokenizer, max_len, batch_size):\n",
    "   ds = ReadmeDataSet(_df = _df, tokenizer=tokenizer, max_len=max_len)\n",
    "   return DataLoader(ds, batch_size=batch_size, num_workers=0)"
   ]
  },
  {
   "cell_type": "markdown",
   "metadata": {
    "pycharm": {
     "name": "#%% md\n"
    }
   },
   "source": [
    "Import BERT Tokenizer and BERT Model"
   ]
  },
  {
   "cell_type": "code",
   "execution_count": 16,
   "metadata": {
    "pycharm": {
     "name": "#%%\n"
    }
   },
   "outputs": [
    {
     "name": "stderr",
     "output_type": "stream",
     "text": [
      "Some weights of the model checkpoint at bert-base-uncased were not used when initializing BertForSequenceClassification: ['cls.predictions.transform.dense.bias', 'cls.predictions.transform.LayerNorm.bias', 'cls.predictions.transform.dense.weight', 'cls.predictions.transform.LayerNorm.weight', 'cls.predictions.decoder.weight', 'cls.seq_relationship.bias', 'cls.predictions.bias', 'cls.seq_relationship.weight']\n",
      "- This IS expected if you are initializing BertForSequenceClassification from the checkpoint of a model trained on another task or with another architecture (e.g. initializing a BertForSequenceClassification model from a BertForPreTraining model).\n",
      "- This IS NOT expected if you are initializing BertForSequenceClassification from the checkpoint of a model that you expect to be exactly identical (initializing a BertForSequenceClassification model from a BertForSequenceClassification model).\n",
      "Some weights of BertForSequenceClassification were not initialized from the model checkpoint at bert-base-uncased and are newly initialized: ['classifier.weight', 'classifier.bias']\n",
      "You should probably TRAIN this model on a down-stream task to be able to use it for predictions and inference.\n"
     ]
    }
   ],
   "source": [
    "bert_tokenizer = BertTokenizer.from_pretrained('bert-base-uncased', do_lower_case=True)\n",
    "bert_model = BertForSequenceClassification.from_pretrained('bert-base-uncased',\n",
    "                                                      num_labels=2,\n",
    "                                                      output_attentions= False,\n",
    "                                                      output_hidden_states= False)"
   ]
  },
  {
   "cell_type": "code",
   "execution_count": 18,
   "outputs": [],
   "source": [
    "read_me_list = new_df['readme'].tolist()\n",
    "# read_me_list"
   ],
   "metadata": {
    "collapsed": false,
    "pycharm": {
     "name": "#%%\n"
    }
   }
  },
  {
   "cell_type": "code",
   "execution_count": 20,
   "outputs": [
    {
     "name": "stdout",
     "output_type": "stream",
     "text": [
      "Max sentence length:  31456\n"
     ]
    }
   ],
   "source": [
    "max_len = 0\n",
    "for sentences in read_me_list:\n",
    "    for sent in sentences:\n",
    "        if sent:\n",
    "            input_ids = bert_tokenizer.encode(sent, add_special_tokens=True)\n",
    "            max_len = max(max_len, len(input_ids))\n",
    "print('Max sentence length: ', max_len)"
   ],
   "metadata": {
    "collapsed": false,
    "pycharm": {
     "name": "#%%\n"
    }
   }
  },
  {
   "cell_type": "code",
   "execution_count": 16,
   "outputs": [
    {
     "data": {
      "text/plain": "1     [CLS][SEP]M[SEP][SEP][SEP][SEP][SEP][SEP][SEP]...\n2     [CLS][SEP]S[SEP][SEP][SEP][SEP][SEP][SEP][SEP]...\n3     [CLS][SEP][SEP]K[SEP][SEP][SEP][SEP][SEP][SEP]...\n4     [CLS][SEP]![SEP][SEP][SEP][SEP][SEP][SEP][SEP]...\n5     [CLS][SEP]![SEP][SEP][SEP][SEP][SEP][SEP][SEP]...\n6     [CLS][SEP]![SEP][SEP][SEP][SEP][SEP][SEP][SEP]...\n7     [CLS][SEP]![SEP][SEP][SEP][SEP][SEP][SEP][SEP]...\n8     [CLS][SEP]![SEP][SEP][SEP][SEP][SEP][SEP][SEP]...\n9     [CLS][SEP]![SEP][SEP][SEP][SEP][SEP][SEP][SEP]...\n10    [CLS][SEP]![SEP][SEP][SEP][SEP][SEP][SEP][SEP]...\ndtype: object"
     },
     "execution_count": 16,
     "metadata": {},
     "output_type": "execute_result"
    }
   ],
   "source": [
    "sample = df[:10]\n",
    "X = sample.apply(lambda row : prepareSequenceForBERT(row['readme']), axis = 1)\n",
    "X"
   ],
   "metadata": {
    "collapsed": false,
    "pycharm": {
     "name": "#%%\n"
    }
   }
  },
  {
   "cell_type": "code",
   "execution_count": 12,
   "outputs": [
    {
     "ename": "TypeError",
     "evalue": "Cannot index by location index with a non-integer key",
     "output_type": "error",
     "traceback": [
      "\u001B[0;31m---------------------------------------------------------------------------\u001B[0m",
      "\u001B[0;31mTypeError\u001B[0m                                 Traceback (most recent call last)",
      "Input \u001B[0;32mIn [12]\u001B[0m, in \u001B[0;36m<cell line: 2>\u001B[0;34m()\u001B[0m\n\u001B[1;32m      1\u001B[0m inputDS \u001B[38;5;241m=\u001B[39m ReadmeDataSet(df, bert_tokenizer, \u001B[38;5;241m512\u001B[39m)\n\u001B[0;32m----> 2\u001B[0m X \u001B[38;5;241m=\u001B[39m pd\u001B[38;5;241m.\u001B[39mDataFrame(\u001B[43minputDS\u001B[49m\u001B[43m[\u001B[49m\u001B[38;5;124;43m'\u001B[39;49m\u001B[38;5;124;43msequence\u001B[39;49m\u001B[38;5;124;43m'\u001B[39;49m\u001B[43m]\u001B[49m)\n\u001B[1;32m      3\u001B[0m X\u001B[38;5;241m.\u001B[39mshape\n",
      "Input \u001B[0;32mIn [9]\u001B[0m, in \u001B[0;36mReadmeDataSet.__getitem__\u001B[0;34m(self, item)\u001B[0m\n\u001B[1;32m     10\u001B[0m \u001B[38;5;28;01mdef\u001B[39;00m \u001B[38;5;21m__getitem__\u001B[39m(\u001B[38;5;28mself\u001B[39m, item):\n\u001B[0;32m---> 11\u001B[0m    _sequence \u001B[38;5;241m=\u001B[39m prepareSequenceForBERT(\u001B[38;5;28;43mself\u001B[39;49m\u001B[38;5;241;43m.\u001B[39;49m\u001B[43m_df\u001B[49m\u001B[38;5;241;43m.\u001B[39;49m\u001B[43miloc\u001B[49m\u001B[43m[\u001B[49m\u001B[43mitem\u001B[49m\u001B[43m]\u001B[49m[\u001B[38;5;124m'\u001B[39m\u001B[38;5;124mreadme\u001B[39m\u001B[38;5;124m'\u001B[39m])\n\u001B[1;32m     12\u001B[0m    target \u001B[38;5;241m=\u001B[39m \u001B[38;5;28mself\u001B[39m\u001B[38;5;241m.\u001B[39m_df\u001B[38;5;241m.\u001B[39miloc[item][\u001B[38;5;124m'\u001B[39m\u001B[38;5;124m600stars\u001B[39m\u001B[38;5;124m'\u001B[39m]\n\u001B[1;32m     13\u001B[0m    encoding \u001B[38;5;241m=\u001B[39m \u001B[38;5;28mself\u001B[39m\u001B[38;5;241m.\u001B[39mtokenizer\u001B[38;5;241m.\u001B[39mencode_plus(_sequence,\n\u001B[1;32m     14\u001B[0m                                   \u001B[38;5;28;01mNone\u001B[39;00m,\n\u001B[1;32m     15\u001B[0m                                   max_length \u001B[38;5;241m=\u001B[39m \u001B[38;5;28mself\u001B[39m\u001B[38;5;241m.\u001B[39mmax_len,\n\u001B[0;32m   (...)\u001B[0m\n\u001B[1;32m     20\u001B[0m                                   pad_to_max_length\u001B[38;5;241m=\u001B[39m\u001B[38;5;28;01mTrue\u001B[39;00m,\n\u001B[1;32m     21\u001B[0m                                   return_token_type_ids\u001B[38;5;241m=\u001B[39m\u001B[38;5;28;01mTrue\u001B[39;00m)\n",
      "File \u001B[0;32m~/PycharmProjects/github-crawler/env/lib/python3.9/site-packages/pandas/core/indexing.py:967\u001B[0m, in \u001B[0;36m_LocationIndexer.__getitem__\u001B[0;34m(self, key)\u001B[0m\n\u001B[1;32m    964\u001B[0m axis \u001B[38;5;241m=\u001B[39m \u001B[38;5;28mself\u001B[39m\u001B[38;5;241m.\u001B[39maxis \u001B[38;5;129;01mor\u001B[39;00m \u001B[38;5;241m0\u001B[39m\n\u001B[1;32m    966\u001B[0m maybe_callable \u001B[38;5;241m=\u001B[39m com\u001B[38;5;241m.\u001B[39mapply_if_callable(key, \u001B[38;5;28mself\u001B[39m\u001B[38;5;241m.\u001B[39mobj)\n\u001B[0;32m--> 967\u001B[0m \u001B[38;5;28;01mreturn\u001B[39;00m \u001B[38;5;28;43mself\u001B[39;49m\u001B[38;5;241;43m.\u001B[39;49m\u001B[43m_getitem_axis\u001B[49m\u001B[43m(\u001B[49m\u001B[43mmaybe_callable\u001B[49m\u001B[43m,\u001B[49m\u001B[43m \u001B[49m\u001B[43maxis\u001B[49m\u001B[38;5;241;43m=\u001B[39;49m\u001B[43maxis\u001B[49m\u001B[43m)\u001B[49m\n",
      "File \u001B[0;32m~/PycharmProjects/github-crawler/env/lib/python3.9/site-packages/pandas/core/indexing.py:1517\u001B[0m, in \u001B[0;36m_iLocIndexer._getitem_axis\u001B[0;34m(self, key, axis)\u001B[0m\n\u001B[1;32m   1515\u001B[0m key \u001B[38;5;241m=\u001B[39m item_from_zerodim(key)\n\u001B[1;32m   1516\u001B[0m \u001B[38;5;28;01mif\u001B[39;00m \u001B[38;5;129;01mnot\u001B[39;00m is_integer(key):\n\u001B[0;32m-> 1517\u001B[0m     \u001B[38;5;28;01mraise\u001B[39;00m \u001B[38;5;167;01mTypeError\u001B[39;00m(\u001B[38;5;124m\"\u001B[39m\u001B[38;5;124mCannot index by location index with a non-integer key\u001B[39m\u001B[38;5;124m\"\u001B[39m)\n\u001B[1;32m   1519\u001B[0m \u001B[38;5;66;03m# validate the location\u001B[39;00m\n\u001B[1;32m   1520\u001B[0m \u001B[38;5;28mself\u001B[39m\u001B[38;5;241m.\u001B[39m_validate_integer(key, axis)\n",
      "\u001B[0;31mTypeError\u001B[0m: Cannot index by location index with a non-integer key"
     ]
    }
   ],
   "source": [
    "inputDS = ReadmeDataSet(df, bert_tokenizer, 512)\n",
    "df['cleanreadme'] = df.apply(lambda row : prepareSequenceForBERT(row['readme']), axis = 1)\n",
    "X = df['cleanreadme']\n",
    "X.shape"
   ],
   "metadata": {
    "collapsed": false,
    "pycharm": {
     "name": "#%%\n"
    }
   }
  },
  {
   "cell_type": "code",
   "execution_count": 17,
   "outputs": [
    {
     "ename": "ValueError",
     "evalue": "not enough values to unpack (expected 2, got 1)",
     "output_type": "error",
     "traceback": [
      "\u001B[0;31m---------------------------------------------------------------------------\u001B[0m",
      "\u001B[0;31mValueError\u001B[0m                                Traceback (most recent call last)",
      "Input \u001B[0;32mIn [17]\u001B[0m, in \u001B[0;36m<cell line: 3>\u001B[0;34m()\u001B[0m\n\u001B[1;32m      1\u001B[0m \u001B[38;5;28;01mimport\u001B[39;00m \u001B[38;5;21;01mlda\u001B[39;00m\n\u001B[1;32m      2\u001B[0m model \u001B[38;5;241m=\u001B[39m lda\u001B[38;5;241m.\u001B[39mLDA(n_topics\u001B[38;5;241m=\u001B[39m\u001B[38;5;241m20\u001B[39m, n_iter\u001B[38;5;241m=\u001B[39m\u001B[38;5;241m1500\u001B[39m, random_state\u001B[38;5;241m=\u001B[39m\u001B[38;5;241m1\u001B[39m)\n\u001B[0;32m----> 3\u001B[0m \u001B[43mmodel\u001B[49m\u001B[38;5;241;43m.\u001B[39;49m\u001B[43mfit\u001B[49m\u001B[43m(\u001B[49m\u001B[43mX\u001B[49m\u001B[43m)\u001B[49m\n",
      "File \u001B[0;32m~/PycharmProjects/github-crawler/env/lib/python3.9/site-packages/lda/lda.py:130\u001B[0m, in \u001B[0;36mLDA.fit\u001B[0;34m(self, X, y)\u001B[0m\n\u001B[1;32m    116\u001B[0m \u001B[38;5;28;01mdef\u001B[39;00m \u001B[38;5;21mfit\u001B[39m(\u001B[38;5;28mself\u001B[39m, X, y\u001B[38;5;241m=\u001B[39m\u001B[38;5;28;01mNone\u001B[39;00m):\n\u001B[1;32m    117\u001B[0m     \u001B[38;5;124;03m\"\"\"Fit the model with X.\u001B[39;00m\n\u001B[1;32m    118\u001B[0m \n\u001B[1;32m    119\u001B[0m \u001B[38;5;124;03m    Parameters\u001B[39;00m\n\u001B[0;32m   (...)\u001B[0m\n\u001B[1;32m    128\u001B[0m \u001B[38;5;124;03m        Returns the instance itself.\u001B[39;00m\n\u001B[1;32m    129\u001B[0m \u001B[38;5;124;03m    \"\"\"\u001B[39;00m\n\u001B[0;32m--> 130\u001B[0m     \u001B[38;5;28;43mself\u001B[39;49m\u001B[38;5;241;43m.\u001B[39;49m\u001B[43m_fit\u001B[49m\u001B[43m(\u001B[49m\u001B[43mX\u001B[49m\u001B[43m)\u001B[49m\n\u001B[1;32m    131\u001B[0m     \u001B[38;5;28;01mreturn\u001B[39;00m \u001B[38;5;28mself\u001B[39m\n",
      "File \u001B[0;32m~/PycharmProjects/github-crawler/env/lib/python3.9/site-packages/lda/lda.py:243\u001B[0m, in \u001B[0;36mLDA._fit\u001B[0;34m(self, X)\u001B[0m\n\u001B[1;32m    241\u001B[0m random_state \u001B[38;5;241m=\u001B[39m lda\u001B[38;5;241m.\u001B[39mutils\u001B[38;5;241m.\u001B[39mcheck_random_state(\u001B[38;5;28mself\u001B[39m\u001B[38;5;241m.\u001B[39mrandom_state)\n\u001B[1;32m    242\u001B[0m rands \u001B[38;5;241m=\u001B[39m \u001B[38;5;28mself\u001B[39m\u001B[38;5;241m.\u001B[39m_rands\u001B[38;5;241m.\u001B[39mcopy()\n\u001B[0;32m--> 243\u001B[0m \u001B[38;5;28;43mself\u001B[39;49m\u001B[38;5;241;43m.\u001B[39;49m\u001B[43m_initialize\u001B[49m\u001B[43m(\u001B[49m\u001B[43mX\u001B[49m\u001B[43m)\u001B[49m\n\u001B[1;32m    244\u001B[0m \u001B[38;5;28;01mfor\u001B[39;00m it \u001B[38;5;129;01min\u001B[39;00m \u001B[38;5;28mrange\u001B[39m(\u001B[38;5;28mself\u001B[39m\u001B[38;5;241m.\u001B[39mn_iter):\n\u001B[1;32m    245\u001B[0m     \u001B[38;5;66;03m# FIXME: using numpy.roll with a random shift might be faster\u001B[39;00m\n\u001B[1;32m    246\u001B[0m     random_state\u001B[38;5;241m.\u001B[39mshuffle(rands)\n",
      "File \u001B[0;32m~/PycharmProjects/github-crawler/env/lib/python3.9/site-packages/lda/lda.py:269\u001B[0m, in \u001B[0;36mLDA._initialize\u001B[0;34m(self, X)\u001B[0m\n\u001B[1;32m    268\u001B[0m \u001B[38;5;28;01mdef\u001B[39;00m \u001B[38;5;21m_initialize\u001B[39m(\u001B[38;5;28mself\u001B[39m, X):\n\u001B[0;32m--> 269\u001B[0m     D, W \u001B[38;5;241m=\u001B[39m X\u001B[38;5;241m.\u001B[39mshape\n\u001B[1;32m    270\u001B[0m     N \u001B[38;5;241m=\u001B[39m \u001B[38;5;28mint\u001B[39m(X\u001B[38;5;241m.\u001B[39msum())\n\u001B[1;32m    271\u001B[0m     n_topics \u001B[38;5;241m=\u001B[39m \u001B[38;5;28mself\u001B[39m\u001B[38;5;241m.\u001B[39mn_topics\n",
      "\u001B[0;31mValueError\u001B[0m: not enough values to unpack (expected 2, got 1)"
     ]
    }
   ],
   "source": [
    "import lda\n",
    "model = lda.LDA(n_topics=20, n_iter=1500, random_state=1)\n",
    "model.fit(X)"
   ],
   "metadata": {
    "collapsed": false,
    "pycharm": {
     "name": "#%%\n"
    }
   }
  },
  {
   "cell_type": "code",
   "execution_count": null,
   "outputs": [],
   "source": [
    "topic_word = model.topic_word_\n",
    "n_top_words = 8\n",
    "for i, topic_dist in enumerate(topic_word):\n",
    "    topic_words = np.array(X)[np.argsort(topic_dist)][:-(n_top_words+1):-1]\n",
    "    print('Topic {}: {}'.format(i, ' '.join(topic_words)))"
   ],
   "metadata": {
    "collapsed": false,
    "pycharm": {
     "name": "#%%\n"
    }
   }
  },
  {
   "cell_type": "code",
   "execution_count": 12,
   "metadata": {
    "pycharm": {
     "name": "#%%\n"
    }
   },
   "outputs": [
    {
     "data": {
      "text/plain": [
       "((100, 6), (60, 6), (20, 6), (20, 6))"
      ]
     },
     "execution_count": 12,
     "metadata": {},
     "output_type": "execute_result"
    }
   ],
   "source": [
    "train_data_loader = create_data_loader(df_train, bert_tokenizer, MAX_LEN, BATCH_SIZE)\n",
    "val_data_loader = create_data_loader(df_val, bert_tokenizer, MAX_LEN, BATCH_SIZE)\n",
    "test_data_loader = create_data_loader(df_test, bert_tokenizer, MAX_LEN, BATCH_SIZE)\n",
    "new_df.shape, df_train.shape, df_val.shape, df_test.shape"
   ]
  },
  {
   "cell_type": "code",
   "execution_count": 13,
   "metadata": {
    "pycharm": {
     "name": "#%%\n"
    }
   },
   "outputs": [],
   "source": [
    "# for d in train_data_loader:\n",
    "#     input_ids = d[\"input_ids\"].to(device)\n",
    "#     attention_mask = d[\"attention_mask\"].to(device)\n",
    "#     targets = d[\"targets\"].to(device)\n",
    "#     print(d[\"input_ids\"].shape)\n",
    "# len(val_data_loader.dataset)"
   ]
  },
  {
   "cell_type": "code",
   "execution_count": 14,
   "metadata": {
    "pycharm": {
     "name": "#%%\n"
    }
   },
   "outputs": [],
   "source": [
    "# TEST the tokenizer and data loader\n",
    "# sequence = prepareSequenceForBERT(new_df.iloc[1]['readme'])\n",
    "# label = new_df.iloc[2]['600stars']\n",
    "# tokens = bert_tokenizer.encode_plus(\n",
    "#             sequence,\n",
    "#             None,\n",
    "#             max_length= 512,\n",
    "#             truncation=True,\n",
    "#             add_special_tokens=True,\n",
    "# #             pad_to_max_length=True,\n",
    "#             padding = True,\n",
    "#             return_token_type_ids=True\n",
    "#         )\n",
    "# print(f' Sentence: {sequence}')\n",
    "# print(f' Tokens: {tokens}')\n",
    "# print(f' Tokens.token_type_ids: {tokens.token_type_ids}')\n",
    "# print(f' Tokens.input_ids: {len(tokens.input_ids)}')\n",
    "# output = {\n",
    "#       'input_ids': torch.tensor(tokens.input_ids, dtype=torch.long),\n",
    "#       'attention_mask':  torch.tensor(tokens.attention_mask, dtype=torch.long),\n",
    "#       'token_type_ids': torch.tensor(tokens.token_type_ids, dtype=torch.long),\n",
    "#       'targets': torch.tensor(label, dtype=torch.long)\n",
    "#     }\n",
    "# output"
   ]
  },
  {
   "cell_type": "code",
   "execution_count": 15,
   "metadata": {
    "pycharm": {
     "name": "#%%\n"
    }
   },
   "outputs": [
    {
     "name": "stderr",
     "output_type": "stream",
     "text": [
      "/Users/julinamaharjan/PycharmProjects/github-crawler/env/lib/python3.9/site-packages/transformers/optimization.py:306: FutureWarning: This implementation of AdamW is deprecated and will be removed in a future version. Use the PyTorch implementation torch.optim.AdamW instead, or set `no_deprecation_warning=True` to disable this warning\n",
      "  warnings.warn(\n"
     ]
    }
   ],
   "source": [
    "optimizer = AdamW(bert_model.parameters(), lr=2e-5, correct_bias=False)\n",
    "total_steps = len(train_data_loader) * EPOCHS\n",
    "\n",
    "from transformers import get_linear_schedule_with_warmup\n",
    "scheduler = get_linear_schedule_with_warmup(\n",
    "  optimizer,\n",
    "  num_warmup_steps=0,\n",
    "  num_training_steps=total_steps\n",
    ")\n",
    "# loss_fn = nn.CrossEntropyLoss().to(device)"
   ]
  },
  {
   "cell_type": "code",
   "execution_count": 16,
   "metadata": {
    "pycharm": {
     "name": "#%%\n"
    }
   },
   "outputs": [],
   "source": [
    "def train_epoch( model, data_loader, loss_fn, optimizer, device, scheduler, n_examples):\n",
    "  model = model.train()\n",
    "\n",
    "  losses = []\n",
    "  correct_predictions = 0\n",
    "\n",
    "  for d in data_loader:\n",
    "    input_ids = d[\"input_ids\"].to(device)\n",
    "    attention_mask = d[\"attention_mask\"].to(device)\n",
    "    targets = d[\"targets\"].to(device)\n",
    "\n",
    "    outputs = model(\n",
    "      input_ids=input_ids,\n",
    "      attention_mask=attention_mask\n",
    "    )\n",
    "\n",
    "    _, preds = torch.max(outputs.logits, dim=1)\n",
    "    loss = loss_fn(outputs.logits, targets)\n",
    "\n",
    "    correct_predictions += torch.sum(preds == targets)\n",
    "    losses.append(loss.item())\n",
    "\n",
    "    loss.backward()\n",
    "    nn.utils.clip_grad_norm_(model.parameters(), max_norm=1.0)\n",
    "    optimizer.step()\n",
    "    scheduler.step()\n",
    "    optimizer.zero_grad()\n",
    "\n",
    "  return correct_predictions.double() / n_examples, np.mean(losses)"
   ]
  },
  {
   "cell_type": "code",
   "execution_count": 17,
   "metadata": {
    "pycharm": {
     "name": "#%%\n"
    }
   },
   "outputs": [],
   "source": [
    "def eval_model(model, data_loader, loss_fn, device, n_examples):\n",
    "  model = model.eval()\n",
    "\n",
    "  losses = []\n",
    "  correct_predictions = 0\n",
    "\n",
    "  with torch.no_grad():\n",
    "    for d in data_loader:\n",
    "      input_ids = d[\"input_ids\"].to(device)\n",
    "      attention_mask = d[\"attention_mask\"].to(device)\n",
    "      targets = d[\"targets\"].to(device)\n",
    "\n",
    "      outputs = model(\n",
    "        input_ids=input_ids,\n",
    "        attention_mask=attention_mask\n",
    "      )\n",
    "      _, preds = torch.max(outputs.logits, dim=1)\n",
    "\n",
    "      loss = loss_fn(outputs.logits, targets)\n",
    "\n",
    "      correct_predictions += torch.sum(preds == targets)\n",
    "      losses.append(loss.item())\n",
    "\n",
    "  return correct_predictions.double() / n_examples, np.mean(losses)"
   ]
  },
  {
   "cell_type": "code",
   "execution_count": 18,
   "metadata": {
    "pycharm": {
     "name": "#%%\n"
    }
   },
   "outputs": [
    {
     "name": "stderr",
     "output_type": "stream",
     "text": [
      "/Users/julinamaharjan/PycharmProjects/github-crawler/env/lib/python3.9/site-packages/transformers/tokenization_utils_base.py:2301: FutureWarning: The `pad_to_max_length` argument is deprecated and will be removed in a future version, use `padding=True` or `padding='longest'` to pad to the longest sequence in the batch, or use `padding='max_length'` to pad to a max length. In this case, you can give a specific length with `max_length` (e.g. `max_length=45`) or leave max_length to None to pad to the maximal input size of the model (e.g. 512 for Bert).\n",
      "  warnings.warn(\n"
     ]
    },
    {
     "name": "stdout",
     "output_type": "stream",
     "text": [
      "Epoch 1/10\n",
      "----------\n",
      "Train loss 0.3004196286201477 accuracy 0.9166666666666666\n",
      "Val   loss 0.13683850690722466 accuracy 0.95\n",
      "\n",
      "Epoch 3/10\n",
      "----------\n",
      "Train loss 0.18011835310608149 accuracy 0.9333333333333333\n",
      "Val   loss 0.14710313826799393 accuracy 0.95\n",
      "\n",
      "Epoch 4/10\n",
      "----------\n",
      "Train loss 0.130374850705266 accuracy 0.9333333333333333\n",
      "Val   loss 0.12100890278816223 accuracy 0.95\n",
      "\n",
      "Epoch 5/10\n",
      "----------\n",
      "Train loss 0.10133744310587645 accuracy 0.9333333333333333\n",
      "Val   loss 0.10634927451610565 accuracy 0.95\n",
      "\n",
      "Epoch 6/10\n",
      "----------\n",
      "Train loss 0.07862597063649446 accuracy 0.95\n",
      "Val   loss 0.1610282063484192 accuracy 0.95\n",
      "\n",
      "Epoch 7/10\n",
      "----------\n",
      "Train loss 0.06008679635124281 accuracy 0.95\n",
      "Val   loss 0.1485648863017559 accuracy 0.95\n",
      "\n",
      "Epoch 8/10\n",
      "----------\n",
      "Train loss 0.049081339995609596 accuracy 0.95\n",
      "Val   loss 0.12847472727298737 accuracy 0.95\n",
      "\n",
      "Epoch 9/10\n",
      "----------\n",
      "Train loss 0.050877975969342515 accuracy 0.95\n",
      "Val   loss 0.12819460593163967 accuracy 0.95\n",
      "\n",
      "Epoch 10/10\n",
      "----------\n",
      "Train loss 0.04041993914870545 accuracy 0.9833333333333333\n",
      "Val   loss 0.12658719718456268 accuracy 0.95\n",
      "\n",
      "CPU times: user 1h 32min 33s, sys: 11min 37s, total: 1h 44min 10s\n",
      "Wall time: 3h 55min 10s\n"
     ]
    }
   ],
   "source": [
    "%%time\n",
    "history = defaultdict(list)\n",
    "loss_fn = nn.CrossEntropyLoss().to(device)\n",
    "best_accuracy = 0\n",
    "\n",
    "for epoch in range(EPOCHS):\n",
    "\n",
    "  print(f'Epoch {epoch + 1}/{EPOCHS}')\n",
    "  print('-' * 10)\n",
    "\n",
    "  train_acc, train_loss = train_epoch(\n",
    "    bert_model,\n",
    "    train_data_loader,\n",
    "    loss_fn,\n",
    "    optimizer,\n",
    "    device,\n",
    "    scheduler,\n",
    "    len(df_train)\n",
    "  )\n",
    "\n",
    "  print(f'Train loss {train_loss} accuracy {train_acc}')\n",
    "\n",
    "  val_acc, val_loss = eval_model(\n",
    "    bert_model,\n",
    "    val_data_loader,\n",
    "    loss_fn,\n",
    "    device,\n",
    "    len(df_val)\n",
    "  )\n",
    "\n",
    "  print(f'Val   loss {val_loss} accuracy {val_acc}')\n",
    "  print()\n",
    "\n",
    "  history['train_acc'].append(train_acc)\n",
    "  history['train_loss'].append(train_loss)\n",
    "  history['val_acc'].append(val_acc)\n",
    "  history['val_loss'].append(val_loss)\n",
    "\n",
    "  if val_acc > best_accuracy:\n",
    "    current_time = datetime.now().strftime(\"%Y_%m_%d-%I_%M%p\")\n",
    "    torch.save(bert_model.state_dict(), 'best_model_state' + current_time+'.bin')\n",
    "    best_accuracy = val_acc"
   ]
  },
  {
   "cell_type": "code",
   "execution_count": 19,
   "metadata": {
    "pycharm": {
     "name": "#%%\n"
    }
   },
   "outputs": [
    {
     "data": {
      "text/plain": "1.0"
     },
     "execution_count": 19,
     "metadata": {},
     "output_type": "execute_result"
    }
   ],
   "source": [
    "test_acc, _ = eval_model(bert_model, test_data_loader, loss_fn, device, len(df_test))\n",
    "test_acc.item()"
   ]
  },
  {
   "cell_type": "code",
   "execution_count": 20,
   "metadata": {
    "pycharm": {
     "name": "#%%\n"
    }
   },
   "outputs": [],
   "source": [
    "def get_predictions(model, data_loader):\n",
    "  model = model.eval()\n",
    "\n",
    "  sequences = []\n",
    "  predictions = []\n",
    "  prediction_probs = []\n",
    "  real_values = []\n",
    "\n",
    "  with torch.no_grad():\n",
    "    for d in data_loader:\n",
    "\n",
    "      texts = d[\"sequence\"]\n",
    "      input_ids = d[\"input_ids\"].to(device)\n",
    "      attention_mask = d[\"attention_mask\"].to(device)\n",
    "      token_type_ids = d[\"token_type_ids\"].to(device)\n",
    "      targets = d[\"targets\"].to(device)\n",
    "\n",
    "      outputs = model(input_ids=input_ids, attention_mask=attention_mask, token_type_ids=token_type_ids)\n",
    "\n",
    "      _, preds = torch.max(outputs.logits, dim=1)\n",
    "      probs = F.softmax(outputs.logits, dim=1)\n",
    "\n",
    "      sequences.extend(texts)\n",
    "      predictions.extend(preds)\n",
    "      prediction_probs.extend(probs)\n",
    "      real_values.extend(targets)\n",
    "\n",
    "  predictions = torch.stack(predictions).cpu()\n",
    "  prediction_probs = torch.stack(prediction_probs).cpu()\n",
    "  real_values = torch.stack(real_values).cpu()\n",
    "  return outputs, sequences, predictions, prediction_probs, real_values"
   ]
  },
  {
   "cell_type": "code",
   "execution_count": 31,
   "metadata": {
    "pycharm": {
     "name": "#%%\n"
    }
   },
   "outputs": [
    {
     "name": "stderr",
     "output_type": "stream",
     "text": [
      "/Users/julinamaharjan/PycharmProjects/github-crawler/env/lib/python3.9/site-packages/transformers/tokenization_utils_base.py:2301: FutureWarning: The `pad_to_max_length` argument is deprecated and will be removed in a future version, use `padding=True` or `padding='longest'` to pad to the longest sequence in the batch, or use `padding='max_length'` to pad to a max length. In this case, you can give a specific length with `max_length` (e.g. `max_length=45`) or leave max_length to None to pad to the maximal input size of the model (e.g. 512 for Bert).\n",
      "  warnings.warn(\n"
     ]
    }
   ],
   "source": [
    "outputss, y_sequences, y_pred, y_pred_probs, y_test = get_predictions(bert_model, val_data_loader)"
   ]
  },
  {
   "cell_type": "code",
   "execution_count": 32,
   "metadata": {
    "pycharm": {
     "name": "#%%\n"
    }
   },
   "outputs": [
    {
     "data": {
      "text/plain": "<Figure size 432x288 with 1 Axes>",
      "image/png": "[encoded data removed]"
     },
     "metadata": {
      "needs_background": "light"
     },
     "output_type": "display_data"
    }
   ],
   "source": [
    "logit_roc_auc = roc_auc_score(y_test, y_pred)\n",
    "fpr, tpr, thresholds = roc_curve(y_test.numpy(), y_pred_probs[:, 1:].numpy())\n",
    "plt.figure()\n",
    "plt.plot(fpr, tpr, label='Logistic Regression (area = %0.2f)' % logit_roc_auc)\n",
    "plt.plot([0, 1], [0, 1],'r--')\n",
    "plt.xlim([-0.05, 1.0])\n",
    "plt.ylim([0.0, 1.05])\n",
    "plt.xlabel('False Positive Rate')\n",
    "plt.ylabel('True Positive Rate')\n",
    "plt.title('Receiver operating characteristic')\n",
    "plt.legend(loc=\"lower right\")\n",
    "plt.savefig('Log_ROC_'+ current_time +'.png')\n",
    "plt.show()"
   ]
  },
  {
   "cell_type": "code",
   "execution_count": 33,
   "outputs": [
    {
     "data": {
      "text/plain": "(array([0.        , 0.05263158, 0.10526316, 0.10526316, 0.63157895,\n        0.78947368, 1.        ]),\n array([0., 0., 0., 1., 1., 1., 1.]),\n array([1.21246111e+00, 2.12461069e-01, 1.02780305e-01, 3.57354097e-02,\n        7.61162606e-04, 7.33732188e-04, 7.33731838e-04], dtype=float32))"
     },
     "execution_count": 33,
     "metadata": {},
     "output_type": "execute_result"
    }
   ],
   "source": [
    "fpr, tpr, thresholds"
   ],
   "metadata": {
    "collapsed": false,
    "pycharm": {
     "name": "#%%\n"
    }
   }
  },
  {
   "cell_type": "code",
   "execution_count": 34,
   "outputs": [
    {
     "name": "stderr",
     "output_type": "stream",
     "text": [
      "/var/folders/xq/pylr4t8d08g_cywhg3hhf02w0000gn/T/ipykernel_72783/2889840059.py:3: VisibleDeprecationWarning: Creating an ndarray from ragged nested sequences (which is a list-or-tuple of lists-or-tuples-or ndarrays with different lengths or shapes) is deprecated. If you meant to do this, you must specify 'dtype=object' when creating the ndarray.\n",
      "  npa = np.asarray(someListOfLists)\n"
     ]
    },
    {
     "data": {
      "text/plain": "                                               readme  Real  Predicted  \\\n0   [CLS]Install with Docker\\n,directly in the con...     0          0   \n1   [CLS]EvenVizion - is a video-based camera loca...     0          0   \n2                                          [CLS][SEP]     0          0   \n3                                          [CLS][SEP]     0          0   \n4                                          [CLS][SEP]     0          0   \n5   [CLS][SEP][SEP][SEP]⚓ Citation\\nPlease use the...     0          0   \n6   [CLS] ,\\ntry a another image (mirror.baidubce....     1          0   \n7                                          [CLS][SEP]     0          0   \n8                                [CLS][SEP][SEP][SEP]     0          0   \n9   [CLS]\\nInstallation\\nClone the repo\\nInstall r...     0          0   \n10  [CLS][SEP][SEP]/v4[SEP][SEP][SEP][SEP][SEP]Go ...     0          0   \n11  [CLS]New Release version 0.7.0\\nTensorboard su...     0          0   \n12                                         [CLS][SEP]     0          0   \n13  [CLS]Command Line Interface\\nA command line in...     0          0   \n14  [CLS]imulink, tool chains and compiler,Models ...     0          0   \n15                                         [CLS][SEP]     0          0   \n16  [CLS]\\nFrom AutoML-Benchmark ,:\\n01_Quick_Star...     0          0   \n17  [CLS] The automated machine learning pipeline ...     0          0   \n18  [CLS] Thanks to Ilyes and Kévin for the PR\\nIl...     0          0   \n19                                         [CLS][SEP]     0          0   \n\n    Pred-prob              All Pred-probs  \n0    0.002230   [0.99776983, 0.002230199]  \n1    0.001103   [0.9988971, 0.0011029042]  \n2    0.000734  [0.9992662, 0.00073373184]  \n3    0.000734   [0.9992662, 0.0007337322]  \n4    0.000734  [0.9992662, 0.00073373184]  \n5    0.000761  [0.99923885, 0.0007611626]  \n6    0.035735     [0.9642646, 0.03573541]  \n7    0.000734   [0.9992662, 0.0007337322]  \n8    0.000771   [0.9992292, 0.0007707568]  \n9    0.212461    [0.78753895, 0.21246107]  \n10   0.003239   [0.99676055, 0.003239427]  \n11   0.015620     [0.9843805, 0.01561951]  \n12   0.000734  [0.9992662, 0.00073373184]  \n13   0.001605   [0.9983948, 0.0016051709]  \n14   0.000827  [0.99917334, 0.0008266301]  \n15   0.000734   [0.9992662, 0.0007337322]  \n16   0.002207   [0.9977931, 0.0022068887]  \n17   0.102780    [0.8972197, 0.102780305]  \n18   0.001012  [0.99898833, 0.0010116681]  \n19   0.000734  [0.9992662, 0.00073373184]  ",
      "text/html": "<div>\n<style scoped>\n    .dataframe tbody tr th:only-of-type {\n        vertical-align: middle;\n    }\n\n    .dataframe tbody tr th {\n        vertical-align: top;\n    }\n\n    .dataframe thead th {\n        text-align: right;\n    }\n</style>\n<table border=\"1\" class=\"dataframe\">\n  <thead>\n    <tr style=\"text-align: right;\">\n      <th></th>\n      <th>readme</th>\n      <th>Real</th>\n      <th>Predicted</th>\n      <th>Pred-prob</th>\n      <th>All Pred-probs</th>\n    </tr>\n  </thead>\n  <tbody>\n    <tr>\n      <th>0</th>\n      <td>[CLS]Install with Docker\\n,directly in the con...</td>\n      <td>0</td>\n      <td>0</td>\n      <td>0.002230</td>\n      <td>[0.99776983, 0.002230199]</td>\n    </tr>\n    <tr>\n      <th>1</th>\n      <td>[CLS]EvenVizion - is a video-based camera loca...</td>\n      <td>0</td>\n      <td>0</td>\n      <td>0.001103</td>\n      <td>[0.9988971, 0.0011029042]</td>\n    </tr>\n    <tr>\n      <th>2</th>\n      <td>[CLS][SEP]</td>\n      <td>0</td>\n      <td>0</td>\n      <td>0.000734</td>\n      <td>[0.9992662, 0.00073373184]</td>\n    </tr>\n    <tr>\n      <th>3</th>\n      <td>[CLS][SEP]</td>\n      <td>0</td>\n      <td>0</td>\n      <td>0.000734</td>\n      <td>[0.9992662, 0.0007337322]</td>\n    </tr>\n    <tr>\n      <th>4</th>\n      <td>[CLS][SEP]</td>\n      <td>0</td>\n      <td>0</td>\n      <td>0.000734</td>\n      <td>[0.9992662, 0.00073373184]</td>\n    </tr>\n    <tr>\n      <th>5</th>\n      <td>[CLS][SEP][SEP][SEP]⚓ Citation\\nPlease use the...</td>\n      <td>0</td>\n      <td>0</td>\n      <td>0.000761</td>\n      <td>[0.99923885, 0.0007611626]</td>\n    </tr>\n    <tr>\n      <th>6</th>\n      <td>[CLS] ,\\ntry a another image (mirror.baidubce....</td>\n      <td>1</td>\n      <td>0</td>\n      <td>0.035735</td>\n      <td>[0.9642646, 0.03573541]</td>\n    </tr>\n    <tr>\n      <th>7</th>\n      <td>[CLS][SEP]</td>\n      <td>0</td>\n      <td>0</td>\n      <td>0.000734</td>\n      <td>[0.9992662, 0.0007337322]</td>\n    </tr>\n    <tr>\n      <th>8</th>\n      <td>[CLS][SEP][SEP][SEP]</td>\n      <td>0</td>\n      <td>0</td>\n      <td>0.000771</td>\n      <td>[0.9992292, 0.0007707568]</td>\n    </tr>\n    <tr>\n      <th>9</th>\n      <td>[CLS]\\nInstallation\\nClone the repo\\nInstall r...</td>\n      <td>0</td>\n      <td>0</td>\n      <td>0.212461</td>\n      <td>[0.78753895, 0.21246107]</td>\n    </tr>\n    <tr>\n      <th>10</th>\n      <td>[CLS][SEP][SEP]/v4[SEP][SEP][SEP][SEP][SEP]Go ...</td>\n      <td>0</td>\n      <td>0</td>\n      <td>0.003239</td>\n      <td>[0.99676055, 0.003239427]</td>\n    </tr>\n    <tr>\n      <th>11</th>\n      <td>[CLS]New Release version 0.7.0\\nTensorboard su...</td>\n      <td>0</td>\n      <td>0</td>\n      <td>0.015620</td>\n      <td>[0.9843805, 0.01561951]</td>\n    </tr>\n    <tr>\n      <th>12</th>\n      <td>[CLS][SEP]</td>\n      <td>0</td>\n      <td>0</td>\n      <td>0.000734</td>\n      <td>[0.9992662, 0.00073373184]</td>\n    </tr>\n    <tr>\n      <th>13</th>\n      <td>[CLS]Command Line Interface\\nA command line in...</td>\n      <td>0</td>\n      <td>0</td>\n      <td>0.001605</td>\n      <td>[0.9983948, 0.0016051709]</td>\n    </tr>\n    <tr>\n      <th>14</th>\n      <td>[CLS]imulink, tool chains and compiler,Models ...</td>\n      <td>0</td>\n      <td>0</td>\n      <td>0.000827</td>\n      <td>[0.99917334, 0.0008266301]</td>\n    </tr>\n    <tr>\n      <th>15</th>\n      <td>[CLS][SEP]</td>\n      <td>0</td>\n      <td>0</td>\n      <td>0.000734</td>\n      <td>[0.9992662, 0.0007337322]</td>\n    </tr>\n    <tr>\n      <th>16</th>\n      <td>[CLS]\\nFrom AutoML-Benchmark ,:\\n01_Quick_Star...</td>\n      <td>0</td>\n      <td>0</td>\n      <td>0.002207</td>\n      <td>[0.9977931, 0.0022068887]</td>\n    </tr>\n    <tr>\n      <th>17</th>\n      <td>[CLS] The automated machine learning pipeline ...</td>\n      <td>0</td>\n      <td>0</td>\n      <td>0.102780</td>\n      <td>[0.8972197, 0.102780305]</td>\n    </tr>\n    <tr>\n      <th>18</th>\n      <td>[CLS] Thanks to Ilyes and Kévin for the PR\\nIl...</td>\n      <td>0</td>\n      <td>0</td>\n      <td>0.001012</td>\n      <td>[0.99898833, 0.0010116681]</td>\n    </tr>\n    <tr>\n      <th>19</th>\n      <td>[CLS][SEP]</td>\n      <td>0</td>\n      <td>0</td>\n      <td>0.000734</td>\n      <td>[0.9992662, 0.00073373184]</td>\n    </tr>\n  </tbody>\n</table>\n</div>"
     },
     "execution_count": 34,
     "metadata": {},
     "output_type": "execute_result"
    }
   ],
   "source": [
    "y_pred_probs_pd = [y.numpy() for y in y_pred_probs]\n",
    "someListOfLists = list(zip(y_sequences, y_test.numpy(), y_pred.numpy(), y_pred_probs[:, 1:].numpy().squeeze(), y_pred_probs_pd ))\n",
    "npa = np.asarray(someListOfLists)\n",
    "dff = pd.DataFrame(someListOfLists, columns = ['readme', 'Real', 'Predicted', 'Pred-prob', 'All Pred-probs' ])\n",
    "dff"
   ],
   "metadata": {
    "collapsed": false,
    "pycharm": {
     "name": "#%%\n"
    }
   }
  },
  {
   "cell_type": "code",
   "execution_count": null,
   "outputs": [],
   "source": [],
   "metadata": {
    "collapsed": false,
    "pycharm": {
     "name": "#%%\n"
    }
   }
  }
 ],
 "metadata": {
  "kernelspec": {
   "display_name": "Python 3 (ipykernel)",
   "language": "python",
   "name": "python3"
  },
  "language_info": {
   "codemirror_mode": {
    "name": "ipython",
    "version": 3
   },
   "file_extension": ".py",
   "mimetype": "text/x-python",
   "name": "python",
   "nbconvert_exporter": "python",
   "pygments_lexer": "ipython3",
   "version": "3.9.12"
  }
 },
 "nbformat": 4,
 "nbformat_minor": 1
}