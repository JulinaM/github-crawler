{
 "cells": [
  {
   "cell_type": "code",
   "execution_count": 1,
   "metadata": {},
   "outputs": [
    {
     "name": "stdout",
     "output_type": "stream",
     "text": [
      "SUCCESS connecting to Cloudant db github-public-ai-2022\n"
     ]
    }
   ],
   "source": [
    "import sys\n",
    "from utils import print_json\n",
    "from utils.cloudant_utils import cloudant_db as db, save_doc\n",
    "from datetime import date\n",
    "import numpy as np\n",
    "import pandas as pd"
   ]
  },
  {
   "cell_type": "code",
   "execution_count": 2,
   "metadata": {},
   "outputs": [
    {
     "data": {
      "text/plain": [
       "dict_keys(['repo', 'release_tag', 'release_date', 'downloads', 'stars', 'watchers', 'forks', 'commits', 'issues', 'total_stars', 'total_forks', 'total_commits', 'contributors', 'total_issues', 'total_closedIssues', 'closedIssues', 'readme', 'readme_size'])"
      ]
     },
     "execution_count": 2,
     "metadata": {},
     "output_type": "execute_result"
    }
   ],
   "source": [
    "repos = [r for r in db.get_query_result({\"type\": \"release\"}, [\"_id\", \"releases\"], \n",
    "                                        limit=10000, raw_result=True)[\"docs\"]]\n",
    "repos[0]['releases'][0].keys()"
   ]
  },
  {
   "cell_type": "code",
   "execution_count": 3,
   "metadata": {},
   "outputs": [
    {
     "data": {
      "text/plain": [
       "(44043, 19)"
      ]
     },
     "execution_count": 3,
     "metadata": {},
     "output_type": "execute_result"
    }
   ],
   "source": [
    "values = [r for release in repos for r in release[\"releases\"]]\n",
    "df = pd.DataFrame(values)\n",
    "df.shape "
   ]
  },
  {
   "cell_type": "markdown",
   "metadata": {},
   "source": [
    "# clean the data "
   ]
  },
  {
   "cell_type": "code",
   "execution_count": 4,
   "metadata": {},
   "outputs": [],
   "source": [
    "# df['contributors'] = df['contributors'].apply(lambda d: d if isinstance(d, list) else [])\n",
    "# df['contributors'] = df['contributors'].apply(lambda x: [i for i in x if i is not None] )\n",
    "df['contributors'] = df['contributors'].apply(lambda x: \n",
    "                                              [i for i in x if i is not None] if isinstance(x, list)\n",
    "                                              else [])"
   ]
  },
  {
   "cell_type": "code",
   "execution_count": 5,
   "metadata": {},
   "outputs": [],
   "source": [
    "# df['contributors'].str.len()\n",
    "# new_df['contributor_count'] = new_df['contributors'].apply(lambda x: len(x))\n",
    "# df['contributor_count'] = df.contributors.map(len)"
   ]
  },
  {
   "cell_type": "markdown",
   "metadata": {},
   "source": [
    "# Make a copy of Original dataframe"
   ]
  },
  {
   "cell_type": "code",
   "execution_count": 6,
   "metadata": {},
   "outputs": [],
   "source": [
    "new_df = df[['repo', 'release_tag', 'release_date', 'downloads', 'stars', 'forks', 'commits', \n",
    "             'issues', 'closedIssues', 'readme', 'readme_size', 'contributors']].copy()"
   ]
  },
  {
   "cell_type": "code",
   "execution_count": 7,
   "metadata": {},
   "outputs": [
    {
     "data": {
      "text/html": [
       "<div>\n",
       "<style scoped>\n",
       "    .dataframe tbody tr th:only-of-type {\n",
       "        vertical-align: middle;\n",
       "    }\n",
       "\n",
       "    .dataframe tbody tr th {\n",
       "        vertical-align: top;\n",
       "    }\n",
       "\n",
       "    .dataframe thead th {\n",
       "        text-align: right;\n",
       "    }\n",
       "</style>\n",
       "<table border=\"1\" class=\"dataframe\">\n",
       "  <thead>\n",
       "    <tr style=\"text-align: right;\">\n",
       "      <th></th>\n",
       "      <th>repo</th>\n",
       "      <th>release_tag</th>\n",
       "      <th>release_date</th>\n",
       "      <th>downloads</th>\n",
       "      <th>stars</th>\n",
       "      <th>forks</th>\n",
       "      <th>commits</th>\n",
       "      <th>issues</th>\n",
       "      <th>closedIssues</th>\n",
       "      <th>readme</th>\n",
       "      <th>readme_size</th>\n",
       "      <th>contributors</th>\n",
       "    </tr>\n",
       "  </thead>\n",
       "  <tbody>\n",
       "    <tr>\n",
       "      <th>24495</th>\n",
       "      <td>iperov/DeepFaceLab</td>\n",
       "      <td>DF.wf.288res.384.92.72.22</td>\n",
       "      <td>2020-04-09T05:48:48Z</td>\n",
       "      <td>66151</td>\n",
       "      <td>18517</td>\n",
       "      <td>4013</td>\n",
       "      <td>355</td>\n",
       "      <td>0</td>\n",
       "      <td>0</td>\n",
       "      <td>﻿&lt;table align=\"center\" border=\"0\"&gt;&lt;tr&gt;&lt;td alig...</td>\n",
       "      <td>6462</td>\n",
       "      <td>[iperov]</td>\n",
       "    </tr>\n",
       "    <tr>\n",
       "      <th>9974</th>\n",
       "      <td>TencentARC/GFPGAN</td>\n",
       "      <td>v0.2.0</td>\n",
       "      <td>2021-08-06T12:07:49Z</td>\n",
       "      <td>93903</td>\n",
       "      <td>16450</td>\n",
       "      <td>2451</td>\n",
       "      <td>44</td>\n",
       "      <td>108</td>\n",
       "      <td>40</td>\n",
       "      <td># GFPGAN (CVPR 2021)\\n\\n[![download](https://i...</td>\n",
       "      <td>5668</td>\n",
       "      <td>[xinntao]</td>\n",
       "    </tr>\n",
       "    <tr>\n",
       "      <th>11537</th>\n",
       "      <td>ageitgey/face_recognition</td>\n",
       "      <td>v1.2.2</td>\n",
       "      <td>2018-04-02T17:18:43Z</td>\n",
       "      <td>0</td>\n",
       "      <td>13956</td>\n",
       "      <td>4107</td>\n",
       "      <td>61</td>\n",
       "      <td>0</td>\n",
       "      <td>0</td>\n",
       "      <td># Face Recognition\\n\\nRecognize and manipulate...</td>\n",
       "      <td>17036</td>\n",
       "      <td>[mtrsk, timgates42, ariyapour, snyk-bot, ageit...</td>\n",
       "    </tr>\n",
       "    <tr>\n",
       "      <th>17558</th>\n",
       "      <td>deepfakes/faceswap</td>\n",
       "      <td>v2.0.0</td>\n",
       "      <td>2020-08-14T17:28:01Z</td>\n",
       "      <td>354765</td>\n",
       "      <td>9274</td>\n",
       "      <td>2034</td>\n",
       "      <td>386</td>\n",
       "      <td>0</td>\n",
       "      <td>0</td>\n",
       "      <td># deepfakes_faceswap\\n&lt;p align=\"center\"&gt;\\n  &lt;a...</td>\n",
       "      <td>12719</td>\n",
       "      <td>[torzdf, daniellivingston, geewiz94]</td>\n",
       "    </tr>\n",
       "    <tr>\n",
       "      <th>14359</th>\n",
       "      <td>babysor/MockingBird</td>\n",
       "      <td>v0.0.1</td>\n",
       "      <td>2021-11-07T13:53:53Z</td>\n",
       "      <td>0</td>\n",
       "      <td>8939</td>\n",
       "      <td>1544</td>\n",
       "      <td>52</td>\n",
       "      <td>0</td>\n",
       "      <td>0</td>\n",
       "      <td>![mockingbird](https://user-images.githubuserc...</td>\n",
       "      <td>9198</td>\n",
       "      <td>[XiuChen-Liu, hertz-pj, oceanarium, babysor]</td>\n",
       "    </tr>\n",
       "  </tbody>\n",
       "</table>\n",
       "</div>"
      ],
      "text/plain": [
       "                            repo                release_tag  \\\n",
       "24495         iperov/DeepFaceLab  DF.wf.288res.384.92.72.22   \n",
       "9974           TencentARC/GFPGAN                     v0.2.0   \n",
       "11537  ageitgey/face_recognition                     v1.2.2   \n",
       "17558         deepfakes/faceswap                     v2.0.0   \n",
       "14359        babysor/MockingBird                     v0.0.1   \n",
       "\n",
       "               release_date  downloads  stars  forks  commits  issues  \\\n",
       "24495  2020-04-09T05:48:48Z      66151  18517   4013      355       0   \n",
       "9974   2021-08-06T12:07:49Z      93903  16450   2451       44     108   \n",
       "11537  2018-04-02T17:18:43Z          0  13956   4107       61       0   \n",
       "17558  2020-08-14T17:28:01Z     354765   9274   2034      386       0   \n",
       "14359  2021-11-07T13:53:53Z          0   8939   1544       52       0   \n",
       "\n",
       "       closedIssues                                             readme  \\\n",
       "24495             0  ﻿<table align=\"center\" border=\"0\"><tr><td alig...   \n",
       "9974             40  # GFPGAN (CVPR 2021)\\n\\n[![download](https://i...   \n",
       "11537             0  # Face Recognition\\n\\nRecognize and manipulate...   \n",
       "17558             0  # deepfakes_faceswap\\n<p align=\"center\">\\n  <a...   \n",
       "14359             0  ![mockingbird](https://user-images.githubuserc...   \n",
       "\n",
       "       readme_size                                       contributors  \n",
       "24495         6462                                           [iperov]  \n",
       "9974          5668                                          [xinntao]  \n",
       "11537        17036  [mtrsk, timgates42, ariyapour, snyk-bot, ageit...  \n",
       "17558        12719               [torzdf, daniellivingston, geewiz94]  \n",
       "14359         9198       [XiuChen-Liu, hertz-pj, oceanarium, babysor]  "
      ]
     },
     "execution_count": 7,
     "metadata": {},
     "output_type": "execute_result"
    }
   ],
   "source": [
    "new_df.nlargest(n=5, columns=['stars'])"
   ]
  },
  {
   "cell_type": "code",
   "execution_count": 8,
   "metadata": {},
   "outputs": [
    {
     "name": "stdout",
     "output_type": "stream",
     "text": [
      "Pearson correlation coefficient:\n",
      "              downloads     stars     forks   commits    issues  closedIssues  \\\n",
      "downloads      1.000000  0.043922  0.043820  0.014488 -0.002087     -0.002513   \n",
      "stars          0.043922  1.000000  0.816321  0.195501  0.122044      0.093542   \n",
      "forks          0.043820  0.816321  1.000000  0.194977  0.059695      0.043666   \n",
      "commits        0.014488  0.195501  0.194977  1.000000  0.241782      0.243473   \n",
      "issues        -0.002087  0.122044  0.059695  0.241782  1.000000      0.908576   \n",
      "closedIssues  -0.002513  0.093542  0.043666  0.243473  0.908576      1.000000   \n",
      "readme_size   -0.006683  0.079201  0.049521  0.067220  0.050490      0.050327   \n",
      "\n",
      "              readme_size  \n",
      "downloads       -0.006683  \n",
      "stars            0.079201  \n",
      "forks            0.049521  \n",
      "commits          0.067220  \n",
      "issues           0.050490  \n",
      "closedIssues     0.050327  \n",
      "readme_size      1.000000  \n"
     ]
    }
   ],
   "source": [
    "corrrelation= new_df.corr(method=\"pearson\")\n",
    "print(\"Pearson correlation coefficient:\")\n",
    "print(corrrelation)"
   ]
  },
  {
   "cell_type": "markdown",
   "metadata": {},
   "source": [
    "# REPO basis Analysis"
   ]
  },
  {
   "cell_type": "code",
   "execution_count": 9,
   "metadata": {},
   "outputs": [],
   "source": [
    "# df[df[\"repo\"]==\"10up/classifai\"]"
   ]
  },
  {
   "cell_type": "code",
   "execution_count": 10,
   "metadata": {},
   "outputs": [
    {
     "data": {
      "text/html": [
       "<div>\n",
       "<style scoped>\n",
       "    .dataframe tbody tr th:only-of-type {\n",
       "        vertical-align: middle;\n",
       "    }\n",
       "\n",
       "    .dataframe tbody tr th {\n",
       "        vertical-align: top;\n",
       "    }\n",
       "\n",
       "    .dataframe thead th {\n",
       "        text-align: right;\n",
       "    }\n",
       "</style>\n",
       "<table border=\"1\" class=\"dataframe\">\n",
       "  <thead>\n",
       "    <tr style=\"text-align: right;\">\n",
       "      <th></th>\n",
       "      <th>forks</th>\n",
       "      <th>downloads</th>\n",
       "      <th>stars</th>\n",
       "      <th>release_counts</th>\n",
       "      <th>commits</th>\n",
       "      <th>issues</th>\n",
       "      <th>closedIssues</th>\n",
       "      <th>contributors</th>\n",
       "      <th>readme</th>\n",
       "    </tr>\n",
       "    <tr>\n",
       "      <th>repo</th>\n",
       "      <th></th>\n",
       "      <th></th>\n",
       "      <th></th>\n",
       "      <th></th>\n",
       "      <th></th>\n",
       "      <th></th>\n",
       "      <th></th>\n",
       "      <th></th>\n",
       "      <th></th>\n",
       "    </tr>\n",
       "  </thead>\n",
       "  <tbody>\n",
       "    <tr>\n",
       "      <th>0xangelo/raylab</th>\n",
       "      <td>6</td>\n",
       "      <td>0</td>\n",
       "      <td>46</td>\n",
       "      <td>1</td>\n",
       "      <td>1183</td>\n",
       "      <td>1</td>\n",
       "      <td>1</td>\n",
       "      <td>[0xangelo, dependabot-preview[bot]]</td>\n",
       "      <td>0</td>\n",
       "    </tr>\n",
       "    <tr>\n",
       "      <th>100/Solid</th>\n",
       "      <td>9</td>\n",
       "      <td>0</td>\n",
       "      <td>60</td>\n",
       "      <td>2</td>\n",
       "      <td>0</td>\n",
       "      <td>1</td>\n",
       "      <td>0</td>\n",
       "      <td>[]</td>\n",
       "      <td>2098</td>\n",
       "    </tr>\n",
       "    <tr>\n",
       "      <th>10up/classifai</th>\n",
       "      <td>34</td>\n",
       "      <td>0</td>\n",
       "      <td>219</td>\n",
       "      <td>11</td>\n",
       "      <td>655</td>\n",
       "      <td>65</td>\n",
       "      <td>52</td>\n",
       "      <td>[dinhtungdu, jeffpaul, johnwatkins0, helen, je...</td>\n",
       "      <td>11711</td>\n",
       "    </tr>\n",
       "    <tr>\n",
       "      <th>1adrianb/face-alignment</th>\n",
       "      <td>443</td>\n",
       "      <td>0</td>\n",
       "      <td>2225</td>\n",
       "      <td>10</td>\n",
       "      <td>84</td>\n",
       "      <td>0</td>\n",
       "      <td>0</td>\n",
       "      <td>[1adrianb, imadtoubal, bdvllrs, 1adrianb, jkle...</td>\n",
       "      <td>5612</td>\n",
       "    </tr>\n",
       "    <tr>\n",
       "      <th>1adrianb/pytorch-estimate-flops</th>\n",
       "      <td>0</td>\n",
       "      <td>0</td>\n",
       "      <td>123</td>\n",
       "      <td>8</td>\n",
       "      <td>37</td>\n",
       "      <td>6</td>\n",
       "      <td>5</td>\n",
       "      <td>[1adrianb, 1adrianb, 1adrianb, 1adrianb, 1adri...</td>\n",
       "      <td>2189</td>\n",
       "    </tr>\n",
       "    <tr>\n",
       "      <th>...</th>\n",
       "      <td>...</td>\n",
       "      <td>...</td>\n",
       "      <td>...</td>\n",
       "      <td>...</td>\n",
       "      <td>...</td>\n",
       "      <td>...</td>\n",
       "      <td>...</td>\n",
       "      <td>...</td>\n",
       "      <td>...</td>\n",
       "    </tr>\n",
       "    <tr>\n",
       "      <th>zycv/Speaker-Recognition-Based-on-Deep-Learning-An-Overview</th>\n",
       "      <td>1</td>\n",
       "      <td>53</td>\n",
       "      <td>11</td>\n",
       "      <td>2</td>\n",
       "      <td>0</td>\n",
       "      <td>0</td>\n",
       "      <td>0</td>\n",
       "      <td>[zycv]</td>\n",
       "      <td>16786</td>\n",
       "    </tr>\n",
       "    <tr>\n",
       "      <th>zyddnys/manga-image-translator</th>\n",
       "      <td>47</td>\n",
       "      <td>1782</td>\n",
       "      <td>207</td>\n",
       "      <td>4</td>\n",
       "      <td>211</td>\n",
       "      <td>32</td>\n",
       "      <td>22</td>\n",
       "      <td>[zyddnys, zyddnys, zyddnys, tr7zw, QiroNT, rsp...</td>\n",
       "      <td>8932</td>\n",
       "    </tr>\n",
       "    <tr>\n",
       "      <th>zyfra/ebonite</th>\n",
       "      <td>9</td>\n",
       "      <td>0</td>\n",
       "      <td>66</td>\n",
       "      <td>16</td>\n",
       "      <td>147</td>\n",
       "      <td>4</td>\n",
       "      <td>1</td>\n",
       "      <td>[mike0sv, i-a-andrianov, mike0sv, i-a-andriano...</td>\n",
       "      <td>0</td>\n",
       "    </tr>\n",
       "    <tr>\n",
       "      <th>zzbn12345/WHOSe_Heritage</th>\n",
       "      <td>0</td>\n",
       "      <td>0</td>\n",
       "      <td>6</td>\n",
       "      <td>3</td>\n",
       "      <td>20</td>\n",
       "      <td>0</td>\n",
       "      <td>0</td>\n",
       "      <td>[zzbn12345, zzbn12345]</td>\n",
       "      <td>11863</td>\n",
       "    </tr>\n",
       "    <tr>\n",
       "      <th>zzzxxxttt/pytorch_simple_CenterNet_45</th>\n",
       "      <td>38</td>\n",
       "      <td>76</td>\n",
       "      <td>147</td>\n",
       "      <td>1</td>\n",
       "      <td>0</td>\n",
       "      <td>0</td>\n",
       "      <td>0</td>\n",
       "      <td>[zzzxxxttt]</td>\n",
       "      <td>5698</td>\n",
       "    </tr>\n",
       "  </tbody>\n",
       "</table>\n",
       "<p>4993 rows × 9 columns</p>\n",
       "</div>"
      ],
      "text/plain": [
       "                                                    forks  downloads  stars  \\\n",
       "repo                                                                          \n",
       "0xangelo/raylab                                         6          0     46   \n",
       "100/Solid                                               9          0     60   \n",
       "10up/classifai                                         34          0    219   \n",
       "1adrianb/face-alignment                               443          0   2225   \n",
       "1adrianb/pytorch-estimate-flops                         0          0    123   \n",
       "...                                                   ...        ...    ...   \n",
       "zycv/Speaker-Recognition-Based-on-Deep-Learning...      1         53     11   \n",
       "zyddnys/manga-image-translator                         47       1782    207   \n",
       "zyfra/ebonite                                           9          0     66   \n",
       "zzbn12345/WHOSe_Heritage                                0          0      6   \n",
       "zzzxxxttt/pytorch_simple_CenterNet_45                  38         76    147   \n",
       "\n",
       "                                                    release_counts  commits  \\\n",
       "repo                                                                          \n",
       "0xangelo/raylab                                                  1     1183   \n",
       "100/Solid                                                        2        0   \n",
       "10up/classifai                                                  11      655   \n",
       "1adrianb/face-alignment                                         10       84   \n",
       "1adrianb/pytorch-estimate-flops                                  8       37   \n",
       "...                                                            ...      ...   \n",
       "zycv/Speaker-Recognition-Based-on-Deep-Learning...               2        0   \n",
       "zyddnys/manga-image-translator                                   4      211   \n",
       "zyfra/ebonite                                                   16      147   \n",
       "zzbn12345/WHOSe_Heritage                                         3       20   \n",
       "zzzxxxttt/pytorch_simple_CenterNet_45                            1        0   \n",
       "\n",
       "                                                    issues  closedIssues  \\\n",
       "repo                                                                       \n",
       "0xangelo/raylab                                          1             1   \n",
       "100/Solid                                                1             0   \n",
       "10up/classifai                                          65            52   \n",
       "1adrianb/face-alignment                                  0             0   \n",
       "1adrianb/pytorch-estimate-flops                          6             5   \n",
       "...                                                    ...           ...   \n",
       "zycv/Speaker-Recognition-Based-on-Deep-Learning...       0             0   \n",
       "zyddnys/manga-image-translator                          32            22   \n",
       "zyfra/ebonite                                            4             1   \n",
       "zzbn12345/WHOSe_Heritage                                 0             0   \n",
       "zzzxxxttt/pytorch_simple_CenterNet_45                    0             0   \n",
       "\n",
       "                                                                                         contributors  \\\n",
       "repo                                                                                                    \n",
       "0xangelo/raylab                                                   [0xangelo, dependabot-preview[bot]]   \n",
       "100/Solid                                                                                          []   \n",
       "10up/classifai                                      [dinhtungdu, jeffpaul, johnwatkins0, helen, je...   \n",
       "1adrianb/face-alignment                             [1adrianb, imadtoubal, bdvllrs, 1adrianb, jkle...   \n",
       "1adrianb/pytorch-estimate-flops                     [1adrianb, 1adrianb, 1adrianb, 1adrianb, 1adri...   \n",
       "...                                                                                               ...   \n",
       "zycv/Speaker-Recognition-Based-on-Deep-Learning...                                             [zycv]   \n",
       "zyddnys/manga-image-translator                      [zyddnys, zyddnys, zyddnys, tr7zw, QiroNT, rsp...   \n",
       "zyfra/ebonite                                       [mike0sv, i-a-andrianov, mike0sv, i-a-andriano...   \n",
       "zzbn12345/WHOSe_Heritage                                                       [zzbn12345, zzbn12345]   \n",
       "zzzxxxttt/pytorch_simple_CenterNet_45                                                     [zzzxxxttt]   \n",
       "\n",
       "                                                    readme  \n",
       "repo                                                        \n",
       "0xangelo/raylab                                          0  \n",
       "100/Solid                                             2098  \n",
       "10up/classifai                                       11711  \n",
       "1adrianb/face-alignment                               5612  \n",
       "1adrianb/pytorch-estimate-flops                       2189  \n",
       "...                                                    ...  \n",
       "zycv/Speaker-Recognition-Based-on-Deep-Learning...   16786  \n",
       "zyddnys/manga-image-translator                        8932  \n",
       "zyfra/ebonite                                            0  \n",
       "zzbn12345/WHOSe_Heritage                             11863  \n",
       "zzzxxxttt/pytorch_simple_CenterNet_45                 5698  \n",
       "\n",
       "[4993 rows x 9 columns]"
      ]
     },
     "execution_count": 10,
     "metadata": {},
     "output_type": "execute_result"
    }
   ],
   "source": [
    "repo_df = new_df.groupby('repo').agg(\n",
    "        forks=pd.NamedAgg(column=\"forks\", aggfunc=\"sum\"),\n",
    "        downloads=pd.NamedAgg(column=\"downloads\", aggfunc=\"sum\"),\n",
    "        stars=pd.NamedAgg(column=\"stars\", aggfunc=\"sum\"),\n",
    "        release_counts=pd.NamedAgg(column=\"release_tag\", aggfunc=\"count\"),\n",
    "        commits=pd.NamedAgg(column=\"commits\", aggfunc=\"sum\"),\n",
    "        issues=pd.NamedAgg(column=\"issues\", aggfunc=\"sum\"),\n",
    "        closedIssues=pd.NamedAgg(column=\"closedIssues\", aggfunc=\"sum\"),\n",
    "        contributors=pd.NamedAgg(column=\"contributors\", aggfunc=\"sum\"),\n",
    "        readme = pd.NamedAgg(column=\"readme_size\", aggfunc=\"last\")\n",
    "    )\n",
    "repo_df"
   ]
  },
  {
   "cell_type": "markdown",
   "metadata": {},
   "source": [
    "# Release basis Analysis"
   ]
  },
  {
   "cell_type": "code",
   "execution_count": 11,
   "metadata": {},
   "outputs": [],
   "source": [
    "repo_df['contributors'] = repo_df['contributors'].apply(set)"
   ]
  },
  {
   "cell_type": "code",
   "execution_count": 12,
   "metadata": {},
   "outputs": [],
   "source": [
    "repo_df['contributor_count'] = repo_df['contributors'].map(len)"
   ]
  },
  {
   "cell_type": "code",
   "execution_count": 13,
   "metadata": {},
   "outputs": [
    {
     "data": {
      "text/html": [
       "<div>\n",
       "<style scoped>\n",
       "    .dataframe tbody tr th:only-of-type {\n",
       "        vertical-align: middle;\n",
       "    }\n",
       "\n",
       "    .dataframe tbody tr th {\n",
       "        vertical-align: top;\n",
       "    }\n",
       "\n",
       "    .dataframe thead th {\n",
       "        text-align: right;\n",
       "    }\n",
       "</style>\n",
       "<table border=\"1\" class=\"dataframe\">\n",
       "  <thead>\n",
       "    <tr style=\"text-align: right;\">\n",
       "      <th></th>\n",
       "      <th>forks</th>\n",
       "      <th>downloads</th>\n",
       "      <th>stars</th>\n",
       "      <th>release_counts</th>\n",
       "      <th>commits</th>\n",
       "      <th>issues</th>\n",
       "      <th>closedIssues</th>\n",
       "      <th>contributors</th>\n",
       "      <th>readme</th>\n",
       "      <th>contributor_count</th>\n",
       "    </tr>\n",
       "    <tr>\n",
       "      <th>repo</th>\n",
       "      <th></th>\n",
       "      <th></th>\n",
       "      <th></th>\n",
       "      <th></th>\n",
       "      <th></th>\n",
       "      <th></th>\n",
       "      <th></th>\n",
       "      <th></th>\n",
       "      <th></th>\n",
       "      <th></th>\n",
       "    </tr>\n",
       "  </thead>\n",
       "  <tbody>\n",
       "    <tr>\n",
       "      <th>0xangelo/raylab</th>\n",
       "      <td>6</td>\n",
       "      <td>0</td>\n",
       "      <td>46</td>\n",
       "      <td>1</td>\n",
       "      <td>1183</td>\n",
       "      <td>1</td>\n",
       "      <td>1</td>\n",
       "      <td>{0xangelo, dependabot-preview[bot]}</td>\n",
       "      <td>0</td>\n",
       "      <td>2</td>\n",
       "    </tr>\n",
       "    <tr>\n",
       "      <th>100/Solid</th>\n",
       "      <td>9</td>\n",
       "      <td>0</td>\n",
       "      <td>60</td>\n",
       "      <td>2</td>\n",
       "      <td>0</td>\n",
       "      <td>1</td>\n",
       "      <td>0</td>\n",
       "      <td>{}</td>\n",
       "      <td>2098</td>\n",
       "      <td>0</td>\n",
       "    </tr>\n",
       "    <tr>\n",
       "      <th>10up/classifai</th>\n",
       "      <td>34</td>\n",
       "      <td>0</td>\n",
       "      <td>219</td>\n",
       "      <td>11</td>\n",
       "      <td>655</td>\n",
       "      <td>65</td>\n",
       "      <td>52</td>\n",
       "      <td>{phpbits, dinhtungdu, s3rgiosan, ActuallyConno...</td>\n",
       "      <td>11711</td>\n",
       "      <td>17</td>\n",
       "    </tr>\n",
       "    <tr>\n",
       "      <th>1adrianb/face-alignment</th>\n",
       "      <td>443</td>\n",
       "      <td>0</td>\n",
       "      <td>2225</td>\n",
       "      <td>10</td>\n",
       "      <td>84</td>\n",
       "      <td>0</td>\n",
       "      <td>0</td>\n",
       "      <td>{bdvllrs, Serega6678, 1adrianb, kstanleyadams,...</td>\n",
       "      <td>5612</td>\n",
       "      <td>8</td>\n",
       "    </tr>\n",
       "    <tr>\n",
       "      <th>1adrianb/pytorch-estimate-flops</th>\n",
       "      <td>0</td>\n",
       "      <td>0</td>\n",
       "      <td>123</td>\n",
       "      <td>8</td>\n",
       "      <td>37</td>\n",
       "      <td>6</td>\n",
       "      <td>5</td>\n",
       "      <td>{senysenyseny16, 1adrianb}</td>\n",
       "      <td>2189</td>\n",
       "      <td>2</td>\n",
       "    </tr>\n",
       "    <tr>\n",
       "      <th>...</th>\n",
       "      <td>...</td>\n",
       "      <td>...</td>\n",
       "      <td>...</td>\n",
       "      <td>...</td>\n",
       "      <td>...</td>\n",
       "      <td>...</td>\n",
       "      <td>...</td>\n",
       "      <td>...</td>\n",
       "      <td>...</td>\n",
       "      <td>...</td>\n",
       "    </tr>\n",
       "    <tr>\n",
       "      <th>zycv/Speaker-Recognition-Based-on-Deep-Learning-An-Overview</th>\n",
       "      <td>1</td>\n",
       "      <td>53</td>\n",
       "      <td>11</td>\n",
       "      <td>2</td>\n",
       "      <td>0</td>\n",
       "      <td>0</td>\n",
       "      <td>0</td>\n",
       "      <td>{zycv}</td>\n",
       "      <td>16786</td>\n",
       "      <td>1</td>\n",
       "    </tr>\n",
       "    <tr>\n",
       "      <th>zyddnys/manga-image-translator</th>\n",
       "      <td>47</td>\n",
       "      <td>1782</td>\n",
       "      <td>207</td>\n",
       "      <td>4</td>\n",
       "      <td>211</td>\n",
       "      <td>32</td>\n",
       "      <td>22</td>\n",
       "      <td>{zyddnys, tr7zw, QiroNT, kdrkdrkdr, rspreet92,...</td>\n",
       "      <td>8932</td>\n",
       "      <td>8</td>\n",
       "    </tr>\n",
       "    <tr>\n",
       "      <th>zyfra/ebonite</th>\n",
       "      <td>9</td>\n",
       "      <td>0</td>\n",
       "      <td>66</td>\n",
       "      <td>16</td>\n",
       "      <td>147</td>\n",
       "      <td>4</td>\n",
       "      <td>1</td>\n",
       "      <td>{mike0sv, i-a-andrianov}</td>\n",
       "      <td>0</td>\n",
       "      <td>2</td>\n",
       "    </tr>\n",
       "    <tr>\n",
       "      <th>zzbn12345/WHOSe_Heritage</th>\n",
       "      <td>0</td>\n",
       "      <td>0</td>\n",
       "      <td>6</td>\n",
       "      <td>3</td>\n",
       "      <td>20</td>\n",
       "      <td>0</td>\n",
       "      <td>0</td>\n",
       "      <td>{zzbn12345}</td>\n",
       "      <td>11863</td>\n",
       "      <td>1</td>\n",
       "    </tr>\n",
       "    <tr>\n",
       "      <th>zzzxxxttt/pytorch_simple_CenterNet_45</th>\n",
       "      <td>38</td>\n",
       "      <td>76</td>\n",
       "      <td>147</td>\n",
       "      <td>1</td>\n",
       "      <td>0</td>\n",
       "      <td>0</td>\n",
       "      <td>0</td>\n",
       "      <td>{zzzxxxttt}</td>\n",
       "      <td>5698</td>\n",
       "      <td>1</td>\n",
       "    </tr>\n",
       "  </tbody>\n",
       "</table>\n",
       "<p>4993 rows × 10 columns</p>\n",
       "</div>"
      ],
      "text/plain": [
       "                                                    forks  downloads  stars  \\\n",
       "repo                                                                          \n",
       "0xangelo/raylab                                         6          0     46   \n",
       "100/Solid                                               9          0     60   \n",
       "10up/classifai                                         34          0    219   \n",
       "1adrianb/face-alignment                               443          0   2225   \n",
       "1adrianb/pytorch-estimate-flops                         0          0    123   \n",
       "...                                                   ...        ...    ...   \n",
       "zycv/Speaker-Recognition-Based-on-Deep-Learning...      1         53     11   \n",
       "zyddnys/manga-image-translator                         47       1782    207   \n",
       "zyfra/ebonite                                           9          0     66   \n",
       "zzbn12345/WHOSe_Heritage                                0          0      6   \n",
       "zzzxxxttt/pytorch_simple_CenterNet_45                  38         76    147   \n",
       "\n",
       "                                                    release_counts  commits  \\\n",
       "repo                                                                          \n",
       "0xangelo/raylab                                                  1     1183   \n",
       "100/Solid                                                        2        0   \n",
       "10up/classifai                                                  11      655   \n",
       "1adrianb/face-alignment                                         10       84   \n",
       "1adrianb/pytorch-estimate-flops                                  8       37   \n",
       "...                                                            ...      ...   \n",
       "zycv/Speaker-Recognition-Based-on-Deep-Learning...               2        0   \n",
       "zyddnys/manga-image-translator                                   4      211   \n",
       "zyfra/ebonite                                                   16      147   \n",
       "zzbn12345/WHOSe_Heritage                                         3       20   \n",
       "zzzxxxttt/pytorch_simple_CenterNet_45                            1        0   \n",
       "\n",
       "                                                    issues  closedIssues  \\\n",
       "repo                                                                       \n",
       "0xangelo/raylab                                          1             1   \n",
       "100/Solid                                                1             0   \n",
       "10up/classifai                                          65            52   \n",
       "1adrianb/face-alignment                                  0             0   \n",
       "1adrianb/pytorch-estimate-flops                          6             5   \n",
       "...                                                    ...           ...   \n",
       "zycv/Speaker-Recognition-Based-on-Deep-Learning...       0             0   \n",
       "zyddnys/manga-image-translator                          32            22   \n",
       "zyfra/ebonite                                            4             1   \n",
       "zzbn12345/WHOSe_Heritage                                 0             0   \n",
       "zzzxxxttt/pytorch_simple_CenterNet_45                    0             0   \n",
       "\n",
       "                                                                                         contributors  \\\n",
       "repo                                                                                                    \n",
       "0xangelo/raylab                                                   {0xangelo, dependabot-preview[bot]}   \n",
       "100/Solid                                                                                          {}   \n",
       "10up/classifai                                      {phpbits, dinhtungdu, s3rgiosan, ActuallyConno...   \n",
       "1adrianb/face-alignment                             {bdvllrs, Serega6678, 1adrianb, kstanleyadams,...   \n",
       "1adrianb/pytorch-estimate-flops                                            {senysenyseny16, 1adrianb}   \n",
       "...                                                                                               ...   \n",
       "zycv/Speaker-Recognition-Based-on-Deep-Learning...                                             {zycv}   \n",
       "zyddnys/manga-image-translator                      {zyddnys, tr7zw, QiroNT, kdrkdrkdr, rspreet92,...   \n",
       "zyfra/ebonite                                                                {mike0sv, i-a-andrianov}   \n",
       "zzbn12345/WHOSe_Heritage                                                                  {zzbn12345}   \n",
       "zzzxxxttt/pytorch_simple_CenterNet_45                                                     {zzzxxxttt}   \n",
       "\n",
       "                                                    readme  contributor_count  \n",
       "repo                                                                           \n",
       "0xangelo/raylab                                          0                  2  \n",
       "100/Solid                                             2098                  0  \n",
       "10up/classifai                                       11711                 17  \n",
       "1adrianb/face-alignment                               5612                  8  \n",
       "1adrianb/pytorch-estimate-flops                       2189                  2  \n",
       "...                                                    ...                ...  \n",
       "zycv/Speaker-Recognition-Based-on-Deep-Learning...   16786                  1  \n",
       "zyddnys/manga-image-translator                        8932                  8  \n",
       "zyfra/ebonite                                            0                  2  \n",
       "zzbn12345/WHOSe_Heritage                             11863                  1  \n",
       "zzzxxxttt/pytorch_simple_CenterNet_45                 5698                  1  \n",
       "\n",
       "[4993 rows x 10 columns]"
      ]
     },
     "execution_count": 13,
     "metadata": {},
     "output_type": "execute_result"
    }
   ],
   "source": [
    "repo_df"
   ]
  },
  {
   "cell_type": "code",
   "execution_count": 14,
   "metadata": {},
   "outputs": [
    {
     "data": {
      "text/plain": [
       "Text(0.5, 0, 'stars')"
      ]
     },
     "execution_count": 14,
     "metadata": {},
     "output_type": "execute_result"
    },
    {
     "data": {
      "image/png": "[encoded data removed]",
      "text/plain": [
       "<Figure size 864x576 with 1 Axes>"
      ]
     },
     "metadata": {
      "image/png": {
       "height": 489,
       "width": 764
      }
     },
     "output_type": "display_data"
    }
   ],
   "source": [
    "import seaborn as sns\n",
    "from pylab import rcParams\n",
    "import matplotlib.pyplot as plt\n",
    "from matplotlib import rc\n",
    "%matplotlib inline\n",
    "%config InlineBackend.figure_format='retina'\n",
    "\n",
    "sns.set(style='whitegrid', palette='muted', font_scale=1.2)\n",
    "HAPPY_COLORS_PALETTE = [\"#01BEFE\", \"#FFDD00\", \"#FF7D00\", \"#FF006D\", \"#ADFF02\", \"#8F00FF\"]\n",
    "sns.set_palette(sns.color_palette(HAPPY_COLORS_PALETTE))\n",
    "\n",
    "rcParams['figure.figsize'] = 12, 8\n",
    "sns.distplot(repo_df['stars'])\n",
    "\n",
    "plt.xlim([0, 7000])\n",
    "plt.xlabel('stars')"
   ]
  },
  {
   "cell_type": "code",
   "execution_count": 15,
   "metadata": {},
   "outputs": [],
   "source": [
    "# sns.distplot(repo_df['stars'], kde=False, norm_hist=True, bins=int(50))\n",
    "# plt.xlim([0, 7000])\n",
    "# plt.xlabel('stars')"
   ]
  },
  {
   "cell_type": "code",
   "execution_count": 16,
   "metadata": {},
   "outputs": [
    {
     "data": {
      "text/plain": [
       "(4993, 10)"
      ]
     },
     "execution_count": 16,
     "metadata": {},
     "output_type": "execute_result"
    }
   ],
   "source": [
    "repo_df.shape"
   ]
  },
  {
   "cell_type": "code",
   "execution_count": 17,
   "metadata": {},
   "outputs": [
    {
     "data": {
      "text/html": [
       "<div>\n",
       "<style scoped>\n",
       "    .dataframe tbody tr th:only-of-type {\n",
       "        vertical-align: middle;\n",
       "    }\n",
       "\n",
       "    .dataframe tbody tr th {\n",
       "        vertical-align: top;\n",
       "    }\n",
       "\n",
       "    .dataframe thead th {\n",
       "        text-align: right;\n",
       "    }\n",
       "</style>\n",
       "<table border=\"1\" class=\"dataframe\">\n",
       "  <thead>\n",
       "    <tr style=\"text-align: right;\">\n",
       "      <th></th>\n",
       "      <th>forks</th>\n",
       "      <th>downloads</th>\n",
       "      <th>stars</th>\n",
       "      <th>release_counts</th>\n",
       "      <th>commits</th>\n",
       "      <th>issues</th>\n",
       "      <th>closedIssues</th>\n",
       "      <th>contributors</th>\n",
       "      <th>readme</th>\n",
       "      <th>contributor_count</th>\n",
       "    </tr>\n",
       "    <tr>\n",
       "      <th>repo</th>\n",
       "      <th></th>\n",
       "      <th></th>\n",
       "      <th></th>\n",
       "      <th></th>\n",
       "      <th></th>\n",
       "      <th></th>\n",
       "      <th></th>\n",
       "      <th></th>\n",
       "      <th></th>\n",
       "      <th></th>\n",
       "    </tr>\n",
       "  </thead>\n",
       "  <tbody>\n",
       "    <tr>\n",
       "      <th>1adrianb/face-alignment</th>\n",
       "      <td>443</td>\n",
       "      <td>0</td>\n",
       "      <td>2225</td>\n",
       "      <td>10</td>\n",
       "      <td>84</td>\n",
       "      <td>0</td>\n",
       "      <td>0</td>\n",
       "      <td>{bdvllrs, Serega6678, 1adrianb, kstanleyadams,...</td>\n",
       "      <td>5612</td>\n",
       "      <td>8</td>\n",
       "    </tr>\n",
       "    <tr>\n",
       "      <th>4paradigm/OpenMLDB</th>\n",
       "      <td>0</td>\n",
       "      <td>2941</td>\n",
       "      <td>1146</td>\n",
       "      <td>13</td>\n",
       "      <td>0</td>\n",
       "      <td>0</td>\n",
       "      <td>0</td>\n",
       "      <td>{}</td>\n",
       "      <td>13438</td>\n",
       "      <td>0</td>\n",
       "    </tr>\n",
       "    <tr>\n",
       "      <th>AIStream-Peelout/flow-forecast</th>\n",
       "      <td>147</td>\n",
       "      <td>0</td>\n",
       "      <td>890</td>\n",
       "      <td>29</td>\n",
       "      <td>2769</td>\n",
       "      <td>122</td>\n",
       "      <td>72</td>\n",
       "      <td>{wwymak, michaelwang1994, codeananda, kritim13...</td>\n",
       "      <td>5622</td>\n",
       "      <td>6</td>\n",
       "    </tr>\n",
       "    <tr>\n",
       "      <th>ARM-software/ComputeLibrary</th>\n",
       "      <td>180</td>\n",
       "      <td>30750</td>\n",
       "      <td>716</td>\n",
       "      <td>28</td>\n",
       "      <td>14</td>\n",
       "      <td>0</td>\n",
       "      <td>0</td>\n",
       "      <td>{mdigiorgio}</td>\n",
       "      <td>10058</td>\n",
       "      <td>1</td>\n",
       "    </tr>\n",
       "    <tr>\n",
       "      <th>Angel-ML/angel</th>\n",
       "      <td>258</td>\n",
       "      <td>2733</td>\n",
       "      <td>995</td>\n",
       "      <td>19</td>\n",
       "      <td>448</td>\n",
       "      <td>0</td>\n",
       "      <td>0</td>\n",
       "      <td>{rachelsunrh, paynie, jonaschn, howiehywang, l...</td>\n",
       "      <td>7396</td>\n",
       "      <td>8</td>\n",
       "    </tr>\n",
       "    <tr>\n",
       "      <th>...</th>\n",
       "      <td>...</td>\n",
       "      <td>...</td>\n",
       "      <td>...</td>\n",
       "      <td>...</td>\n",
       "      <td>...</td>\n",
       "      <td>...</td>\n",
       "      <td>...</td>\n",
       "      <td>...</td>\n",
       "      <td>...</td>\n",
       "      <td>...</td>\n",
       "    </tr>\n",
       "    <tr>\n",
       "      <th>zhaipro/easy12306</th>\n",
       "      <td>180</td>\n",
       "      <td>0</td>\n",
       "      <td>622</td>\n",
       "      <td>3</td>\n",
       "      <td>3</td>\n",
       "      <td>6</td>\n",
       "      <td>5</td>\n",
       "      <td>{}</td>\n",
       "      <td>970</td>\n",
       "      <td>0</td>\n",
       "    </tr>\n",
       "    <tr>\n",
       "      <th>zhanghang1989/PyTorch-Encoding</th>\n",
       "      <td>188</td>\n",
       "      <td>0</td>\n",
       "      <td>757</td>\n",
       "      <td>7</td>\n",
       "      <td>35</td>\n",
       "      <td>0</td>\n",
       "      <td>0</td>\n",
       "      <td>{}</td>\n",
       "      <td>3765</td>\n",
       "      <td>0</td>\n",
       "    </tr>\n",
       "    <tr>\n",
       "      <th>zhanghang1989/ResNeSt</th>\n",
       "      <td>0</td>\n",
       "      <td>9562</td>\n",
       "      <td>2336</td>\n",
       "      <td>6</td>\n",
       "      <td>31</td>\n",
       "      <td>122</td>\n",
       "      <td>78</td>\n",
       "      <td>{zhanghang1989}</td>\n",
       "      <td>7250</td>\n",
       "      <td>1</td>\n",
       "    </tr>\n",
       "    <tr>\n",
       "      <th>zhenghaoz/gorse</th>\n",
       "      <td>327</td>\n",
       "      <td>876</td>\n",
       "      <td>4100</td>\n",
       "      <td>14</td>\n",
       "      <td>298</td>\n",
       "      <td>101</td>\n",
       "      <td>70</td>\n",
       "      <td>{rhorber, davewang, zhenghaoz, zhangzhenghao}</td>\n",
       "      <td>4151</td>\n",
       "      <td>4</td>\n",
       "    </tr>\n",
       "    <tr>\n",
       "      <th>zvtvz/zvt</th>\n",
       "      <td>514</td>\n",
       "      <td>0</td>\n",
       "      <td>1461</td>\n",
       "      <td>17</td>\n",
       "      <td>528</td>\n",
       "      <td>75</td>\n",
       "      <td>65</td>\n",
       "      <td>{chforest, shiyup, tinybug, foolcage, manstiil...</td>\n",
       "      <td>37345</td>\n",
       "      <td>13</td>\n",
       "    </tr>\n",
       "  </tbody>\n",
       "</table>\n",
       "<p>467 rows × 10 columns</p>\n",
       "</div>"
      ],
      "text/plain": [
       "                                forks  downloads  stars  release_counts  \\\n",
       "repo                                                                      \n",
       "1adrianb/face-alignment           443          0   2225              10   \n",
       "4paradigm/OpenMLDB                  0       2941   1146              13   \n",
       "AIStream-Peelout/flow-forecast    147          0    890              29   \n",
       "ARM-software/ComputeLibrary       180      30750    716              28   \n",
       "Angel-ML/angel                    258       2733    995              19   \n",
       "...                               ...        ...    ...             ...   \n",
       "zhaipro/easy12306                 180          0    622               3   \n",
       "zhanghang1989/PyTorch-Encoding    188          0    757               7   \n",
       "zhanghang1989/ResNeSt               0       9562   2336               6   \n",
       "zhenghaoz/gorse                   327        876   4100              14   \n",
       "zvtvz/zvt                         514          0   1461              17   \n",
       "\n",
       "                                commits  issues  closedIssues  \\\n",
       "repo                                                            \n",
       "1adrianb/face-alignment              84       0             0   \n",
       "4paradigm/OpenMLDB                    0       0             0   \n",
       "AIStream-Peelout/flow-forecast     2769     122            72   \n",
       "ARM-software/ComputeLibrary          14       0             0   \n",
       "Angel-ML/angel                      448       0             0   \n",
       "...                                 ...     ...           ...   \n",
       "zhaipro/easy12306                     3       6             5   \n",
       "zhanghang1989/PyTorch-Encoding       35       0             0   \n",
       "zhanghang1989/ResNeSt                31     122            78   \n",
       "zhenghaoz/gorse                     298     101            70   \n",
       "zvtvz/zvt                           528      75            65   \n",
       "\n",
       "                                                                     contributors  \\\n",
       "repo                                                                                \n",
       "1adrianb/face-alignment         {bdvllrs, Serega6678, 1adrianb, kstanleyadams,...   \n",
       "4paradigm/OpenMLDB                                                             {}   \n",
       "AIStream-Peelout/flow-forecast  {wwymak, michaelwang1994, codeananda, kritim13...   \n",
       "ARM-software/ComputeLibrary                                          {mdigiorgio}   \n",
       "Angel-ML/angel                  {rachelsunrh, paynie, jonaschn, howiehywang, l...   \n",
       "...                                                                           ...   \n",
       "zhaipro/easy12306                                                              {}   \n",
       "zhanghang1989/PyTorch-Encoding                                                 {}   \n",
       "zhanghang1989/ResNeSt                                             {zhanghang1989}   \n",
       "zhenghaoz/gorse                     {rhorber, davewang, zhenghaoz, zhangzhenghao}   \n",
       "zvtvz/zvt                       {chforest, shiyup, tinybug, foolcage, manstiil...   \n",
       "\n",
       "                                readme  contributor_count  \n",
       "repo                                                       \n",
       "1adrianb/face-alignment           5612                  8  \n",
       "4paradigm/OpenMLDB               13438                  0  \n",
       "AIStream-Peelout/flow-forecast    5622                  6  \n",
       "ARM-software/ComputeLibrary      10058                  1  \n",
       "Angel-ML/angel                    7396                  8  \n",
       "...                                ...                ...  \n",
       "zhaipro/easy12306                  970                  0  \n",
       "zhanghang1989/PyTorch-Encoding    3765                  0  \n",
       "zhanghang1989/ResNeSt             7250                  1  \n",
       "zhenghaoz/gorse                   4151                  4  \n",
       "zvtvz/zvt                        37345                 13  \n",
       "\n",
       "[467 rows x 10 columns]"
      ]
     },
     "execution_count": 17,
     "metadata": {},
     "output_type": "execute_result"
    }
   ],
   "source": [
    "repo_df[repo_df['stars'] > 600]"
   ]
  },
  {
   "cell_type": "code",
   "execution_count": 18,
   "metadata": {},
   "outputs": [],
   "source": [
    "repo_df['600stars']= np.where(repo_df['stars'] > 600, 1, 0)"
   ]
  },
  {
   "cell_type": "code",
   "execution_count": 19,
   "metadata": {},
   "outputs": [
    {
     "data": {
      "text/plain": [
       "0    4526\n",
       "1     467\n",
       "Name: 600stars, dtype: int64"
      ]
     },
     "execution_count": 19,
     "metadata": {},
     "output_type": "execute_result"
    }
   ],
   "source": [
    "repo_df['600stars'].value_counts()"
   ]
  },
  {
   "cell_type": "code",
   "execution_count": 20,
   "metadata": {},
   "outputs": [
    {
     "data": {
      "image/png": "[encoded data removed]",
      "text/plain": [
       "<Figure size 432x288 with 1 Axes>"
      ]
     },
     "metadata": {
      "image/png": {
       "height": 267,
       "width": 402
      }
     },
     "output_type": "display_data"
    },
    {
     "data": {
      "text/plain": [
       "<Figure size 432x288 with 0 Axes>"
      ]
     },
     "metadata": {},
     "output_type": "display_data"
    }
   ],
   "source": [
    "import matplotlib.pyplot as plt \n",
    "plt.rc(\"font\", size=14)\n",
    "from sklearn.linear_model import LogisticRegression\n",
    "import seaborn as sns\n",
    "sns.set(style=\"white\")\n",
    "sns.set(style=\"whitegrid\", color_codes=True)\n",
    "sns.countplot(x='600stars',data=repo_df, palette='hls')\n",
    "plt.show()\n",
    "plt.savefig('count_plot')"
   ]
  },
  {
   "cell_type": "code",
   "execution_count": 21,
   "metadata": {},
   "outputs": [
    {
     "data": {
      "text/html": [
       "<div>\n",
       "<style scoped>\n",
       "    .dataframe tbody tr th:only-of-type {\n",
       "        vertical-align: middle;\n",
       "    }\n",
       "\n",
       "    .dataframe tbody tr th {\n",
       "        vertical-align: top;\n",
       "    }\n",
       "\n",
       "    .dataframe thead th {\n",
       "        text-align: right;\n",
       "    }\n",
       "</style>\n",
       "<table border=\"1\" class=\"dataframe\">\n",
       "  <thead>\n",
       "    <tr style=\"text-align: right;\">\n",
       "      <th></th>\n",
       "      <th>forks</th>\n",
       "      <th>downloads</th>\n",
       "      <th>stars</th>\n",
       "      <th>release_counts</th>\n",
       "      <th>commits</th>\n",
       "      <th>issues</th>\n",
       "      <th>closedIssues</th>\n",
       "      <th>contributors</th>\n",
       "      <th>readme</th>\n",
       "      <th>contributor_count</th>\n",
       "      <th>600stars</th>\n",
       "    </tr>\n",
       "    <tr>\n",
       "      <th>repo</th>\n",
       "      <th></th>\n",
       "      <th></th>\n",
       "      <th></th>\n",
       "      <th></th>\n",
       "      <th></th>\n",
       "      <th></th>\n",
       "      <th></th>\n",
       "      <th></th>\n",
       "      <th></th>\n",
       "      <th></th>\n",
       "      <th></th>\n",
       "    </tr>\n",
       "  </thead>\n",
       "  <tbody>\n",
       "    <tr>\n",
       "      <th>opencv/opencv</th>\n",
       "      <td>21739</td>\n",
       "      <td>1305397</td>\n",
       "      <td>21169</td>\n",
       "      <td>57</td>\n",
       "      <td>4095</td>\n",
       "      <td>0</td>\n",
       "      <td>0</td>\n",
       "      <td>{kyshel, m-gupta, utibenkei, Bleach665, sturkm...</td>\n",
       "      <td>844</td>\n",
       "      <td>236</td>\n",
       "      <td>1</td>\n",
       "    </tr>\n",
       "    <tr>\n",
       "      <th>ultralytics/yolov5</th>\n",
       "      <td>7412</td>\n",
       "      <td>14935514</td>\n",
       "      <td>20046</td>\n",
       "      <td>7</td>\n",
       "      <td>1852</td>\n",
       "      <td>0</td>\n",
       "      <td>0</td>\n",
       "      <td>{jakepoz, lorenzomammana, Borda, glenn-jocher,...</td>\n",
       "      <td>14590</td>\n",
       "      <td>15</td>\n",
       "      <td>1</td>\n",
       "    </tr>\n",
       "    <tr>\n",
       "      <th>iperov/DeepFaceLab</th>\n",
       "      <td>4088</td>\n",
       "      <td>74760</td>\n",
       "      <td>18870</td>\n",
       "      <td>2</td>\n",
       "      <td>416</td>\n",
       "      <td>0</td>\n",
       "      <td>0</td>\n",
       "      <td>{iperov}</td>\n",
       "      <td>6462</td>\n",
       "      <td>1</td>\n",
       "      <td>1</td>\n",
       "    </tr>\n",
       "    <tr>\n",
       "      <th>TencentARC/GFPGAN</th>\n",
       "      <td>2833</td>\n",
       "      <td>115997</td>\n",
       "      <td>17388</td>\n",
       "      <td>5</td>\n",
       "      <td>64</td>\n",
       "      <td>154</td>\n",
       "      <td>65</td>\n",
       "      <td>{xinntao}</td>\n",
       "      <td>10898</td>\n",
       "      <td>1</td>\n",
       "      <td>1</td>\n",
       "    </tr>\n",
       "    <tr>\n",
       "      <th>d2l-ai/d2l-zh</th>\n",
       "      <td>3551</td>\n",
       "      <td>12209</td>\n",
       "      <td>15469</td>\n",
       "      <td>14</td>\n",
       "      <td>1013</td>\n",
       "      <td>0</td>\n",
       "      <td>0</td>\n",
       "      <td>{astonzhang, goldmermaid, xyw5vplus1, xiaoting...</td>\n",
       "      <td>5314</td>\n",
       "      <td>7</td>\n",
       "      <td>1</td>\n",
       "    </tr>\n",
       "    <tr>\n",
       "      <th>ageitgey/face_recognition</th>\n",
       "      <td>4107</td>\n",
       "      <td>453</td>\n",
       "      <td>13956</td>\n",
       "      <td>2</td>\n",
       "      <td>61</td>\n",
       "      <td>0</td>\n",
       "      <td>0</td>\n",
       "      <td>{ageitgey, ariyapour, snyk-bot, mtrsk, timgate...</td>\n",
       "      <td>17036</td>\n",
       "      <td>6</td>\n",
       "      <td>1</td>\n",
       "    </tr>\n",
       "    <tr>\n",
       "      <th>JaidedAI/EasyOCR</th>\n",
       "      <td>1830</td>\n",
       "      <td>1139155</td>\n",
       "      <td>13657</td>\n",
       "      <td>15</td>\n",
       "      <td>457</td>\n",
       "      <td>0</td>\n",
       "      <td>0</td>\n",
       "      <td>{AlexKuhnle, abdullahselek, aaaaaa, wannaphong...</td>\n",
       "      <td>11047</td>\n",
       "      <td>58</td>\n",
       "      <td>1</td>\n",
       "    </tr>\n",
       "    <tr>\n",
       "      <th>tesseract-ocr/tesseract</th>\n",
       "      <td>1985</td>\n",
       "      <td>0</td>\n",
       "      <td>13338</td>\n",
       "      <td>20</td>\n",
       "      <td>1568</td>\n",
       "      <td>0</td>\n",
       "      <td>0</td>\n",
       "      <td>{1480c1, juliangilbey, M3ssman, Robyer, xloem,...</td>\n",
       "      <td>8314</td>\n",
       "      <td>23</td>\n",
       "      <td>1</td>\n",
       "    </tr>\n",
       "    <tr>\n",
       "      <th>deepfakes/faceswap</th>\n",
       "      <td>3104</td>\n",
       "      <td>360175</td>\n",
       "      <td>13028</td>\n",
       "      <td>3</td>\n",
       "      <td>465</td>\n",
       "      <td>0</td>\n",
       "      <td>0</td>\n",
       "      <td>{daniellivingston, geewiz94, torzdf}</td>\n",
       "      <td>12719</td>\n",
       "      <td>3</td>\n",
       "      <td>1</td>\n",
       "    </tr>\n",
       "    <tr>\n",
       "      <th>google/mediapipe</th>\n",
       "      <td>2654</td>\n",
       "      <td>0</td>\n",
       "      <td>12324</td>\n",
       "      <td>36</td>\n",
       "      <td>71</td>\n",
       "      <td>0</td>\n",
       "      <td>0</td>\n",
       "      <td>{schmidt-sebastian, cmcclanahan}</td>\n",
       "      <td>19619</td>\n",
       "      <td>2</td>\n",
       "      <td>1</td>\n",
       "    </tr>\n",
       "  </tbody>\n",
       "</table>\n",
       "</div>"
      ],
      "text/plain": [
       "                           forks  downloads  stars  release_counts  commits  \\\n",
       "repo                                                                          \n",
       "opencv/opencv              21739    1305397  21169              57     4095   \n",
       "ultralytics/yolov5          7412   14935514  20046               7     1852   \n",
       "iperov/DeepFaceLab          4088      74760  18870               2      416   \n",
       "TencentARC/GFPGAN           2833     115997  17388               5       64   \n",
       "d2l-ai/d2l-zh               3551      12209  15469              14     1013   \n",
       "ageitgey/face_recognition   4107        453  13956               2       61   \n",
       "JaidedAI/EasyOCR            1830    1139155  13657              15      457   \n",
       "tesseract-ocr/tesseract     1985          0  13338              20     1568   \n",
       "deepfakes/faceswap          3104     360175  13028               3      465   \n",
       "google/mediapipe            2654          0  12324              36       71   \n",
       "\n",
       "                           issues  closedIssues  \\\n",
       "repo                                              \n",
       "opencv/opencv                   0             0   \n",
       "ultralytics/yolov5              0             0   \n",
       "iperov/DeepFaceLab              0             0   \n",
       "TencentARC/GFPGAN             154            65   \n",
       "d2l-ai/d2l-zh                   0             0   \n",
       "ageitgey/face_recognition       0             0   \n",
       "JaidedAI/EasyOCR                0             0   \n",
       "tesseract-ocr/tesseract         0             0   \n",
       "deepfakes/faceswap              0             0   \n",
       "google/mediapipe                0             0   \n",
       "\n",
       "                                                                contributors  \\\n",
       "repo                                                                           \n",
       "opencv/opencv              {kyshel, m-gupta, utibenkei, Bleach665, sturkm...   \n",
       "ultralytics/yolov5         {jakepoz, lorenzomammana, Borda, glenn-jocher,...   \n",
       "iperov/DeepFaceLab                                                  {iperov}   \n",
       "TencentARC/GFPGAN                                                  {xinntao}   \n",
       "d2l-ai/d2l-zh              {astonzhang, goldmermaid, xyw5vplus1, xiaoting...   \n",
       "ageitgey/face_recognition  {ageitgey, ariyapour, snyk-bot, mtrsk, timgate...   \n",
       "JaidedAI/EasyOCR           {AlexKuhnle, abdullahselek, aaaaaa, wannaphong...   \n",
       "tesseract-ocr/tesseract    {1480c1, juliangilbey, M3ssman, Robyer, xloem,...   \n",
       "deepfakes/faceswap                      {daniellivingston, geewiz94, torzdf}   \n",
       "google/mediapipe                            {schmidt-sebastian, cmcclanahan}   \n",
       "\n",
       "                           readme  contributor_count  600stars  \n",
       "repo                                                            \n",
       "opencv/opencv                 844                236         1  \n",
       "ultralytics/yolov5          14590                 15         1  \n",
       "iperov/DeepFaceLab           6462                  1         1  \n",
       "TencentARC/GFPGAN           10898                  1         1  \n",
       "d2l-ai/d2l-zh                5314                  7         1  \n",
       "ageitgey/face_recognition   17036                  6         1  \n",
       "JaidedAI/EasyOCR            11047                 58         1  \n",
       "tesseract-ocr/tesseract      8314                 23         1  \n",
       "deepfakes/faceswap          12719                  3         1  \n",
       "google/mediapipe            19619                  2         1  "
      ]
     },
     "execution_count": 21,
     "metadata": {},
     "output_type": "execute_result"
    }
   ],
   "source": [
    "repo_df.nlargest(n=10, columns=['stars'])"
   ]
  },
  {
   "cell_type": "code",
   "execution_count": 22,
   "metadata": {},
   "outputs": [
    {
     "data": {
      "text/html": [
       "<div>\n",
       "<style scoped>\n",
       "    .dataframe tbody tr th:only-of-type {\n",
       "        vertical-align: middle;\n",
       "    }\n",
       "\n",
       "    .dataframe tbody tr th {\n",
       "        vertical-align: top;\n",
       "    }\n",
       "\n",
       "    .dataframe thead th {\n",
       "        text-align: right;\n",
       "    }\n",
       "</style>\n",
       "<table border=\"1\" class=\"dataframe\">\n",
       "  <thead>\n",
       "    <tr style=\"text-align: right;\">\n",
       "      <th></th>\n",
       "      <th>repo</th>\n",
       "      <th>release_tag</th>\n",
       "      <th>release_date</th>\n",
       "      <th>downloads</th>\n",
       "      <th>stars</th>\n",
       "      <th>forks</th>\n",
       "      <th>commits</th>\n",
       "      <th>issues</th>\n",
       "      <th>closedIssues</th>\n",
       "      <th>readme</th>\n",
       "      <th>readme_size</th>\n",
       "      <th>contributors</th>\n",
       "    </tr>\n",
       "  </thead>\n",
       "  <tbody>\n",
       "    <tr>\n",
       "      <th>1</th>\n",
       "      <td>100/Solid</td>\n",
       "      <td>0.1</td>\n",
       "      <td>2017-06-19T07:03:57Z</td>\n",
       "      <td>0</td>\n",
       "      <td>0</td>\n",
       "      <td>0</td>\n",
       "      <td>0</td>\n",
       "      <td>0</td>\n",
       "      <td>0</td>\n",
       "      <td># Metaheuristics-library-placeholder\\n\\n## Cur...</td>\n",
       "      <td>1767</td>\n",
       "      <td>[]</td>\n",
       "    </tr>\n",
       "    <tr>\n",
       "      <th>3</th>\n",
       "      <td>10up/classifai</td>\n",
       "      <td>1.1.0</td>\n",
       "      <td>2019-03-21T16:35:45Z</td>\n",
       "      <td>0</td>\n",
       "      <td>0</td>\n",
       "      <td>0</td>\n",
       "      <td>0</td>\n",
       "      <td>0</td>\n",
       "      <td>0</td>\n",
       "      <td>## Klasifai\\n\\nClassify WordPress Content usin...</td>\n",
       "      <td>2839</td>\n",
       "      <td>[]</td>\n",
       "    </tr>\n",
       "    <tr>\n",
       "      <th>4</th>\n",
       "      <td>10up/classifai</td>\n",
       "      <td>1.2.0</td>\n",
       "      <td>2019-03-21T16:39:03Z</td>\n",
       "      <td>0</td>\n",
       "      <td>0</td>\n",
       "      <td>0</td>\n",
       "      <td>0</td>\n",
       "      <td>0</td>\n",
       "      <td>0</td>\n",
       "      <td># ![ClassifAI](https://cldup.com/zn3_j2A-DL.pn...</td>\n",
       "      <td>4826</td>\n",
       "      <td>[]</td>\n",
       "    </tr>\n",
       "    <tr>\n",
       "      <th>5</th>\n",
       "      <td>10up/classifai</td>\n",
       "      <td>1.2.1</td>\n",
       "      <td>2019-04-26T21:06:20Z</td>\n",
       "      <td>0</td>\n",
       "      <td>0</td>\n",
       "      <td>1</td>\n",
       "      <td>0</td>\n",
       "      <td>0</td>\n",
       "      <td>0</td>\n",
       "      <td># ![ClassifAI](https://cldup.com/zn3_j2A-DL.pn...</td>\n",
       "      <td>4881</td>\n",
       "      <td>[]</td>\n",
       "    </tr>\n",
       "    <tr>\n",
       "      <th>6</th>\n",
       "      <td>10up/classifai</td>\n",
       "      <td>1.3.0</td>\n",
       "      <td>2019-06-07T21:44:38Z</td>\n",
       "      <td>0</td>\n",
       "      <td>0</td>\n",
       "      <td>0</td>\n",
       "      <td>0</td>\n",
       "      <td>0</td>\n",
       "      <td>0</td>\n",
       "      <td># ![ClassifAI](https://classifaiplugin.com/wp-...</td>\n",
       "      <td>7618</td>\n",
       "      <td>[]</td>\n",
       "    </tr>\n",
       "  </tbody>\n",
       "</table>\n",
       "</div>"
      ],
      "text/plain": [
       "             repo release_tag          release_date  downloads  stars  forks  \\\n",
       "1       100/Solid         0.1  2017-06-19T07:03:57Z          0      0      0   \n",
       "3  10up/classifai       1.1.0  2019-03-21T16:35:45Z          0      0      0   \n",
       "4  10up/classifai       1.2.0  2019-03-21T16:39:03Z          0      0      0   \n",
       "5  10up/classifai       1.2.1  2019-04-26T21:06:20Z          0      0      1   \n",
       "6  10up/classifai       1.3.0  2019-06-07T21:44:38Z          0      0      0   \n",
       "\n",
       "   commits  issues  closedIssues  \\\n",
       "1        0       0             0   \n",
       "3        0       0             0   \n",
       "4        0       0             0   \n",
       "5        0       0             0   \n",
       "6        0       0             0   \n",
       "\n",
       "                                              readme  readme_size contributors  \n",
       "1  # Metaheuristics-library-placeholder\\n\\n## Cur...         1767           []  \n",
       "3  ## Klasifai\\n\\nClassify WordPress Content usin...         2839           []  \n",
       "4  # ![ClassifAI](https://cldup.com/zn3_j2A-DL.pn...         4826           []  \n",
       "5  # ![ClassifAI](https://cldup.com/zn3_j2A-DL.pn...         4881           []  \n",
       "6  # ![ClassifAI](https://classifaiplugin.com/wp-...         7618           []  "
      ]
     },
     "execution_count": 22,
     "metadata": {},
     "output_type": "execute_result"
    }
   ],
   "source": [
    "new_df.nsmallest(n=5, columns=['stars'])"
   ]
  },
  {
   "cell_type": "code",
   "execution_count": 23,
   "metadata": {},
   "outputs": [],
   "source": [
    "# has_download_repos.sort_values(by=['release_counts'], ascending=False)"
   ]
  },
  {
   "cell_type": "code",
   "execution_count": 24,
   "metadata": {},
   "outputs": [
    {
     "data": {
      "text/html": [
       "<div>\n",
       "<style scoped>\n",
       "    .dataframe tbody tr th:only-of-type {\n",
       "        vertical-align: middle;\n",
       "    }\n",
       "\n",
       "    .dataframe tbody tr th {\n",
       "        vertical-align: top;\n",
       "    }\n",
       "\n",
       "    .dataframe thead th {\n",
       "        text-align: right;\n",
       "    }\n",
       "</style>\n",
       "<table border=\"1\" class=\"dataframe\">\n",
       "  <thead>\n",
       "    <tr style=\"text-align: right;\">\n",
       "      <th></th>\n",
       "      <th>forks</th>\n",
       "      <th>downloads</th>\n",
       "      <th>stars</th>\n",
       "      <th>release_counts</th>\n",
       "      <th>commits</th>\n",
       "      <th>issues</th>\n",
       "      <th>closedIssues</th>\n",
       "      <th>readme</th>\n",
       "      <th>contributor_count</th>\n",
       "    </tr>\n",
       "    <tr>\n",
       "      <th>600stars</th>\n",
       "      <th></th>\n",
       "      <th></th>\n",
       "      <th></th>\n",
       "      <th></th>\n",
       "      <th></th>\n",
       "      <th></th>\n",
       "      <th></th>\n",
       "      <th></th>\n",
       "      <th></th>\n",
       "    </tr>\n",
       "  </thead>\n",
       "  <tbody>\n",
       "    <tr>\n",
       "      <th>0</th>\n",
       "      <td>9.601193</td>\n",
       "      <td>10241.627707</td>\n",
       "      <td>68.718294</td>\n",
       "      <td>7.482324</td>\n",
       "      <td>124.324348</td>\n",
       "      <td>7.399912</td>\n",
       "      <td>5.372072</td>\n",
       "      <td>6281.549271</td>\n",
       "      <td>1.998232</td>\n",
       "    </tr>\n",
       "    <tr>\n",
       "      <th>1</th>\n",
       "      <td>481.306210</td>\n",
       "      <td>57889.190578</td>\n",
       "      <td>2369.109208</td>\n",
       "      <td>21.794433</td>\n",
       "      <td>652.910064</td>\n",
       "      <td>19.503212</td>\n",
       "      <td>14.152034</td>\n",
       "      <td>11486.445396</td>\n",
       "      <td>9.051392</td>\n",
       "    </tr>\n",
       "  </tbody>\n",
       "</table>\n",
       "</div>"
      ],
      "text/plain": [
       "               forks     downloads        stars  release_counts     commits  \\\n",
       "600stars                                                                      \n",
       "0           9.601193  10241.627707    68.718294        7.482324  124.324348   \n",
       "1         481.306210  57889.190578  2369.109208       21.794433  652.910064   \n",
       "\n",
       "             issues  closedIssues        readme  contributor_count  \n",
       "600stars                                                            \n",
       "0          7.399912      5.372072   6281.549271           1.998232  \n",
       "1         19.503212     14.152034  11486.445396           9.051392  "
      ]
     },
     "execution_count": 24,
     "metadata": {},
     "output_type": "execute_result"
    }
   ],
   "source": [
    "repo_df.groupby('600stars').mean()"
   ]
  },
  {
   "cell_type": "markdown",
   "metadata": {},
   "source": [
    "# Logistic Regression"
   ]
  },
  {
   "cell_type": "code",
   "execution_count": 25,
   "metadata": {},
   "outputs": [],
   "source": [
    "cols=['forks', 'downloads', 'stars', 'commits', 'issues',\n",
    "      'closedIssues', 'contributor_count', 'readme','release_counts']\n",
    "X=repo_df[cols]\n",
    "y=repo_df['600stars']\n",
    "# X,y"
   ]
  },
  {
   "cell_type": "code",
   "execution_count": 26,
   "metadata": {},
   "outputs": [
    {
     "name": "stdout",
     "output_type": "stream",
     "text": [
      "Optimization terminated successfully.\n",
      "         Current function value: 0.299453\n",
      "         Iterations 9\n",
      "                           Logit Regression Results                           \n",
      "==============================================================================\n",
      "Dep. Variable:               600stars   No. Observations:                 4993\n",
      "Model:                          Logit   Df Residuals:                     4984\n",
      "Method:                           MLE   Df Model:                            8\n",
      "Date:                Thu, 07 Jul 2022   Pseudo R-squ.:                 0.03599\n",
      "Time:                        10:17:41   Log-Likelihood:                -1495.2\n",
      "converged:                       True   LL-Null:                       -1551.0\n",
      "Covariance Type:            nonrobust   LLR p-value:                 1.757e-20\n",
      "=====================================================================================\n",
      "                        coef    std err          z      P>|z|      [0.025      0.975]\n",
      "-------------------------------------------------------------------------------------\n",
      "forks                 0.0012      0.001      0.851      0.395      -0.002       0.004\n",
      "downloads          1.393e-06   1.97e-07      7.086      0.000    1.01e-06    1.78e-06\n",
      "stars                 0.0108      0.000     23.780      0.000       0.010       0.012\n",
      "commits               0.0005      0.000      3.037      0.002       0.000       0.001\n",
      "issues               -0.0764      0.013     -5.996      0.000      -0.101      -0.051\n",
      "closedIssues          0.0723      0.016      4.591      0.000       0.041       0.103\n",
      "contributor_count    -0.2125      0.020    -10.622      0.000      -0.252      -0.173\n",
      "readme               -0.0004   1.58e-05    -27.237      0.000      -0.000      -0.000\n",
      "release_counts       -0.1161      0.008    -14.276      0.000      -0.132      -0.100\n",
      "=====================================================================================\n"
     ]
    }
   ],
   "source": [
    "import statsmodels.api as sm\n",
    "logit_model=sm.Logit(y,X)\n",
    "result=logit_model.fit()\n",
    "print(result.summary())"
   ]
  },
  {
   "cell_type": "code",
   "execution_count": 27,
   "metadata": {},
   "outputs": [
    {
     "name": "stderr",
     "output_type": "stream",
     "text": [
      "/users/kent/jmaharja/.local/lib/python3.6/site-packages/sklearn/linear_model/logistic.py:432: FutureWarning: Default solver will be changed to 'lbfgs' in 0.22. Specify a solver to silence this warning.\n",
      "  FutureWarning)\n",
      "/users/kent/jmaharja/.local/lib/python3.6/site-packages/sklearn/svm/base.py:929: ConvergenceWarning: Liblinear failed to converge, increase the number of iterations.\n",
      "  \"the number of iterations.\", ConvergenceWarning)\n"
     ]
    },
    {
     "data": {
      "text/plain": [
       "LogisticRegression(C=1.0, class_weight=None, dual=False, fit_intercept=True,\n",
       "                   intercept_scaling=1, l1_ratio=None, max_iter=100,\n",
       "                   multi_class='warn', n_jobs=None, penalty='l2',\n",
       "                   random_state=None, solver='warn', tol=0.0001, verbose=0,\n",
       "                   warm_start=False)"
      ]
     },
     "execution_count": 27,
     "metadata": {},
     "output_type": "execute_result"
    }
   ],
   "source": [
    "from sklearn.model_selection import train_test_split\n",
    "\n",
    "X_train, X_test, y_train, y_test = train_test_split(X, y, test_size=0.3, random_state=0)\n",
    "from sklearn.linear_model import LogisticRegression\n",
    "from sklearn import metrics\n",
    "logreg = LogisticRegression()\n",
    "logreg.fit(X_train, y_train)"
   ]
  },
  {
   "cell_type": "code",
   "execution_count": 28,
   "metadata": {},
   "outputs": [],
   "source": [
    "y_pred = logreg.predict(X_test)"
   ]
  },
  {
   "cell_type": "code",
   "execution_count": 29,
   "metadata": {},
   "outputs": [
    {
     "data": {
      "text/plain": [
       "(1498, 9)"
      ]
     },
     "execution_count": 29,
     "metadata": {},
     "output_type": "execute_result"
    }
   ],
   "source": [
    "X_test.shape"
   ]
  },
  {
   "cell_type": "code",
   "execution_count": 30,
   "metadata": {},
   "outputs": [
    {
     "data": {
      "text/plain": [
       "0    1349\n",
       "1     149\n",
       "Name: 600stars, dtype: int64"
      ]
     },
     "execution_count": 30,
     "metadata": {},
     "output_type": "execute_result"
    }
   ],
   "source": [
    "y_test.value_counts()"
   ]
  },
  {
   "cell_type": "code",
   "execution_count": 31,
   "metadata": {},
   "outputs": [
    {
     "name": "stdout",
     "output_type": "stream",
     "text": [
      "Accuracy of logistic regression classifier on test set: 0.89\n"
     ]
    }
   ],
   "source": [
    "print('Accuracy of logistic regression classifier on test set: {:.2f}'.format(logreg.score(X_test, y_test)))"
   ]
  },
  {
   "cell_type": "markdown",
   "metadata": {},
   "source": [
    "\n",
    "# Validation"
   ]
  },
  {
   "cell_type": "code",
   "execution_count": 32,
   "metadata": {},
   "outputs": [
    {
     "name": "stderr",
     "output_type": "stream",
     "text": [
      "/users/kent/jmaharja/.local/lib/python3.6/site-packages/sklearn/linear_model/logistic.py:432: FutureWarning: Default solver will be changed to 'lbfgs' in 0.22. Specify a solver to silence this warning.\n",
      "  FutureWarning)\n",
      "/users/kent/jmaharja/.local/lib/python3.6/site-packages/sklearn/svm/base.py:929: ConvergenceWarning: Liblinear failed to converge, increase the number of iterations.\n",
      "  \"the number of iterations.\", ConvergenceWarning)\n",
      "/users/kent/jmaharja/.local/lib/python3.6/site-packages/sklearn/linear_model/logistic.py:432: FutureWarning: Default solver will be changed to 'lbfgs' in 0.22. Specify a solver to silence this warning.\n",
      "  FutureWarning)\n",
      "/users/kent/jmaharja/.local/lib/python3.6/site-packages/sklearn/svm/base.py:929: ConvergenceWarning: Liblinear failed to converge, increase the number of iterations.\n",
      "  \"the number of iterations.\", ConvergenceWarning)\n",
      "/users/kent/jmaharja/.local/lib/python3.6/site-packages/sklearn/linear_model/logistic.py:432: FutureWarning: Default solver will be changed to 'lbfgs' in 0.22. Specify a solver to silence this warning.\n",
      "  FutureWarning)\n",
      "/users/kent/jmaharja/.local/lib/python3.6/site-packages/sklearn/svm/base.py:929: ConvergenceWarning: Liblinear failed to converge, increase the number of iterations.\n",
      "  \"the number of iterations.\", ConvergenceWarning)\n",
      "/users/kent/jmaharja/.local/lib/python3.6/site-packages/sklearn/linear_model/logistic.py:432: FutureWarning: Default solver will be changed to 'lbfgs' in 0.22. Specify a solver to silence this warning.\n",
      "  FutureWarning)\n",
      "/users/kent/jmaharja/.local/lib/python3.6/site-packages/sklearn/svm/base.py:929: ConvergenceWarning: Liblinear failed to converge, increase the number of iterations.\n",
      "  \"the number of iterations.\", ConvergenceWarning)\n",
      "/users/kent/jmaharja/.local/lib/python3.6/site-packages/sklearn/linear_model/logistic.py:432: FutureWarning: Default solver will be changed to 'lbfgs' in 0.22. Specify a solver to silence this warning.\n",
      "  FutureWarning)\n",
      "/users/kent/jmaharja/.local/lib/python3.6/site-packages/sklearn/svm/base.py:929: ConvergenceWarning: Liblinear failed to converge, increase the number of iterations.\n",
      "  \"the number of iterations.\", ConvergenceWarning)\n",
      "/users/kent/jmaharja/.local/lib/python3.6/site-packages/sklearn/linear_model/logistic.py:432: FutureWarning: Default solver will be changed to 'lbfgs' in 0.22. Specify a solver to silence this warning.\n",
      "  FutureWarning)\n",
      "/users/kent/jmaharja/.local/lib/python3.6/site-packages/sklearn/svm/base.py:929: ConvergenceWarning: Liblinear failed to converge, increase the number of iterations.\n",
      "  \"the number of iterations.\", ConvergenceWarning)\n",
      "/users/kent/jmaharja/.local/lib/python3.6/site-packages/sklearn/linear_model/logistic.py:432: FutureWarning: Default solver will be changed to 'lbfgs' in 0.22. Specify a solver to silence this warning.\n",
      "  FutureWarning)\n",
      "/users/kent/jmaharja/.local/lib/python3.6/site-packages/sklearn/svm/base.py:929: ConvergenceWarning: Liblinear failed to converge, increase the number of iterations.\n",
      "  \"the number of iterations.\", ConvergenceWarning)\n",
      "/users/kent/jmaharja/.local/lib/python3.6/site-packages/sklearn/linear_model/logistic.py:432: FutureWarning: Default solver will be changed to 'lbfgs' in 0.22. Specify a solver to silence this warning.\n",
      "  FutureWarning)\n",
      "/users/kent/jmaharja/.local/lib/python3.6/site-packages/sklearn/svm/base.py:929: ConvergenceWarning: Liblinear failed to converge, increase the number of iterations.\n",
      "  \"the number of iterations.\", ConvergenceWarning)\n",
      "/users/kent/jmaharja/.local/lib/python3.6/site-packages/sklearn/linear_model/logistic.py:432: FutureWarning: Default solver will be changed to 'lbfgs' in 0.22. Specify a solver to silence this warning.\n",
      "  FutureWarning)\n"
     ]
    },
    {
     "name": "stdout",
     "output_type": "stream",
     "text": [
      "10-fold cross validation average accuracy: 0.951\n"
     ]
    },
    {
     "name": "stderr",
     "output_type": "stream",
     "text": [
      "/users/kent/jmaharja/.local/lib/python3.6/site-packages/sklearn/svm/base.py:929: ConvergenceWarning: Liblinear failed to converge, increase the number of iterations.\n",
      "  \"the number of iterations.\", ConvergenceWarning)\n",
      "/users/kent/jmaharja/.local/lib/python3.6/site-packages/sklearn/linear_model/logistic.py:432: FutureWarning: Default solver will be changed to 'lbfgs' in 0.22. Specify a solver to silence this warning.\n",
      "  FutureWarning)\n",
      "/users/kent/jmaharja/.local/lib/python3.6/site-packages/sklearn/svm/base.py:929: ConvergenceWarning: Liblinear failed to converge, increase the number of iterations.\n",
      "  \"the number of iterations.\", ConvergenceWarning)\n"
     ]
    }
   ],
   "source": [
    "from sklearn import model_selection\n",
    "from sklearn.model_selection import cross_val_score\n",
    "kfold = model_selection.KFold(n_splits=10, random_state=7)\n",
    "modelCV = LogisticRegression()\n",
    "scoring = 'accuracy'\n",
    "results = model_selection.cross_val_score(modelCV, X_train, y_train, cv=kfold, scoring=scoring)\n",
    "print(\"10-fold cross validation average accuracy: %.3f\" % (results.mean()))"
   ]
  },
  {
   "cell_type": "code",
   "execution_count": 33,
   "metadata": {},
   "outputs": [
    {
     "name": "stdout",
     "output_type": "stream",
     "text": [
      "[[1230  119]\n",
      " [  39  110]]\n"
     ]
    }
   ],
   "source": [
    "from sklearn.metrics import confusion_matrix\n",
    "confusion_matrix = confusion_matrix(y_test, y_pred)\n",
    "print(confusion_matrix)"
   ]
  },
  {
   "cell_type": "code",
   "execution_count": 34,
   "metadata": {},
   "outputs": [
    {
     "name": "stdout",
     "output_type": "stream",
     "text": [
      "              precision    recall  f1-score   support\n",
      "\n",
      "           0       0.97      0.91      0.94      1349\n",
      "           1       0.48      0.74      0.58       149\n",
      "\n",
      "    accuracy                           0.89      1498\n",
      "   macro avg       0.72      0.83      0.76      1498\n",
      "weighted avg       0.92      0.89      0.90      1498\n",
      "\n"
     ]
    }
   ],
   "source": [
    "from sklearn.metrics import classification_report\n",
    "print(classification_report(y_test, y_pred))"
   ]
  },
  {
   "cell_type": "code",
   "execution_count": 35,
   "metadata": {},
   "outputs": [
    {
     "data": {
      "image/png": "[encoded data removed]",
      "text/plain": [
       "<Figure size 432x288 with 1 Axes>"
      ]
     },
     "metadata": {
      "image/png": {
       "height": 282,
       "width": 401
      }
     },
     "output_type": "display_data"
    }
   ],
   "source": [
    "from sklearn.metrics import roc_auc_score\n",
    "from sklearn.metrics import roc_curve\n",
    "logit_roc_auc = roc_auc_score(y_test, logreg.predict(X_test))\n",
    "fpr, tpr, thresholds = roc_curve(y_test, logreg.predict_proba(X_test)[:,1])\n",
    "plt.figure()\n",
    "plt.plot(fpr, tpr, label='Logistic Regression (area = %0.2f)' % logit_roc_auc)\n",
    "plt.plot([0, 1], [0, 1],'r--')\n",
    "plt.xlim([0.0, 1.0])\n",
    "plt.ylim([0.0, 1.05])\n",
    "plt.xlabel('False Positive Rate')\n",
    "plt.ylabel('True Positive Rate')\n",
    "plt.title('Receiver operating characteristic')\n",
    "plt.legend(loc=\"lower right\")\n",
    "plt.savefig('Log_ROC')\n",
    "plt.show()"
   ]
  },
  {
   "cell_type": "code",
   "execution_count": 53,
   "metadata": {},
   "outputs": [
    {
     "data": {
      "image/png": "[encoded data removed]",
      "text/plain": [
       "<Figure size 432x288 with 1 Axes>"
      ]
     },
     "metadata": {
      "image/png": {
       "height": 282,
       "width": 401
      }
     },
     "output_type": "display_data"
    }
   ],
   "source": [
    "from sklearn.metrics import average_precision_score\n",
    "from sklearn.metrics import precision_recall_curve\n",
    "auprc = average_precision_score(y_test, logreg.predict(X_test))\n",
    "precision, recall, thresholds = precision_recall_curve( y_test, logreg.predict(X_test))\n",
    "plt.figure()\n",
    "plt.plot(recall, precision, label='Logistic Regression (area = %0.2f)' % auprc)\n",
    "plt.xlim([0.0, 1.0])\n",
    "plt.ylim([0.0, 1.05])\n",
    "plt.xlabel('True Positive Rate (Recall)')\n",
    "plt.ylabel('Positive predictive value (Precision) ')\n",
    "plt.title('Area Under Precision Recall Score')\n",
    "plt.legend(loc=\"lower right\")\n",
    "plt.savefig('Log_AUPRC')\n",
    "plt.show()"
   ]
  },
  {
   "cell_type": "code",
   "execution_count": 49,
   "metadata": {},
   "outputs": [
    {
     "name": "stdout",
     "output_type": "stream",
     "text": [
      "Area Under PR Curve(AP): 0.76 #should be same as AP?\n",
      "AP 0.38065503474656226\n",
      "AP 0.38065503474656226\n",
      "AP 0.38065503474656226\n",
      "AP 0.38065503474656226\n"
     ]
    }
   ],
   "source": [
    "#  Compute Precision-Recall and plot curve\n",
    "from sklearn.metrics import auc\n",
    "\n",
    "precision, recall, thresholds = precision_recall_curve(y_test, logreg.predict_proba(X_test)[:,1])\n",
    "area = auc(recall, precision)\n",
    "print (\"Area Under PR Curve(AP): %0.2f\" % area,  \"#should be same as AP?\")\n",
    "\n",
    "print ('AP', average_precision_score(y_test, y_pred, average='weighted'))\n",
    "print ('AP', average_precision_score(y_test, y_pred, average='macro'))\n",
    "print ('AP', average_precision_score(y_test, y_pred, average='micro'))\n",
    "print ('AP', average_precision_score(y_test, y_pred, average='samples'))"
   ]
  },
  {
   "cell_type": "code",
   "execution_count": 40,
   "metadata": {},
   "outputs": [
    {
     "ename": "ImportError",
     "evalue": "cannot import name 'PrecisionRecallDisplay'",
     "output_type": "error",
     "traceback": [
      "\u001b[0;31m---------------------------------------------------------------------------\u001b[0m",
      "\u001b[0;31mImportError\u001b[0m                               Traceback (most recent call last)",
      "\u001b[0;32m<ipython-input-40-f4257835d57d>\u001b[0m in \u001b[0;36m<module>\u001b[0;34m\u001b[0m\n\u001b[0;32m----> 1\u001b[0;31m \u001b[0;32mfrom\u001b[0m \u001b[0msklearn\u001b[0m\u001b[0;34m.\u001b[0m\u001b[0mmetrics\u001b[0m \u001b[0;32mimport\u001b[0m \u001b[0mPrecisionRecallDisplay\u001b[0m\u001b[0;34m\u001b[0m\u001b[0;34m\u001b[0m\u001b[0m\n\u001b[0m\u001b[1;32m      2\u001b[0m \u001b[0;34m\u001b[0m\u001b[0m\n\u001b[1;32m      3\u001b[0m display = PrecisionRecallDisplay.from_estimator(\n\u001b[1;32m      4\u001b[0m     \u001b[0mclassifier\u001b[0m\u001b[0;34m,\u001b[0m \u001b[0mX_test\u001b[0m\u001b[0;34m,\u001b[0m \u001b[0my_test\u001b[0m\u001b[0;34m,\u001b[0m \u001b[0mname\u001b[0m\u001b[0;34m=\u001b[0m\u001b[0;34m\"LinearSVC\"\u001b[0m\u001b[0;34m\u001b[0m\u001b[0;34m\u001b[0m\u001b[0m\n\u001b[1;32m      5\u001b[0m )\n",
      "\u001b[0;31mImportError\u001b[0m: cannot import name 'PrecisionRecallDisplay'"
     ]
    }
   ],
   "source": [
    "from sklearn.metrics import PrecisionRecallDisplay\n",
    "\n",
    "display = precision_recall_curve(\n",
    "    modelCV, X_test, y_test, name=\"LinearSVC\"\n",
    ")\n",
    "_ = display.ax_.set_title(\"2-class Precision-Recall curve\")"
   ]
  },
  {
   "cell_type": "markdown",
   "metadata": {},
   "source": [
    "# SHAP Analysis"
   ]
  },
  {
   "cell_type": "code",
   "execution_count": 37,
   "metadata": {},
   "outputs": [],
   "source": [
    "import shap"
   ]
  },
  {
   "cell_type": "code",
   "execution_count": 38,
   "metadata": {},
   "outputs": [
    {
     "ename": "KeyboardInterrupt",
     "evalue": "",
     "output_type": "error",
     "traceback": [
      "\u001b[0;31m---------------------------------------------------------------------------\u001b[0m",
      "\u001b[0;31mKeyboardInterrupt\u001b[0m                         Traceback (most recent call last)",
      "\u001b[0;32m<ipython-input-38-c5b513128c5c>\u001b[0m in \u001b[0;36m<module>\u001b[0;34m\u001b[0m\n\u001b[1;32m      2\u001b[0m \u001b[0mexplainer\u001b[0m \u001b[0;34m=\u001b[0m \u001b[0mshap\u001b[0m\u001b[0;34m.\u001b[0m\u001b[0mExplainer\u001b[0m\u001b[0;34m(\u001b[0m\u001b[0mlogreg\u001b[0m\u001b[0;34m.\u001b[0m\u001b[0mpredict\u001b[0m\u001b[0;34m,\u001b[0m \u001b[0mX_test\u001b[0m\u001b[0;34m)\u001b[0m\u001b[0;34m\u001b[0m\u001b[0;34m\u001b[0m\u001b[0m\n\u001b[1;32m      3\u001b[0m \u001b[0;31m# Calculates the SHAP values - It takes some time\u001b[0m\u001b[0;34m\u001b[0m\u001b[0;34m\u001b[0m\u001b[0;34m\u001b[0m\u001b[0m\n\u001b[0;32m----> 4\u001b[0;31m \u001b[0mshap_values\u001b[0m \u001b[0;34m=\u001b[0m \u001b[0mexplainer\u001b[0m\u001b[0;34m(\u001b[0m\u001b[0mX_test\u001b[0m\u001b[0;34m)\u001b[0m\u001b[0;34m\u001b[0m\u001b[0;34m\u001b[0m\u001b[0m\n\u001b[0m",
      "\u001b[0;32m~/.local/lib/python3.6/site-packages/shap/explainers/_exact.py\u001b[0m in \u001b[0;36m__call__\u001b[0;34m(self, max_evals, main_effects, error_bounds, batch_size, interactions, silent, *args)\u001b[0m\n\u001b[1;32m     69\u001b[0m         return super(Exact, self).__call__(\n\u001b[1;32m     70\u001b[0m             \u001b[0;34m*\u001b[0m\u001b[0margs\u001b[0m\u001b[0;34m,\u001b[0m \u001b[0mmax_evals\u001b[0m\u001b[0;34m=\u001b[0m\u001b[0mmax_evals\u001b[0m\u001b[0;34m,\u001b[0m \u001b[0mmain_effects\u001b[0m\u001b[0;34m=\u001b[0m\u001b[0mmain_effects\u001b[0m\u001b[0;34m,\u001b[0m \u001b[0merror_bounds\u001b[0m\u001b[0;34m=\u001b[0m\u001b[0merror_bounds\u001b[0m\u001b[0;34m,\u001b[0m\u001b[0;34m\u001b[0m\u001b[0;34m\u001b[0m\u001b[0m\n\u001b[0;32m---> 71\u001b[0;31m             \u001b[0mbatch_size\u001b[0m\u001b[0;34m=\u001b[0m\u001b[0mbatch_size\u001b[0m\u001b[0;34m,\u001b[0m \u001b[0minteractions\u001b[0m\u001b[0;34m=\u001b[0m\u001b[0minteractions\u001b[0m\u001b[0;34m,\u001b[0m \u001b[0msilent\u001b[0m\u001b[0;34m=\u001b[0m\u001b[0msilent\u001b[0m\u001b[0;34m\u001b[0m\u001b[0;34m\u001b[0m\u001b[0m\n\u001b[0m\u001b[1;32m     72\u001b[0m         )\n\u001b[1;32m     73\u001b[0m \u001b[0;34m\u001b[0m\u001b[0m\n",
      "\u001b[0;32m~/.local/lib/python3.6/site-packages/shap/explainers/_explainer.py\u001b[0m in \u001b[0;36m__call__\u001b[0;34m(self, max_evals, main_effects, error_bounds, batch_size, outputs, silent, *args, **kwargs)\u001b[0m\n\u001b[1;32m    258\u001b[0m             row_result = self.explain_row(\n\u001b[1;32m    259\u001b[0m                 \u001b[0;34m*\u001b[0m\u001b[0mrow_args\u001b[0m\u001b[0;34m,\u001b[0m \u001b[0mmax_evals\u001b[0m\u001b[0;34m=\u001b[0m\u001b[0mmax_evals\u001b[0m\u001b[0;34m,\u001b[0m \u001b[0mmain_effects\u001b[0m\u001b[0;34m=\u001b[0m\u001b[0mmain_effects\u001b[0m\u001b[0;34m,\u001b[0m \u001b[0merror_bounds\u001b[0m\u001b[0;34m=\u001b[0m\u001b[0merror_bounds\u001b[0m\u001b[0;34m,\u001b[0m\u001b[0;34m\u001b[0m\u001b[0;34m\u001b[0m\u001b[0m\n\u001b[0;32m--> 260\u001b[0;31m                 \u001b[0mbatch_size\u001b[0m\u001b[0;34m=\u001b[0m\u001b[0mbatch_size\u001b[0m\u001b[0;34m,\u001b[0m \u001b[0moutputs\u001b[0m\u001b[0;34m=\u001b[0m\u001b[0moutputs\u001b[0m\u001b[0;34m,\u001b[0m \u001b[0msilent\u001b[0m\u001b[0;34m=\u001b[0m\u001b[0msilent\u001b[0m\u001b[0;34m,\u001b[0m \u001b[0;34m**\u001b[0m\u001b[0mkwargs\u001b[0m\u001b[0;34m\u001b[0m\u001b[0;34m\u001b[0m\u001b[0m\n\u001b[0m\u001b[1;32m    261\u001b[0m             )\n\u001b[1;32m    262\u001b[0m             \u001b[0mvalues\u001b[0m\u001b[0;34m.\u001b[0m\u001b[0mappend\u001b[0m\u001b[0;34m(\u001b[0m\u001b[0mrow_result\u001b[0m\u001b[0;34m.\u001b[0m\u001b[0mget\u001b[0m\u001b[0;34m(\u001b[0m\u001b[0;34m\"values\"\u001b[0m\u001b[0;34m,\u001b[0m \u001b[0;32mNone\u001b[0m\u001b[0;34m)\u001b[0m\u001b[0;34m)\u001b[0m\u001b[0;34m\u001b[0m\u001b[0;34m\u001b[0m\u001b[0m\n",
      "\u001b[0;32m~/.local/lib/python3.6/site-packages/shap/explainers/_exact.py\u001b[0m in \u001b[0;36mexplain_row\u001b[0;34m(self, max_evals, main_effects, error_bounds, batch_size, outputs, interactions, silent, *row_args)\u001b[0m\n\u001b[1;32m    111\u001b[0m \u001b[0;34m\u001b[0m\u001b[0m\n\u001b[1;32m    112\u001b[0m             \u001b[0;31m# run the model\u001b[0m\u001b[0;34m\u001b[0m\u001b[0;34m\u001b[0m\u001b[0;34m\u001b[0m\u001b[0m\n\u001b[0;32m--> 113\u001b[0;31m             \u001b[0moutputs\u001b[0m \u001b[0;34m=\u001b[0m \u001b[0mfm\u001b[0m\u001b[0;34m(\u001b[0m\u001b[0mextended_delta_indexes\u001b[0m\u001b[0;34m,\u001b[0m \u001b[0mzero_index\u001b[0m\u001b[0;34m=\u001b[0m\u001b[0;36m0\u001b[0m\u001b[0;34m,\u001b[0m \u001b[0mbatch_size\u001b[0m\u001b[0;34m=\u001b[0m\u001b[0mbatch_size\u001b[0m\u001b[0;34m)\u001b[0m\u001b[0;34m\u001b[0m\u001b[0;34m\u001b[0m\u001b[0m\n\u001b[0m\u001b[1;32m    114\u001b[0m \u001b[0;34m\u001b[0m\u001b[0m\n\u001b[1;32m    115\u001b[0m             \u001b[0;31m# Shapley values\u001b[0m\u001b[0;34m\u001b[0m\u001b[0;34m\u001b[0m\u001b[0;34m\u001b[0m\u001b[0m\n",
      "\u001b[0;32m~/.local/lib/python3.6/site-packages/shap/utils/_masked_model.py\u001b[0m in \u001b[0;36m__call__\u001b[0;34m(self, masks, zero_index, batch_size)\u001b[0m\n\u001b[1;32m     55\u001b[0m         \u001b[0;32mif\u001b[0m \u001b[0mlen\u001b[0m\u001b[0;34m(\u001b[0m\u001b[0mmasks\u001b[0m\u001b[0;34m.\u001b[0m\u001b[0mshape\u001b[0m\u001b[0;34m)\u001b[0m \u001b[0;34m==\u001b[0m \u001b[0;36m1\u001b[0m\u001b[0;34m:\u001b[0m\u001b[0;34m\u001b[0m\u001b[0;34m\u001b[0m\u001b[0m\n\u001b[1;32m     56\u001b[0m             \u001b[0;32mif\u001b[0m \u001b[0mgetattr\u001b[0m\u001b[0;34m(\u001b[0m\u001b[0mself\u001b[0m\u001b[0;34m.\u001b[0m\u001b[0mmasker\u001b[0m\u001b[0;34m,\u001b[0m \u001b[0;34m\"supports_delta_masking\"\u001b[0m\u001b[0;34m,\u001b[0m \u001b[0;32mFalse\u001b[0m\u001b[0;34m)\u001b[0m\u001b[0;34m:\u001b[0m\u001b[0;34m\u001b[0m\u001b[0;34m\u001b[0m\u001b[0m\n\u001b[0;32m---> 57\u001b[0;31m                 \u001b[0;32mreturn\u001b[0m \u001b[0mself\u001b[0m\u001b[0;34m.\u001b[0m\u001b[0m_delta_masking_call\u001b[0m\u001b[0;34m(\u001b[0m\u001b[0mmasks\u001b[0m\u001b[0;34m,\u001b[0m \u001b[0mzero_index\u001b[0m\u001b[0;34m=\u001b[0m\u001b[0mzero_index\u001b[0m\u001b[0;34m,\u001b[0m \u001b[0mbatch_size\u001b[0m\u001b[0;34m=\u001b[0m\u001b[0mbatch_size\u001b[0m\u001b[0;34m)\u001b[0m\u001b[0;34m\u001b[0m\u001b[0;34m\u001b[0m\u001b[0m\n\u001b[0m\u001b[1;32m     58\u001b[0m \u001b[0;34m\u001b[0m\u001b[0m\n\u001b[1;32m     59\u001b[0m             \u001b[0;31m# we need to convert from delta masking to a full masking call because we were given a delta masking\u001b[0m\u001b[0;34m\u001b[0m\u001b[0;34m\u001b[0m\u001b[0;34m\u001b[0m\u001b[0m\n",
      "\u001b[0;32m~/.local/lib/python3.6/site-packages/shap/utils/_masked_model.py\u001b[0m in \u001b[0;36m_delta_masking_call\u001b[0;34m(self, masks, zero_index, batch_size)\u001b[0m\n\u001b[1;32m    197\u001b[0m \u001b[0;34m\u001b[0m\u001b[0m\n\u001b[1;32m    198\u001b[0m         \u001b[0;31m# joined_masked_inputs = self._stack_inputs(all_masked_inputs)\u001b[0m\u001b[0;34m\u001b[0m\u001b[0;34m\u001b[0m\u001b[0;34m\u001b[0m\u001b[0m\n\u001b[0;32m--> 199\u001b[0;31m         \u001b[0moutputs\u001b[0m \u001b[0;34m=\u001b[0m \u001b[0mself\u001b[0m\u001b[0;34m.\u001b[0m\u001b[0mmodel\u001b[0m\u001b[0;34m(\u001b[0m\u001b[0;34m*\u001b[0m\u001b[0msubset_masked_inputs\u001b[0m\u001b[0;34m)\u001b[0m\u001b[0;34m\u001b[0m\u001b[0;34m\u001b[0m\u001b[0m\n\u001b[0m\u001b[1;32m    200\u001b[0m         \u001b[0m_assert_output_input_match\u001b[0m\u001b[0;34m(\u001b[0m\u001b[0msubset_masked_inputs\u001b[0m\u001b[0;34m,\u001b[0m \u001b[0moutputs\u001b[0m\u001b[0;34m)\u001b[0m\u001b[0;34m\u001b[0m\u001b[0;34m\u001b[0m\u001b[0m\n\u001b[1;32m    201\u001b[0m \u001b[0;34m\u001b[0m\u001b[0m\n",
      "\u001b[0;32m~/.local/lib/python3.6/site-packages/shap/models/_model.py\u001b[0m in \u001b[0;36m__call__\u001b[0;34m(self, *args)\u001b[0m\n\u001b[1;32m     19\u001b[0m \u001b[0;34m\u001b[0m\u001b[0m\n\u001b[1;32m     20\u001b[0m     \u001b[0;32mdef\u001b[0m \u001b[0m__call__\u001b[0m\u001b[0;34m(\u001b[0m\u001b[0mself\u001b[0m\u001b[0;34m,\u001b[0m \u001b[0;34m*\u001b[0m\u001b[0margs\u001b[0m\u001b[0;34m)\u001b[0m\u001b[0;34m:\u001b[0m\u001b[0;34m\u001b[0m\u001b[0;34m\u001b[0m\u001b[0m\n\u001b[0;32m---> 21\u001b[0;31m         \u001b[0;32mreturn\u001b[0m \u001b[0mnp\u001b[0m\u001b[0;34m.\u001b[0m\u001b[0marray\u001b[0m\u001b[0;34m(\u001b[0m\u001b[0mself\u001b[0m\u001b[0;34m.\u001b[0m\u001b[0minner_model\u001b[0m\u001b[0;34m(\u001b[0m\u001b[0;34m*\u001b[0m\u001b[0margs\u001b[0m\u001b[0;34m)\u001b[0m\u001b[0;34m)\u001b[0m\u001b[0;34m\u001b[0m\u001b[0;34m\u001b[0m\u001b[0m\n\u001b[0m\u001b[1;32m     22\u001b[0m \u001b[0;34m\u001b[0m\u001b[0m\n\u001b[1;32m     23\u001b[0m     \u001b[0;32mdef\u001b[0m \u001b[0msave\u001b[0m\u001b[0;34m(\u001b[0m\u001b[0mself\u001b[0m\u001b[0;34m,\u001b[0m \u001b[0mout_file\u001b[0m\u001b[0;34m)\u001b[0m\u001b[0;34m:\u001b[0m\u001b[0;34m\u001b[0m\u001b[0;34m\u001b[0m\u001b[0m\n",
      "\u001b[0;32m~/.local/lib/python3.6/site-packages/sklearn/linear_model/base.py\u001b[0m in \u001b[0;36mpredict\u001b[0;34m(self, X)\u001b[0m\n\u001b[1;32m    287\u001b[0m             \u001b[0mPredicted\u001b[0m \u001b[0;32mclass\u001b[0m \u001b[0mlabel\u001b[0m \u001b[0mper\u001b[0m \u001b[0msample\u001b[0m\u001b[0;34m.\u001b[0m\u001b[0;34m\u001b[0m\u001b[0;34m\u001b[0m\u001b[0m\n\u001b[1;32m    288\u001b[0m         \"\"\"\n\u001b[0;32m--> 289\u001b[0;31m         \u001b[0mscores\u001b[0m \u001b[0;34m=\u001b[0m \u001b[0mself\u001b[0m\u001b[0;34m.\u001b[0m\u001b[0mdecision_function\u001b[0m\u001b[0;34m(\u001b[0m\u001b[0mX\u001b[0m\u001b[0;34m)\u001b[0m\u001b[0;34m\u001b[0m\u001b[0;34m\u001b[0m\u001b[0m\n\u001b[0m\u001b[1;32m    290\u001b[0m         \u001b[0;32mif\u001b[0m \u001b[0mlen\u001b[0m\u001b[0;34m(\u001b[0m\u001b[0mscores\u001b[0m\u001b[0;34m.\u001b[0m\u001b[0mshape\u001b[0m\u001b[0;34m)\u001b[0m \u001b[0;34m==\u001b[0m \u001b[0;36m1\u001b[0m\u001b[0;34m:\u001b[0m\u001b[0;34m\u001b[0m\u001b[0;34m\u001b[0m\u001b[0m\n\u001b[1;32m    291\u001b[0m             \u001b[0mindices\u001b[0m \u001b[0;34m=\u001b[0m \u001b[0;34m(\u001b[0m\u001b[0mscores\u001b[0m \u001b[0;34m>\u001b[0m \u001b[0;36m0\u001b[0m\u001b[0;34m)\u001b[0m\u001b[0;34m.\u001b[0m\u001b[0mastype\u001b[0m\u001b[0;34m(\u001b[0m\u001b[0mnp\u001b[0m\u001b[0;34m.\u001b[0m\u001b[0mint\u001b[0m\u001b[0;34m)\u001b[0m\u001b[0;34m\u001b[0m\u001b[0;34m\u001b[0m\u001b[0m\n",
      "\u001b[0;32m~/.local/lib/python3.6/site-packages/sklearn/linear_model/base.py\u001b[0m in \u001b[0;36mdecision_function\u001b[0;34m(self, X)\u001b[0m\n\u001b[1;32m    271\u001b[0m \u001b[0;34m\u001b[0m\u001b[0m\n\u001b[1;32m    272\u001b[0m         scores = safe_sparse_dot(X, self.coef_.T,\n\u001b[0;32m--> 273\u001b[0;31m                                  dense_output=True) + self.intercept_\n\u001b[0m\u001b[1;32m    274\u001b[0m         \u001b[0;32mreturn\u001b[0m \u001b[0mscores\u001b[0m\u001b[0;34m.\u001b[0m\u001b[0mravel\u001b[0m\u001b[0;34m(\u001b[0m\u001b[0;34m)\u001b[0m \u001b[0;32mif\u001b[0m \u001b[0mscores\u001b[0m\u001b[0;34m.\u001b[0m\u001b[0mshape\u001b[0m\u001b[0;34m[\u001b[0m\u001b[0;36m1\u001b[0m\u001b[0;34m]\u001b[0m \u001b[0;34m==\u001b[0m \u001b[0;36m1\u001b[0m \u001b[0;32melse\u001b[0m \u001b[0mscores\u001b[0m\u001b[0;34m\u001b[0m\u001b[0;34m\u001b[0m\u001b[0m\n\u001b[1;32m    275\u001b[0m \u001b[0;34m\u001b[0m\u001b[0m\n",
      "\u001b[0;32m~/.local/lib/python3.6/site-packages/sklearn/utils/extmath.py\u001b[0m in \u001b[0;36msafe_sparse_dot\u001b[0;34m(a, b, dense_output)\u001b[0m\n\u001b[1;32m    140\u001b[0m         \u001b[0;32mreturn\u001b[0m \u001b[0mret\u001b[0m\u001b[0;34m\u001b[0m\u001b[0;34m\u001b[0m\u001b[0m\n\u001b[1;32m    141\u001b[0m     \u001b[0;32melse\u001b[0m\u001b[0;34m:\u001b[0m\u001b[0;34m\u001b[0m\u001b[0;34m\u001b[0m\u001b[0m\n\u001b[0;32m--> 142\u001b[0;31m         \u001b[0;32mreturn\u001b[0m \u001b[0mnp\u001b[0m\u001b[0;34m.\u001b[0m\u001b[0mdot\u001b[0m\u001b[0;34m(\u001b[0m\u001b[0ma\u001b[0m\u001b[0;34m,\u001b[0m \u001b[0mb\u001b[0m\u001b[0;34m)\u001b[0m\u001b[0;34m\u001b[0m\u001b[0;34m\u001b[0m\u001b[0m\n\u001b[0m\u001b[1;32m    143\u001b[0m \u001b[0;34m\u001b[0m\u001b[0m\n\u001b[1;32m    144\u001b[0m \u001b[0;34m\u001b[0m\u001b[0m\n",
      "\u001b[0;32m<__array_function__ internals>\u001b[0m in \u001b[0;36mdot\u001b[0;34m(*args, **kwargs)\u001b[0m\n",
      "\u001b[0;31mKeyboardInterrupt\u001b[0m: "
     ]
    }
   ],
   "source": [
    "# Fits the explainer\n",
    "explainer = shap.Explainer(logreg.predict, X_test)\n",
    "# Calculates the SHAP values - It takes some time\n",
    "shap_values = explainer(X_test)"
   ]
  },
  {
   "cell_type": "code",
   "execution_count": null,
   "metadata": {},
   "outputs": [],
   "source": [
    "# Evaluate SHAP values\n",
    "# shap_values = explainer.shap_values(X)"
   ]
  },
  {
   "cell_type": "code",
   "execution_count": null,
   "metadata": {},
   "outputs": [],
   "source": [
    "shap.plots.bar(shap_values)\n"
   ]
  },
  {
   "cell_type": "code",
   "execution_count": null,
   "metadata": {},
   "outputs": [],
   "source": [
    "# shap.summary_plot(shap_values)\n",
    "# or \n",
    "shap.plots.beeswarm(shap_values)"
   ]
  },
  {
   "cell_type": "code",
   "execution_count": null,
   "metadata": {},
   "outputs": [],
   "source": [
    "shap.plots.bar(shap_values[0])"
   ]
  },
  {
   "cell_type": "code",
   "execution_count": null,
   "metadata": {},
   "outputs": [],
   "source": [
    "# shap.plots.force(shap_test[0])"
   ]
  },
  {
   "cell_type": "markdown",
   "metadata": {},
   "source": [
    "# XGBoost with Skikit-Learn"
   ]
  },
  {
   "cell_type": "code",
   "execution_count": null,
   "metadata": {},
   "outputs": [],
   "source": [
    "import xgboost as xgb\n",
    "cols=['forks', 'downloads', 'release_counts', 'commits', 'issues', 'closedIssues'] \n",
    "X=repo_df[cols]\n",
    "y=repo_df['1kstars']"
   ]
  },
  {
   "cell_type": "code",
   "execution_count": null,
   "metadata": {},
   "outputs": [],
   "source": [
    "# xgb_model = xgb.XGBClassifier(objective=\"binary:logistic\", random_state=42)\n",
    "# xgb_model.fit(X, y)\n",
    "\n",
    "# y_pred = xgb_model.predict(X)\n",
    "\n",
    "# print(confusion_matrix(y, y_pred))"
   ]
  },
  {
   "cell_type": "code",
   "execution_count": null,
   "metadata": {},
   "outputs": [],
   "source": [
    "xgb_model = xgb.XGBClassifier(objective=\"binary:logistic\", random_state=42, eval_metric=\"auc\")\n",
    "\n",
    "X_train, X_test, y_train, y_test = train_test_split(X, y, random_state=42)\n",
    "\n",
    "xgb_model.fit(X_train, y_train, early_stopping_rounds=10, eval_set=[(X_test, y_test)], verbose=False)\n",
    "\n",
    "xgb.plot_importance(xgb_model)\n",
    "\n",
    "# plot the output tree via matplotlib, specifying the ordinal number of the target tree\n",
    "# xgb.plot_tree(xgb_model, num_trees=xgb_model.best_iteration)\n",
    "\n",
    "# converts the target tree to a graphviz instance\n",
    "xgb.to_graphviz(xgb_model, num_trees=xgb_model.best_iteration)"
   ]
  },
  {
   "cell_type": "code",
   "execution_count": null,
   "metadata": {},
   "outputs": [],
   "source": [
    "\n",
    "from xgboost import XGBClassifier\n",
    "from xgboost import plot_tree\n",
    "import matplotlib.pyplot as plt"
   ]
  },
  {
   "cell_type": "code",
   "execution_count": null,
   "metadata": {},
   "outputs": [],
   "source": [
    "# fig, ax = plt.subplots(figsize=(30, 30))\n",
    "# plot_tree(xgb_model, num_trees=0, rankdir='LR')\n",
    "# plt.show()"
   ]
  },
  {
   "cell_type": "code",
   "execution_count": null,
   "metadata": {},
   "outputs": [],
   "source": [
    "fig, ax = plt.subplots(figsize=(30, 30))\n",
    "\n",
    "plot_tree(xgb_model, num_trees=4, ax=ax)\n",
    "\n",
    "plt.show()\n",
    "plt.savefig(\"tree.pdf\")\n",
    "\n"
   ]
  },
  {
   "cell_type": "code",
   "execution_count": null,
   "metadata": {},
   "outputs": [],
   "source": []
  },
  {
   "cell_type": "code",
   "execution_count": null,
   "metadata": {},
   "outputs": [],
   "source": []
  },
  {
   "cell_type": "code",
   "execution_count": null,
   "metadata": {},
   "outputs": [],
   "source": []
  },
  {
   "cell_type": "code",
   "execution_count": null,
   "metadata": {},
   "outputs": [],
   "source": []
  },
  {
   "cell_type": "code",
   "execution_count": null,
   "metadata": {},
   "outputs": [],
   "source": []
  },
  {
   "cell_type": "code",
   "execution_count": null,
   "metadata": {},
   "outputs": [],
   "source": []
  },
  {
   "cell_type": "code",
   "execution_count": null,
   "metadata": {},
   "outputs": [],
   "source": []
  },
  {
   "cell_type": "code",
   "execution_count": null,
   "metadata": {},
   "outputs": [],
   "source": []
  }
 ],
 "metadata": {
  "kernelspec": {
   "display_name": "crawler",
   "language": "python",
   "name": "crawler"
  },
  "language_info": {
   "codemirror_mode": {
    "name": "ipython",
    "version": 3
   },
   "file_extension": ".py",
   "mimetype": "text/x-python",
   "name": "python",
   "nbconvert_exporter": "python",
   "pygments_lexer": "ipython3",
   "version": "3.9.0"
  }
 },
 "nbformat": 4,
 "nbformat_minor": 2
}
