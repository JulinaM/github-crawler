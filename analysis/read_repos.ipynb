{
 "cells": [
  {
   "cell_type": "code",
   "execution_count": 1,
   "metadata": {},
   "outputs": [
    {
     "name": "stdout",
     "output_type": "stream",
     "text": [
      "SUCCESS connecting to Cloudant db github-public-ai-2022\n"
     ]
    }
   ],
   "source": [
    "import sys\n",
    "sys.path.append('../')\n",
    "from utils import print_json\n",
    "from utils.cloudant_utils import cloudant_db as db, save_doc\n",
    "from datetime import date\n",
    "import numpy as np\n",
    "import pandas as pd"
   ]
  },
  {
   "cell_type": "code",
   "execution_count": 2,
   "metadata": {},
   "outputs": [
    {
     "data": {
      "text/plain": [
       "dict_keys(['repo', 'release_tag', 'release_date', 'downloads', 'stars', 'watchers', 'forks', 'commits', 'issues', 'total_stars', 'total_forks', 'total_commits', 'contributors', 'total_issues', 'total_closedIssues', 'closedIssues', 'readme', 'readme_size'])"
      ]
     },
     "execution_count": 2,
     "metadata": {},
     "output_type": "execute_result"
    }
   ],
   "source": [
    "repos = [r for r in db.get_query_result({\"type\": \"release\"}, [\"_id\", \"releases\"], limit=10000, raw_result=True)[\"docs\"]]\n",
    "repos[0]['releases'][0].keys()"
   ]
  },
  {
   "cell_type": "code",
   "execution_count": 3,
   "metadata": {},
   "outputs": [
    {
     "data": {
      "text/plain": [
       "(46505, 19)"
      ]
     },
     "execution_count": 3,
     "metadata": {},
     "output_type": "execute_result"
    }
   ],
   "source": [
    "values = [r for release in repos for r in release[\"releases\"]]\n",
    "df = pd.DataFrame(values)\n",
    "df.shape "
   ]
  },
  {
   "cell_type": "code",
   "execution_count": 4,
   "metadata": {},
   "outputs": [],
   "source": [
    "# df['contributors'] = df['contributors'].apply(lambda d: d if isinstance(d, list) else [])\n",
    "# df['contributors'] = df['contributors'].apply(lambda x: [i for i in x if i is not None] )\n",
    "df['contributors'] = df['contributors'].apply(lambda x: \n",
    "                                              [i for i in x if i is not None] if isinstance(x, list)\n",
    "                                              else [])"
   ]
  },
  {
   "cell_type": "code",
   "execution_count": 5,
   "metadata": {},
   "outputs": [],
   "source": [
    "# df['contributors'].str.len()\n",
    "# new_df['contributor_count'] = new_df['contributors'].apply(lambda x: len(x))\n",
    "# df['contributor_count'] = df.contributors.map(len)"
   ]
  },
  {
   "cell_type": "code",
   "execution_count": 6,
   "metadata": {},
   "outputs": [
    {
     "data": {
      "text/plain": [
       "(              repo release_tag          release_date  downloads  stars  \\\n",
       " 0  0xangelo/raylab      v0.8.6  2020-07-04T23:46:09Z          0     46   \n",
       " 1        100/Solid         0.1  2017-06-19T07:03:57Z          0      0   \n",
       " 2        100/Solid        0.11  2017-06-19T07:34:34Z          0     60   \n",
       " 3   10up/classifai       1.1.0  2019-03-21T16:35:45Z          0      0   \n",
       " 4   10up/classifai       1.2.0  2019-03-21T16:39:03Z          0      0   \n",
       " \n",
       "    watchers  forks  commits  issues  total_stars  total_forks  total_commits  \\\n",
       " 0         0      6     1183       1           49            7           2655   \n",
       " 1         0      0        0       0          490           50             50   \n",
       " 2         0      9        0       1          550           59             50   \n",
       " 3         0      0        0       0           67            0            391   \n",
       " 4         0      0        0       0           67            0            391   \n",
       " \n",
       "                           contributors  total_issues  total_closedIssues  \\\n",
       " 0  [dependabot-preview[bot], 0xangelo]             5                   2   \n",
       " 1                                   []             5                   0   \n",
       " 2                                   []             6                   0   \n",
       " 3                                   []            83                   0   \n",
       " 4                                   []            83                   0   \n",
       " \n",
       "    closedIssues                                             readme  \\\n",
       " 0             1                                               None   \n",
       " 1             0  # Metaheuristics-library-placeholder\\n\\n## Cur...   \n",
       " 2             0  # Solid\\n\\n## *Solid* is a simple library for ...   \n",
       " 3             0  ## Klasifai\\n\\nClassify WordPress Content usin...   \n",
       " 4             0  # ![ClassifAI](https://cldup.com/zn3_j2A-DL.pn...   \n",
       " \n",
       "    readme_size  total_watchers  \n",
       " 0            0             NaN  \n",
       " 1         1767             NaN  \n",
       " 2         2098             NaN  \n",
       " 3         2839             NaN  \n",
       " 4         4826             NaN  ,\n",
       " (46505, 19))"
      ]
     },
     "execution_count": 6,
     "metadata": {},
     "output_type": "execute_result"
    }
   ],
   "source": [
    "df.head(5), df.shape"
   ]
  },
  {
   "cell_type": "code",
   "execution_count": 7,
   "metadata": {},
   "outputs": [],
   "source": [
    "import os  \n",
    "os.makedirs('csv/', exist_ok=True)  \n",
    "df.to_csv('csv/repos.csv')  "
   ]
  },
  {
   "cell_type": "code",
   "execution_count": null,
   "metadata": {},
   "outputs": [],
   "source": []
  }
 ],
 "metadata": {
  "kernelspec": {
   "display_name": "crawler",
   "language": "python",
   "name": "crawler"
  },
  "language_info": {
   "codemirror_mode": {
    "name": "ipython",
    "version": 3
   },
   "file_extension": ".py",
   "mimetype": "text/x-python",
   "name": "python",
   "nbconvert_exporter": "python",
   "pygments_lexer": "ipython3",
   "version": "3.9.0"
  }
 },
 "nbformat": 4,
 "nbformat_minor": 2
}
